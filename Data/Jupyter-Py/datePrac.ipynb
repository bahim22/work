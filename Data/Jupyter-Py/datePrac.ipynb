{
 "cells": [
  {
   "cell_type": "markdown",
   "metadata": {},
   "source": [
    "# python-dateutil\n",
    "\n",
    "1. datetime(year, month, day[, hour[, minute[, second[, microsecond[,tzinfo]]]]])\n",
    "2. date() Properties (readonly): year, month, day\n",
    "3. class relativedelta()\n",
    "   1. The relativedelta type is designed to be applied to an existing datetime and can replace specific components of that datetime, or represents an interval of time\n",
    "4. \n",
    "\n",
    "```py\n",
    ">>> from datetime import datetime\n",
    ">>> from dateutil.relativedelta import relativedelta, MO\n",
    ">>> dt = datetime(2018, 4, 9, 13, 37, 0)\n",
    ">>> delta = relativedelta(hours=25, day=1, weekday=MO(1))\n",
    ">>> dt + delta\n",
    "datetime.datetime(2018, 4, 2, 14, 37)\n",
    "First, the day is set to 1 (the first of the month), then 25 hours are added, to get to the 2nd day and 14th hour, finally the weekday is applied, but since the 2nd is already a Monday there is no effect.\n",
    "\n",
    "date -R(RFC822)\n",
    " >>> parse(\"Thu, 25 Sep 2003 10:49:41 -0300\")\n",
    "ISO format\n",
    " >>> parse(\"2003-09-25T10:49:41.5-03:00\")\n",
    "```"
   ]
  },
  {
   "cell_type": "code",
   "execution_count": 1,
   "metadata": {},
   "outputs": [],
   "source": [
    "from datetime import *; from dateutil.relativedelta import *\n",
    "import calendar"
   ]
  },
  {
   "cell_type": "code",
   "execution_count": 1,
   "metadata": {},
   "outputs": [
    {
     "ename": "NameError",
     "evalue": "name 'datetime' is not defined",
     "output_type": "error",
     "traceback": [
      "\u001b[0;31m---------------------------------------------------------------------------\u001b[0m",
      "\u001b[0;31mNameError\u001b[0m                                 Traceback (most recent call last)",
      "Cell \u001b[0;32mIn [1], line 1\u001b[0m\n\u001b[0;32m----> 1\u001b[0m NOW \u001b[39m=\u001b[39m datetime\u001b[39m.\u001b[39mnow()\n\u001b[1;32m      2\u001b[0m TODAY \u001b[39m=\u001b[39m date\u001b[39m.\u001b[39mtoday()\n",
      "\u001b[0;31mNameError\u001b[0m: name 'datetime' is not defined"
     ]
    }
   ],
   "source": [
    "NOW = datetime.now()\n",
    "TODAY = date.today()"
   ]
  },
  {
   "cell_type": "code",
   "execution_count": 13,
   "metadata": {},
   "outputs": [
    {
     "data": {
      "text/plain": [
       "datetime.datetime(2022, 7, 28, 9, 3, 17, 674030)"
      ]
     },
     "execution_count": 13,
     "metadata": {},
     "output_type": "execute_result"
    }
   ],
   "source": [
    "NOW"
   ]
  },
  {
   "cell_type": "code",
   "execution_count": 12,
   "metadata": {},
   "outputs": [
    {
     "data": {
      "text/plain": [
       "datetime.date(2022, 7, 28)"
      ]
     },
     "execution_count": 12,
     "metadata": {},
     "output_type": "execute_result"
    }
   ],
   "source": [
    "TODAY"
   ]
  },
  {
   "cell_type": "code",
   "execution_count": 14,
   "metadata": {},
   "outputs": [
    {
     "data": {
      "text/plain": [
       "datetime.datetime(2022, 8, 28, 9, 3, 17, 674030)"
      ]
     },
     "execution_count": 14,
     "metadata": {},
     "output_type": "execute_result"
    }
   ],
   "source": [
    "NOW+relativedelta(months=+1)"
   ]
  },
  {
   "cell_type": "code",
   "execution_count": 1,
   "metadata": {},
   "outputs": [
    {
     "ename": "NameError",
     "evalue": "name 'datetime' is not defined",
     "output_type": "error",
     "traceback": [
      "\u001b[1;31m---------------------------------------------------------------------------\u001b[0m",
      "\u001b[1;31mNameError\u001b[0m                                 Traceback (most recent call last)",
      "\u001b[1;32mc:\\Users\\Ibalde\\CmndPrac\\PyScripts\\datePrac.ipynb Cell 7\u001b[0m in \u001b[0;36m<cell line: 1>\u001b[1;34m()\u001b[0m\n\u001b[1;32m----> <a href='vscode-notebook-cell:/c%3A/Users/Ibalde/CmndPrac/PyScripts/datePrac.ipynb#W6sZmlsZQ%3D%3D?line=0'>1</a>\u001b[0m himabday \u001b[39m=\u001b[39m datetime(\u001b[39m1992\u001b[39m, \u001b[39m1\u001b[39m, \u001b[39m13\u001b[39m, \u001b[39m2\u001b[39m, \u001b[39m22\u001b[39m)\n\u001b[0;32m      <a href='vscode-notebook-cell:/c%3A/Users/Ibalde/CmndPrac/PyScripts/datePrac.ipynb#W6sZmlsZQ%3D%3D?line=1'>2</a>\u001b[0m relativedelta(NOW, himabday)\n\u001b[0;32m      <a href='vscode-notebook-cell:/c%3A/Users/Ibalde/CmndPrac/PyScripts/datePrac.ipynb#W6sZmlsZQ%3D%3D?line=2'>3</a>\u001b[0m relativedelta(TODAY, himabday)\n",
      "\u001b[1;31mNameError\u001b[0m: name 'datetime' is not defined"
     ]
    }
   ],
   "source": [
    "himabday = datetime(1992, 1, 13, 2, 22)\n",
    "relativedelta(NOW, himabday)\n",
    "relativedelta(TODAY, himabday)"
   ]
  },
  {
   "cell_type": "code",
   "execution_count": 17,
   "metadata": {},
   "outputs": [],
   "source": [
    "from dateutil.rrule import *\n",
    "from dateutil.parser import *\n",
    "from datetime import *"
   ]
  },
  {
   "cell_type": "code",
   "execution_count": 18,
   "metadata": {},
   "outputs": [],
   "source": [
    "import pprint; import sys\n",
    "sys.displayhook = pprint.pprint"
   ]
  },
  {
   "cell_type": "code",
   "execution_count": 37,
   "metadata": {},
   "outputs": [
    {
     "data": {
      "text/plain": [
       "[datetime.datetime(2022, 7, 28, 8, 30),\n",
       " datetime.datetime(2022, 7, 29, 8, 30),\n",
       " datetime.datetime(2022, 7, 30, 8, 30),\n",
       " datetime.datetime(2022, 7, 31, 8, 30),\n",
       " datetime.datetime(2022, 8, 1, 8, 30),\n",
       " datetime.datetime(2022, 8, 2, 8, 30),\n",
       " datetime.datetime(2022, 8, 3, 8, 30),\n",
       " datetime.datetime(2022, 8, 4, 8, 30)]"
      ]
     },
     "execution_count": 37,
     "metadata": {},
     "output_type": "execute_result"
    }
   ],
   "source": [
    "nextEightDays = list(rrule(DAILY, count=8, dtstart=parse(\"20220728T0830\"), cache=True))\n",
    "nextEightDays"
   ]
  },
  {
   "cell_type": "code",
   "execution_count": 44,
   "metadata": {},
   "outputs": [
    {
     "data": {
      "text/plain": [
       "[datetime.datetime(2022, 7, 28, 10, 15, 16),\n",
       " datetime.datetime(2022, 7, 29, 10, 15, 16),\n",
       " datetime.datetime(2022, 8, 1, 10, 15, 16),\n",
       " datetime.datetime(2022, 8, 2, 10, 15, 16),\n",
       " datetime.datetime(2022, 8, 3, 10, 15, 16),\n",
       " datetime.datetime(2022, 8, 4, 10, 15, 16),\n",
       " datetime.datetime(2022, 8, 5, 10, 15, 16)]"
      ]
     },
     "execution_count": 44,
     "metadata": {},
     "output_type": "execute_result"
    }
   ],
   "source": [
    "workSchedule = list(rrule(WEEKLY, count=7, wkst=MO, byweekday=(MO,TU,WE,TH,FR), dtstart=datetime.now(), cache=True))\n",
    "workSchedule"
   ]
  },
  {
   "cell_type": "code",
   "execution_count": 43,
   "metadata": {},
   "outputs": [
    {
     "data": {
      "text/plain": [
       "[datetime.datetime(2022, 7, 21, 13, 0),\n",
       " datetime.datetime(2022, 8, 19, 13, 0),\n",
       " datetime.datetime(2022, 9, 17, 13, 0),\n",
       " datetime.datetime(2022, 10, 16, 13, 0)]"
      ]
     },
     "execution_count": 43,
     "metadata": {},
     "output_type": "execute_result"
    }
   ],
   "source": [
    "addSchedule = list(rrulestr(\"FREQ=DAILY;INTERVAL=29;COUNT=4\", dtstart = parse(\"20220721T130000\")))\n",
    "addSchedule"
   ]
  },
  {
   "cell_type": "code",
   "execution_count": 11,
   "metadata": {},
   "outputs": [
    {
     "data": {
      "text/plain": [
       "datetime.datetime(2022, 7, 28, 0, 0)"
      ]
     },
     "execution_count": 11,
     "metadata": {},
     "output_type": "execute_result"
    }
   ],
   "source": [
    "# today's date with datetime function\n",
    "from datetime import *\n",
    "\n",
    "def date_fromisocalender(isoyear, isoweek, isoday):\n",
    "    if sys.version_info < (3, 8):\n",
    "        return datetime.strptime(f'{isoyear}-W{isoweek}-{isoday}', \"%G-W%V-%u\")\n",
    "    else:\n",
    "        return datetime.fromisocalendar(isoyear, isoweek, isoday)\n",
    "# datetime.datetime(year, month, day, hour=0, minute=0, second=0, microsecond=0, tzinfo=None)\n",
    "\n",
    "date_fromisocalender(2022, 30, 4)\n"
   ]
  }
 ],
 "metadata": {
  "kernelspec": {
   "display_name": "Python 3.8.10 ('.venv': venv)",
   "language": "python",
   "name": "python3"
  },
  "language_info": {
   "codemirror_mode": {
    "name": "ipython",
    "version": 3
   },
   "file_extension": ".py",
   "mimetype": "text/x-python",
   "name": "python",
   "nbconvert_exporter": "python",
   "pygments_lexer": "ipython3",
   "version": "3.8.10"
  },
  "orig_nbformat": 4,
  "vscode": {
   "interpreter": {
    "hash": "b545f1625fa56386fc450cd6d102702e190f03a0da4ad1b1a1c1e8ddc5f87243"
   }
  }
 },
 "nbformat": 4,
 "nbformat_minor": 2
}
