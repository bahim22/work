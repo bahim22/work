{
 "cells": [
  {
   "cell_type": "code",
   "execution_count": 1,
   "metadata": {},
   "outputs": [],
   "source": [
    "# Python 3.10 origjnal output \n",
    "\n"
   ]
  },
  {
   "cell_type": "code",
   "execution_count": 2,
   "metadata": {},
   "outputs": [
    {
     "name": "stdout",
     "output_type": "stream",
     "text": [
      "2288.6666666666665\n"
     ]
    }
   ],
   "source": [
    "def full_time_employee():\n",
    "\n",
    "    \"\"\"\n",
    "        Function for full time employees total salary\n",
    "    \"\"\"\n",
    "    \n",
    "    # salary = 17 * 40\n",
    "    monthly = 35000 / 12\n",
    "   # biweekly = monthly / 2\n",
    "    vacation = (17 * 8) * 2\n",
    "    insurance = 50 * 4\n",
    "    ft_total = (monthly + vacation)\n",
    "    net = (ft_total - insurance) - 700\n",
    "    print(net)\n",
    "full_time_employee()"
   ]
  },
  {
   "cell_type": "code",
   "execution_count": 3,
   "metadata": {},
   "outputs": [
    {
     "name": "stdout",
     "output_type": "stream",
     "text": [
      "2288.6666666666665\n"
     ]
    }
   ],
   "source": [
    "full_time_employee()"
   ]
  },
  {
   "cell_type": "code",
   "execution_count": 4,
   "metadata": {},
   "outputs": [
    {
     "name": "stdout",
     "output_type": "stream",
     "text": [
      "272\n"
     ]
    }
   ],
   "source": [
    "\n",
    "vacation = (17 * 8) * 2\n",
    "print(vacation)"
   ]
  },
  {
   "cell_type": "code",
   "execution_count": 5,
   "metadata": {},
   "outputs": [],
   "source": [
    "def black():\n",
    "    full_time = {\n",
    "        \"salary\": 10000,\n",
    "        \"vacation\": 20,\n",
    "        \"insurance\": 1000\n",
    "    }"
   ]
  },
  {
   "cell_type": "code",
   "execution_count": null,
   "metadata": {},
   "outputs": [],
   "source": []
  },
  {
   "cell_type": "code",
   "execution_count": 6,
   "metadata": {},
   "outputs": [
    {
     "name": "stdout",
     "output_type": "stream",
     "text": [
      "2288.6666666666665\n"
     ]
    }
   ],
   "source": [
    "full_time_employee()"
   ]
  },
  {
   "cell_type": "code",
   "execution_count": 7,
   "metadata": {},
   "outputs": [],
   "source": [
    "def employee2():\n",
    "\n",
    "    \"\"\"\n",
    "        Create the function for the part time employees total salary\n",
    "    \"\"\"\n",
    "    \n",
    "    salary = 17 * 25\n",
    "    yearly = 35000 / 12\n",
    "    monthly = (yearly / 4) / 4\n",
    "    vacation = 0\n",
    "    insurance = 20 * 4\n",
    "    pt_total = (salary + vacation) - insurance\n",
    "    return pt_total\n"
   ]
  },
  {
   "cell_type": "code",
   "execution_count": 8,
   "metadata": {},
   "outputs": [],
   "source": [
    "def salary_diff():\n",
    "\n",
    "    \"\"\"\n",
    "        The part time employee makes $17 per hour, pays $20 per week for insurance, gets 0 vacation days, and works 25 hours per week. The full time employee makes the same amount per hour, pays $50 per week for insurance and gets 25 vacation days per year\n",
    "    \"\"\"\n",
    "\n",
    "    print(f'{ft_total - pt_total}')\n",
    "    \n"
   ]
  },
  {
   "cell_type": "code",
   "execution_count": 10,
   "metadata": {},
   "outputs": [
    {
     "name": "stdout",
     "output_type": "stream",
     "text": [
      "2288.6666666666665\n",
      "2288.6666666666665\n"
     ]
    },
    {
     "ename": "TypeError",
     "evalue": "unsupported operand type(s) for *: 'NoneType' and 'int'",
     "output_type": "error",
     "traceback": [
      "\u001b[0;31m---------------------------------------------------------------------------\u001b[0m",
      "\u001b[0;31mTypeError\u001b[0m                                 Traceback (most recent call last)",
      "Cell \u001b[0;32mIn [10], line 49\u001b[0m\n\u001b[1;32m     47\u001b[0m     \u001b[39mprint\u001b[39m(\u001b[39m\"\u001b[39m\u001b[39mThe part time employee makes $\u001b[39m\u001b[39m\"\u001b[39m, pt_total, \u001b[39m\"\u001b[39m\u001b[39mper year.\u001b[39m\u001b[39m\"\u001b[39m)\n\u001b[1;32m     48\u001b[0m     \u001b[39mprint\u001b[39m(\u001b[39mf\u001b[39m\u001b[39m\"\u001b[39m\u001b[39mThe full time employee makes $, \u001b[39m\u001b[39m{\u001b[39;00mft_total \u001b[39m-\u001b[39m pt_total\u001b[39m}\u001b[39;00m\u001b[39m, more than the part time employee.\u001b[39m\u001b[39m\"\u001b[39m)\n\u001b[0;32m---> 49\u001b[0m main()\n\u001b[1;32m     51\u001b[0m \u001b[39mprint\u001b[39m(main())\n",
      "Cell \u001b[0;32mIn [10], line 46\u001b[0m, in \u001b[0;36mmain\u001b[0;34m()\u001b[0m\n\u001b[1;32m     44\u001b[0m ft_total \u001b[39m=\u001b[39m full_time_employee()\n\u001b[1;32m     45\u001b[0m pt_total \u001b[39m=\u001b[39m employee2()\n\u001b[0;32m---> 46\u001b[0m \u001b[39mprint\u001b[39m(\u001b[39mf\u001b[39m\u001b[39m'\u001b[39m\u001b[39mThe full time employee makes $: \u001b[39m\u001b[39m{\u001b[39;00mft_total\u001b[39m}\u001b[39;00m\u001b[39m, per month and \u001b[39m\u001b[39m{\u001b[39;00mft_total \u001b[39m*\u001b[39;49m \u001b[39m12\u001b[39;49m\u001b[39m}\u001b[39;00m\u001b[39m per year.\u001b[39m\u001b[39m'\u001b[39m)\n\u001b[1;32m     47\u001b[0m \u001b[39mprint\u001b[39m(\u001b[39m\"\u001b[39m\u001b[39mThe part time employee makes $\u001b[39m\u001b[39m\"\u001b[39m, pt_total, \u001b[39m\"\u001b[39m\u001b[39mper year.\u001b[39m\u001b[39m\"\u001b[39m)\n\u001b[1;32m     48\u001b[0m \u001b[39mprint\u001b[39m(\u001b[39mf\u001b[39m\u001b[39m\"\u001b[39m\u001b[39mThe full time employee makes $, \u001b[39m\u001b[39m{\u001b[39;00mft_total \u001b[39m-\u001b[39m pt_total\u001b[39m}\u001b[39;00m\u001b[39m, more than the part time employee.\u001b[39m\u001b[39m\"\u001b[39m)\n",
      "\u001b[0;31mTypeError\u001b[0m: unsupported operand type(s) for *: 'NoneType' and 'int'"
     ]
    }
   ],
   "source": [
    "def full_time_employee():\n",
    "    \"\"\"\n",
    "        Function for full time employees total salary\n",
    "    \"\"\"\n",
    "\n",
    "    # salary = 17 * 40\n",
    "    monthly = 35000 / 12\n",
    "   # biweekly = monthly / 2\n",
    "    vacation = (17 * 8) * 2\n",
    "    insurance = 50 * 4\n",
    "    ft_total = (monthly + vacation)\n",
    "    net = (ft_total - insurance) - 700\n",
    "    print(net)\n",
    "\n",
    "\n",
    "full_time_employee()\n",
    "\n",
    "def employee2():\n",
    "    \"\"\"\n",
    "        Create the function for the part time employees total salary\n",
    "    \"\"\"\n",
    "\n",
    "    salary = 17 * 25\n",
    "    yearly = 35000 / 12\n",
    "    monthly = (yearly / 4) / 4\n",
    "    vacation = 0\n",
    "    insurance = 20 * 4\n",
    "    pt_total = (salary + vacation) - insurance\n",
    "    return pt_total\n",
    "employee2()\n",
    "\n",
    "\"\"\" \n",
    "def salary_diff():\n",
    "    \"\"\n",
    "        The part time employee makes $17 per hour, pays $20 per week for insurance, gets 0 vacation days, and works 25 hours per week. The full time employee makes the same amount per hour, pays $50 per week for insurance and gets 25 vacation days per year\n",
    "    \"\"\n",
    "\n",
    "    print(f'{ft_total - pt_total}') \n",
    "\"\"\"\n",
    "    \n",
    "def main():\n",
    "\n",
    "    \"\"\"\n",
    "        Create the main function to call the other functions\n",
    "    \"\"\"\n",
    "    \n",
    "    ft_total = full_time_employee()\n",
    "    pt_total = employee2()\n",
    "    print(f'The full time employee makes $: {ft_total}, per month and {ft_total * 12} per year.')\n",
    "    print(\"The part time employee makes $\", pt_total, \"per year.\")\n",
    "    print(f\"The full time employee makes $, {ft_total - pt_total}, more than the part time employee.\")\n",
    "main()\n",
    "\n",
    "print(main())"
   ]
  }
 ],
 "metadata": {
  "kernelspec": {
   "display_name": ".venv",
   "language": "python",
   "name": "python3"
  },
  "language_info": {
   "codemirror_mode": {
    "name": "ipython",
    "version": 3
   },
   "file_extension": ".py",
   "mimetype": "text/x-python",
   "name": "python",
   "nbconvert_exporter": "python",
   "pygments_lexer": "ipython3",
   "version": "3.10.6"
  },
  "vscode": {
   "interpreter": {
    "hash": "7f3abfc723bf13a883f46e30342236d635a22fb1fbb344f592fa3baf1c25b12f"
   }
  },
  "widgets": {
   "application/vnd.jupyter.widget-state+json": {
    "state": {},
    "version_major": 2,
    "version_minor": 0
   }
  }
 },
 "nbformat": 4,
 "nbformat_minor": 2
}
