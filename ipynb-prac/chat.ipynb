{
 "cells": [
  {
   "cell_type": "code",
   "execution_count": 1,
   "metadata": {},
   "outputs": [
    {
     "name": "stdout",
     "output_type": "stream",
     "text": [
      "The full-time employee has a higher salary.\n"
     ]
    }
   ],
   "source": [
    "# Define constants for tax and insurance rates\n",
    "TAX_RATE = 0.15\n",
    "INSURANCE_RATE = 0.05\n",
    "\n",
    "# Define a function to calculate the salary for a full-time employee\n",
    "def calculate_full_time_salary(hours, rate):\n",
    "  # Calculate the gross salary\n",
    "  gross_salary = hours * rate\n",
    "\n",
    "  # Calculate the tax amount\n",
    "  tax = gross_salary * TAX_RATE\n",
    "\n",
    "  # Calculate the insurance amount\n",
    "  insurance = gross_salary * INSURANCE_RATE\n",
    "\n",
    "  # Calculate the net salary\n",
    "  net_salary = gross_salary - tax - insurance\n",
    "\n",
    "  return net_salary\n",
    "\n",
    "# Define a function to calculate the salary for a part-time employee\n",
    "def calculate_part_time_salary(hours, rate):\n",
    "  # Calculate the gross salary\n",
    "  gross_salary = hours * rate\n",
    "\n",
    "  # Calculate the tax amount\n",
    "  tax = gross_salary * TAX_RATE\n",
    "\n",
    "  # Calculate the net salary\n",
    "  net_salary = gross_salary - tax\n",
    "\n",
    "  return net_salary\n",
    "\n",
    "# Compare the salaries of full-time and part-time employees\n",
    "full_time_hours = 40\n",
    "full_time_rate = 15\n",
    "full_time_salary = calculate_full_time_salary(full_time_hours, full_time_rate)\n",
    "\n",
    "part_time_hours = 20\n",
    "part_time_rate = 12\n",
    "part_time_salary = calculate_part_time_salary(part_time_hours, part_time_rate)\n",
    "\n",
    "if full_time_salary > part_time_salary:\n",
    "  print(\"The full-time employee has a higher salary.\")\n",
    "elif full_time_salary < part_time_salary:\n",
    "  print(\"The part-time employee has a higher salary.\")\n",
    "else:\n",
    "  print(\"The full-time and part-time employees have the same salary.\")\n"
   ]
  }
 ],
 "metadata": {
  "kernelspec": {
   "display_name": ".venv",
   "language": "python",
   "name": "python3"
  },
  "language_info": {
   "codemirror_mode": {
    "name": "ipython",
    "version": 3
   },
   "file_extension": ".py",
   "mimetype": "text/x-python",
   "name": "python",
   "nbconvert_exporter": "python",
   "pygments_lexer": "ipython3",
   "version": "3.10.6"
  },
  "vscode": {
   "interpreter": {
    "hash": "7f3abfc723bf13a883f46e30342236d635a22fb1fbb344f592fa3baf1c25b12f"
   }
  }
 },
 "nbformat": 4,
 "nbformat_minor": 2
}
