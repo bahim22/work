{
 "cells": [
  {
   "cell_type": "code",
   "execution_count": 1,
   "metadata": {},
   "outputs": [
    {
     "name": "stdout",
     "output_type": "stream",
     "text": [
      "The full-time employee has a higher salary at 2321.6        and works 144 hours         the pt employee makes: 1276.0         and works 100.\n"
     ]
    }
   ],
   "source": [
    "# Define constants for tax and insurance rates\n",
    "TAX_RATE = 0.22\n",
    "INSURANCE_RATE = 0.07\n",
    "\n",
    "# Define a function to calculate the salary for a full-time employee\n",
    "def calculate_full_time_salary(hours, rate):\n",
    "  # Calculate the gross salary\n",
    "  gross_salary = hours * rate\n",
    "\n",
    "  # Calculate the tax amount\n",
    "  tax = gross_salary * TAX_RATE\n",
    "\n",
    "  # Calculate the insurance amount\n",
    "  insurance = gross_salary * INSURANCE_RATE\n",
    "\n",
    "  # Calculate the net salary\n",
    "  net_salary = ((gross_salary - tax) * 4) + 200\n",
    "\n",
    "  return net_salary\n",
    "\n",
    "# Define a function to calculate the salary for a part-time employee\n",
    "def calculate_part_time_salary(hours, rate):\n",
    "  # Calculate the gross salary\n",
    "  gross_salary = hours * rate\n",
    "\n",
    "  # Calculate the tax amount\n",
    "  tax, insurance = gross_salary * TAX_RATE, 50\n",
    "\n",
    "  # Calculate the net salary\n",
    "  net_salary = ((gross_salary - tax) * 4) - insurance\n",
    "\n",
    "  return net_salary\n",
    "\n",
    "# Compare the salaries of full-time and part-time employees\n",
    "full_time_hours = 40\n",
    "full_time_rate = 17\n",
    "monthy_hours_ft = (full_time_hours * 4) - 16\n",
    "full_time_salary = calculate_full_time_salary(full_time_hours, full_time_rate)\n",
    "\n",
    "part_time_hours = 25\n",
    "monthy_hours_pt = part_time_hours * 4\n",
    "part_time_rate = 17\n",
    "part_time_salary = calculate_part_time_salary(part_time_hours, part_time_rate)\n",
    "\n",
    "if full_time_salary > part_time_salary:\n",
    "  print(f\"The full-time employee has a higher salary at {full_time_salary} \\\n",
    "        and works {monthy_hours_ft} hours \\\n",
    "        the pt employee makes: {part_time_salary} \\\n",
    "        and works {monthy_hours_pt}.\")\n",
    "elif full_time_salary < part_time_salary:\n",
    "  print(\"The part-time employee has a higher salary.\")\n",
    "else:\n",
    "  print(\"The full-time and part-time employees have the same salary.\")\n"
   ]
  },
  {
   "cell_type": "code",
   "execution_count": 2,
   "metadata": {},
   "outputs": [
    {
     "name": "stdout",
     "output_type": "stream",
     "text": [
      "full time salary:  2321.6\n"
     ]
    }
   ],
   "source": [
    "print(\"full time salary: \", full_time_salary )"
   ]
  },
  {
   "cell_type": "code",
   "execution_count": 3,
   "metadata": {},
   "outputs": [
    {
     "name": "stdout",
     "output_type": "stream",
     "text": [
      "part time salary:  1276.0\n"
     ]
    }
   ],
   "source": [
    "print(\"part time salary: \", part_time_salary)"
   ]
  },
  {
   "attachments": {},
   "cell_type": "markdown",
   "metadata": {},
   "source": [
    "## Example argparse and pip programs to study"
   ]
  },
  {
   "cell_type": "code",
   "execution_count": null,
   "metadata": {},
   "outputs": [],
   "source": [
    "import argparse\n",
    "import sys\n",
    "\n",
    "\n",
    "parser = argparse.ArgumentParser(\n",
    "    description='sum the integers at the command line')\n",
    "parser.add_argument(\n",
    "    'integers', metavar='int', nargs='+', type=int,\n",
    "    help='an integer to be summed')\n",
    "parser.add_argument(\n",
    "    '--log', default=sys.stdout, type=argparse.FileType('w'),\n",
    "    help='the file where the sum should be written')\n",
    "args = parser.parse_args()\n",
    "args.log.write('%s' % sum(args.integers))\n",
    "args.log.close()\n"
   ]
  },
  {
   "cell_type": "code",
   "execution_count": null,
   "metadata": {},
   "outputs": [],
   "source": [
    "# If you're wondering how this is created, it is generated using\n",
    "# `scripts/generate.py` in https://github.com/pypa/get-pip.\n",
    "\n",
    "from base64 import b85decode\n",
    "import importlib\n",
    "import argparse\n",
    "import tempfile\n",
    "import shutil\n",
    "import pkgutil\n",
    "import os.path\n",
    "import sys\n",
    "\n",
    "this_python = sys.version_info[:2]\n",
    "min_version = (3, 7)\n",
    "if this_python < min_version:\n",
    "    message_parts = [\n",
    "        \"This script does not work on Python {}.{}\".format(*this_python),\n",
    "        \"The minimum supported Python version is {}.{}.\".format(*min_version),\n",
    "        \"Please use https://bootstrap.pypa.io/pip/{}.{}/get-pip.py instead.\".format(\n",
    "            *this_python),\n",
    "    ]\n",
    "    print(\"ERROR: \" + \" \".join(message_parts))\n",
    "    sys.exit(1)\n",
    "\n",
    "\n",
    "def include_setuptools(args):\n",
    "    \"\"\"\n",
    "    Install setuptools only if absent and not excluded.\n",
    "    \"\"\"\n",
    "    cli = not args.no_setuptools\n",
    "    env = not os.environ.get(\"PIP_NO_SETUPTOOLS\")\n",
    "    absent = not importlib.util.find_spec(\"setuptools\")\n",
    "    return cli and env and absent\n",
    "\n",
    "\n",
    "def include_wheel(args):\n",
    "    \"\"\"\n",
    "    Install wheel only if absent and not excluded.\n",
    "    \"\"\"\n",
    "    cli = not args.no_wheel\n",
    "    env = not os.environ.get(\"PIP_NO_WHEEL\")\n",
    "    absent = not importlib.util.find_spec(\"wheel\")\n",
    "    return cli and env and absent\n",
    "\n",
    "\n",
    "def determine_pip_install_arguments():\n",
    "    pre_parser = argparse.ArgumentParser()\n",
    "    pre_parser.add_argument(\"--no-setuptools\", action=\"store_true\")\n",
    "    pre_parser.add_argument(\"--no-wheel\", action=\"store_true\")\n",
    "    pre, args = pre_parser.parse_known_args()\n",
    "\n",
    "    args.append(\"pip\")\n",
    "\n",
    "    if include_setuptools(pre):\n",
    "        args.append(\"setuptools\")\n",
    "\n",
    "    if include_wheel(pre):\n",
    "        args.append(\"wheel\")\n",
    "\n",
    "    return [\"install\", \"--upgrade\", \"--force-reinstall\"] + args\n",
    "\n",
    "\n",
    "def monkeypatch_for_cert(tmpdir):\n",
    "    \"\"\"Patches `pip install` to provide default certificate with the lowest priority.\n",
    "\n",
    "    This ensures that the bundled certificates are used unless the user specifies a\n",
    "    custom cert via any of pip's option passing mechanisms (config, env-var, CLI).\n",
    "\n",
    "    A monkeypatch is the easiest way to achieve this, without messing too much with\n",
    "    the rest of pip's internals.\n",
    "    \"\"\"\n",
    "    from pip._internal.commands.install import InstallCommand\n",
    "\n",
    "    # We want to be using the internal certificates.\n",
    "    cert_path = os.path.join(tmpdir, \"cacert.pem\")\n",
    "    with open(cert_path, \"wb\") as cert:\n",
    "        cert.write(pkgutil.get_data(\"pip._vendor.certifi\", \"cacert.pem\"))\n",
    "\n",
    "    install_parse_args = InstallCommand.parse_args\n",
    "\n",
    "    def cert_parse_args(self, args):\n",
    "        if not self.parser.get_default_values().cert:\n",
    "            # There are no user provided cert -- force use of bundled cert\n",
    "            self.parser.defaults[\"cert\"] = cert_path  # calculated above\n",
    "        return install_parse_args(self, args)\n",
    "\n",
    "    InstallCommand.parse_args = cert_parse_args\n",
    "\n",
    "\n",
    "def bootstrap(tmpdir):\n",
    "    monkeypatch_for_cert(tmpdir)\n",
    "\n",
    "    # Execute the included pip and use it to install the latest pip and\n",
    "    # setuptools from PyPI\n",
    "    from pip._internal.cli.main import main as pip_entry_point\n",
    "    args = determine_pip_install_arguments()\n",
    "    sys.exit(pip_entry_point(args))\n",
    "\n",
    "\n",
    "def main():\n",
    "    tmpdir = None\n",
    "    try:\n",
    "        # Create a temporary working directory\n",
    "        tmpdir = tempfile.mkdtemp()\n",
    "\n",
    "        # Unpack the zipfile into the temporary directory\n",
    "        pip_zip = os.path.join(tmpdir, \"pip.zip\")\n",
    "        with open(pip_zip, \"wb\") as fp:\n",
    "            fp.write(b85decode(DATA.replace(b\"\\n\", b\"\")))\n",
    "\n",
    "        # Add the zipfile to sys.path so that we can import it\n",
    "        sys.path.insert(0, pip_zip)\n",
    "\n",
    "        # Run the bootstrap\n",
    "        bootstrap(tmpdir=tmpdir)\n",
    "    finally:\n",
    "        # Clean up our temporary working directory\n",
    "        if tmpdir:\n",
    "            shutil.rmtree(tmpdir, ignore_errors=True)\n"
   ]
  }
 ],
 "metadata": {
  "kernelspec": {
   "display_name": ".venv",
   "language": "python",
   "name": "python3"
  },
  "language_info": {
   "codemirror_mode": {
    "name": "ipython",
    "version": 3
   },
   "file_extension": ".py",
   "mimetype": "text/x-python",
   "name": "python",
   "nbconvert_exporter": "python",
   "pygments_lexer": "ipython3",
   "version": "3.10.6 (main, Nov  2 2022, 18:53:38) [GCC 11.3.0]"
  },
  "vscode": {
   "interpreter": {
    "hash": "7f3abfc723bf13a883f46e30342236d635a22fb1fbb344f592fa3baf1c25b12f"
   }
  }
 },
 "nbformat": 4,
 "nbformat_minor": 2
}
