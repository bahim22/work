{
 "cells": [
  {
   "cell_type": "code",
   "execution_count": 9,
   "metadata": {},
   "outputs": [
    {
     "name": "stdout",
     "output_type": "stream",
     "text": [
      "{1: 10, 2: 20} {3: 30, 4: 40} {5: 50, 6: 60}\n"
     ]
    }
   ],
   "source": [
    "d11, d22, d33 = {1:10, 2:20}, {3:30, 4:40}, {5:50, 6:60}\n",
    "print(d11,d22,d33)"
   ]
  },
  {
   "cell_type": "code",
   "execution_count": 10,
   "metadata": {},
   "outputs": [
    {
     "name": "stdout",
     "output_type": "stream",
     "text": [
      "{1: 10, 2: 20, 3: 30, 4: 40, 5: 50, 6: 60}\n"
     ]
    }
   ],
   "source": [
    "d1 = {1:10, 2:20}\n",
    "d2 = {3:30, 4:40}\n",
    "d3 = {5:50, 6:60}\n",
    "d4 = {}\n",
    "\n",
    "for x in (d1, d2, d3): d4.update(x)\n",
    "print(d4)"
   ]
  },
  {
   "cell_type": "code",
   "execution_count": 12,
   "metadata": {},
   "outputs": [],
   "source": [
    "def lister2(r1, r2):\n",
    "    return [item for item in range(r1, r2+1)]"
   ]
  },
  {
   "cell_type": "code",
   "execution_count": 13,
   "metadata": {},
   "outputs": [],
   "source": [
    "r1, r2 = 0, 10"
   ]
  },
  {
   "cell_type": "code",
   "execution_count": 14,
   "metadata": {},
   "outputs": [
    {
     "name": "stdout",
     "output_type": "stream",
     "text": [
      "[0, 1, 2, 3, 4, 5, 6, 7, 8, 9, 10]\n"
     ]
    }
   ],
   "source": [
    "print(lister2(r1, r2))"
   ]
  },
  {
   "cell_type": "code",
   "execution_count": 15,
   "metadata": {},
   "outputs": [],
   "source": [
    "def lister4(r1, r2):\n",
    "    return list(range(r1, r2+1))"
   ]
  },
  {
   "cell_type": "code",
   "execution_count": 16,
   "metadata": {},
   "outputs": [
    {
     "name": "stdout",
     "output_type": "stream",
     "text": [
      "[0, 1, 2, 3, 4, 5]\n"
     ]
    }
   ],
   "source": [
    "r1, r2 = 0, 10\n",
    "print(lister4(r1,r2))"
   ]
  },
  {
   "cell_type": "code",
   "execution_count": null,
   "metadata": {},
   "outputs": [],
   "source": []
  },
  {
   "cell_type": "code",
   "execution_count": null,
   "metadata": {},
   "outputs": [],
   "source": []
  },
  {
   "cell_type": "code",
   "execution_count": null,
   "metadata": {},
   "outputs": [
    {
     "name": "stdout",
     "output_type": "stream",
     "text": [
      "[{'Hima': 'kdkkd'}, {'Hima': 'kdkkd'}]\n",
      "[{'word': 'kentucky', 'score': 129541}, {'word': 'pitt', 'score': 64667}]\n"
     ]
    }
   ],
   "source": [
    "def lstr():\n",
    "    dataText = [{\"word\":\"kentucky\",\"score\":129541},{\"word\":\"pitt\",\"score\":64667}]\n",
    "    lst = []\n",
    "\n",
    "    # for i in data.text:\n",
    "    for i in dataText:\n",
    "        lst.insert(2, {\"Hima\":\"kdkkd\"})\n",
    "        # lst.append({\"word\": \"Hima\", \"score\": 13235})\n",
    "\n",
    "    print(lst)\n",
    "    # print(dataText)\n",
    "lstr()"
   ]
  },
  {
   "cell_type": "code",
   "execution_count": null,
   "metadata": {},
   "outputs": [],
   "source": []
  },
  {
   "cell_type": "code",
   "execution_count": null,
   "metadata": {},
   "outputs": [
    {
     "name": "stdout",
     "output_type": "stream",
     "text": [
      "[{'word': 'Hima', 'score': 13235}, {'word': 'Hima', 'score': 13235}]\n"
     ]
    }
   ],
   "source": [
    "def lstr():\n",
    "    dataText = [{\"word\":\"kentucky\",\"score\":129541},{\"word\":\"pitt\",\"score\":64667}]\n",
    "    lst = []\n",
    "\n",
    "    # for i in data.text:\n",
    "    for i in dataText:\n",
    "        # lst.insert(2, {\"Hima\":\"kdkkd\"})\n",
    "        lst.append({\"word\": \"Hima\", \"score\": 13235})\n",
    "\n",
    "    print(lst)\n",
    "    # print(dataText)\n",
    "lstr()"
   ]
  },
  {
   "cell_type": "code",
   "execution_count": 36,
   "metadata": {},
   "outputs": [
    {
     "name": "stdout",
     "output_type": "stream",
     "text": [
      "[{1.0: 1.5, 2.0: 3, 3.0: 6, 3.2: 16}] \n",
      " {1.0: 1.5, 2.0: 3, 3.0: 6, 3.2: 16} \n",
      " {1.0: 'Gbps', 2.0: 'Gbps', 3.0: 'Gbps', 3.2: 'Gbps'} \n",
      "dict_values(['Gbps', 'Gbps', 'Gbps', 'Gbps'])\n"
     ]
    }
   ],
   "source": [
    "# gb = 'Gbps'\n",
    "# revision_speed = [{1.0: 1.5}, {2.0: 3}, {3.0: 6}, {3.2: 16}]\n",
    "revision_speed = [{1.0: 1.5, 2.0: 3, 3.0: 6, 3.2: 16}]\n",
    "revision_speed2 = {1.0: 1.5, 2.0: 3, 3.0: 6, 3.2: 16}\n",
    "revision_speed22 = {1.0: 'Gbps', 2.0: 'Gbps', 3.0: 'Gbps', 3.2: 'Gbps'}\n",
    "\n",
    "rev_val = revision_speed22.values()\n",
    "print(f'{revision_speed} \\n {revision_speed2} \\n {revision_speed22} \\n{rev_val}')\n",
    "\n",
    "\n",
    "# for x, y in revision_speed:\n",
    "    # print()\n"
   ]
  },
  {
   "cell_type": "code",
   "execution_count": 28,
   "metadata": {},
   "outputs": [
    {
     "name": "stdout",
     "output_type": "stream",
     "text": [
      "dict_keys([1.0, 2.0, 3.0, 3.2])\n"
     ]
    }
   ],
   "source": [
    "res = revision_speed2.keys()\n",
    "print(res)"
   ]
  },
  {
   "cell_type": "code",
   "execution_count": 45,
   "metadata": {},
   "outputs": [
    {
     "name": "stdout",
     "output_type": "stream",
     "text": [
      "dict_keys([1.0, 2.0, 3.0, 3.2]) dict_values([1.5, 3, 6, 16])\n",
      "dict_keys([1.0, 2.0, 3.0, 3.2]) dict_values(['Gbps', 'Gbps', 'Gbps', 'Gbps'])\n",
      "dict_keys([1.0, 2.0, 3.0, 3.2])dict_values(['Gbps', 'Gbps', 'Gbps', 'Gbps'])\n"
     ]
    }
   ],
   "source": [
    "rev_key2 = str(revision_speed2.keys())\n",
    "rev_val2 = str(revision_speed2.values())\n",
    "print(rev_key2, rev_val2)\n",
    "\n",
    "rev_key22 = str(revision_speed22.keys())\n",
    "rev_val22 = str(revision_speed22.values())\n",
    "\n",
    "print(rev_key22, rev_val22)\n",
    "\n",
    "# ans = print(f'{str(revision_speed2.values()) + str(revision_speed22.values())}')\n",
    "ans2 = print(f'{rev_key2 + rev_val22}')\n"
   ]
  },
  {
   "cell_type": "code",
   "execution_count": null,
   "metadata": {},
   "outputs": [],
   "source": [
    "str_rev2 = str(revision_speed2.keys())\n",
    "str_val2 = str(revision_speed22.values())\n",
    "\n",
    "int_rev2 = int('revision_speed2.keys()')\n",
    "print(str_rev2, str_val2, int_rev2)"
   ]
  },
  {
   "cell_type": "code",
   "execution_count": 69,
   "metadata": {},
   "outputs": [
    {
     "name": "stdout",
     "output_type": "stream",
     "text": [
      "dict_keys([1, 2, 3]) dict_keys([1, 2, 3])\n",
      "dict_values(['1.5', '3', '16']) dict_values(['Gbps', 'Gbps', 'Gbps'])\n"
     ]
    }
   ],
   "source": [
    "revision7 = {1: '1.5', 2: '3', 3: '6', 3: '16'}\n",
    "revision77 = {1: 'Gbps', 2: 'Gbps', 3: 'Gbps', 3: 'Gbps'}\n",
    "\n",
    "print(revision7.keys(), revision77.keys())\n",
    "print(revision7.values(), revision77.values())"
   ]
  },
  {
   "cell_type": "code",
   "execution_count": 74,
   "metadata": {},
   "outputs": [
    {
     "name": "stdout",
     "output_type": "stream",
     "text": [
      "[1, 2, 3]\n"
     ]
    }
   ],
   "source": [
    "valss = list(revision77.keys())\n",
    "print(valss)"
   ]
  },
  {
   "cell_type": "code",
   "execution_count": 70,
   "metadata": {},
   "outputs": [],
   "source": [
    "st_rev7 = str(revision7)\n",
    "st_rev77 = str(revision77)"
   ]
  },
  {
   "cell_type": "code",
   "execution_count": 72,
   "metadata": {},
   "outputs": [
    {
     "ename": "AttributeError",
     "evalue": "'str' object has no attribute 'keys'",
     "output_type": "error",
     "traceback": [
      "\u001b[0;31m---------------------------------------------------------------------------\u001b[0m",
      "\u001b[0;31mAttributeError\u001b[0m                            Traceback (most recent call last)",
      "Cell \u001b[0;32mIn [72], line 1\u001b[0m\n\u001b[0;32m----> 1\u001b[0m answr \u001b[39m=\u001b[39m {key: st_rev7[key] \u001b[39m+\u001b[39m st_rev77\u001b[39m.\u001b[39mget(key, \u001b[39m'\u001b[39m\u001b[39m'\u001b[39m) \u001b[39mfor\u001b[39;00m key \u001b[39min\u001b[39;00m st_rev7\u001b[39m.\u001b[39;49mkeys()}\n\u001b[1;32m      2\u001b[0m \u001b[39m# print(str(answr))\u001b[39;00m\n\u001b[1;32m      3\u001b[0m \u001b[39mprint\u001b[39m(answr)\n",
      "\u001b[0;31mAttributeError\u001b[0m: 'str' object has no attribute 'keys'"
     ]
    }
   ],
   "source": [
    "answr = {key: st_rev7[key] + st_rev77.get(key, '') for key in st_rev7.keys()}\n",
    "# print(str(answr))\n",
    "print(answr)"
   ]
  },
  {
   "cell_type": "code",
   "execution_count": 21,
   "metadata": {},
   "outputs": [
    {
     "name": "stdout",
     "output_type": "stream",
     "text": [
      "New stringified dict: {1.0: 1.5, 2.0: 3, 3.0: 6, 3.2: 16} \n",
      " {1.0: 'Gbps', 2.0: 'Gbps', 3.0: 'Gbps', 3.2: 'Gbps'}\n"
     ]
    }
   ],
   "source": [
    "new_rev = str(revision_speed2)\n",
    "new_rev2 = str(revision_speed22)\n",
    "print(f'New stringified dict: {new_rev} \\n {new_rev2}')"
   ]
  },
  {
   "cell_type": "code",
   "execution_count": 26,
   "metadata": {},
   "outputs": [
    {
     "name": "stdout",
     "output_type": "stream",
     "text": [
      "New stringified dict: {1.0: 1.5, 2.0: 3, 3.0: 6, 3.2: 16}\n"
     ]
    }
   ],
   "source": [
    "new_rev = str(revision_speed2)\n",
    "print(f'New stringified dict: {new_rev}')"
   ]
  },
  {
   "cell_type": "code",
   "execution_count": 30,
   "metadata": {},
   "outputs": [
    {
     "name": "stdout",
     "output_type": "stream",
     "text": [
      "{1.0: 1.5, 2.0: 3, 3.0: 6, 3.2: 16}\n"
     ]
    }
   ],
   "source": [
    "print(f'{new_rev}')"
   ]
  },
  {
   "cell_type": "code",
   "execution_count": null,
   "metadata": {},
   "outputs": [],
   "source": [
    "res = {key: new_rev[key] + new_rev2(key, '') for key in new_rev.keys()}\n",
    "print(f\"dict concat is:{str(res)}\")"
   ]
  },
  {
   "cell_type": "code",
   "execution_count": null,
   "metadata": {},
   "outputs": [],
   "source": []
  },
  {
   "cell_type": "markdown",
   "metadata": {},
   "source": []
  }
 ],
 "metadata": {
  "kernelspec": {
   "display_name": "Python 3.8.10 ('.venv': venv)",
   "language": "python",
   "name": "python3"
  },
  "language_info": {
   "codemirror_mode": {
    "name": "ipython",
    "version": 3
   },
   "file_extension": ".py",
   "mimetype": "text/x-python",
   "name": "python",
   "nbconvert_exporter": "python",
   "pygments_lexer": "ipython3",
   "version": "3.8.10"
  },
  "orig_nbformat": 4,
  "vscode": {
   "interpreter": {
    "hash": "3bbfbb50d7f9d1744171a66d1182335b07328b0cb7bc3f83512aab5e969c6d77"
   }
  }
 },
 "nbformat": 4,
 "nbformat_minor": 2
}
