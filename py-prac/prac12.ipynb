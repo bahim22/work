{
 "cells": [
  {
   "cell_type": "code",
   "execution_count": null,
   "metadata": {},
   "outputs": [],
   "source": [
    "d11, d22, d33 = {1:10, 2:20}, {3:30, 4:40}, {5:50, 6:60}\n",
    "print(d11,d22,d33)"
   ]
  },
  {
   "cell_type": "code",
   "execution_count": null,
   "metadata": {},
   "outputs": [],
   "source": [
    "1, 2 == 'black', 'white'"
   ]
  },
  {
   "cell_type": "code",
   "execution_count": 10,
   "metadata": {},
   "outputs": [
    {
     "ename": "FileNotFoundError",
     "evalue": "[Errno 2] No such file or directory: '../PipRep.json' -> '../.venv/Reports'",
     "output_type": "error",
     "traceback": [
      "\u001b[0;31m---------------------------------------------------------------------------\u001b[0m",
      "\u001b[0;31mFileNotFoundError\u001b[0m                         Traceback (most recent call last)",
      "Cell \u001b[0;32mIn [10], line 5\u001b[0m\n\u001b[1;32m      1\u001b[0m \u001b[39mimport\u001b[39;00m \u001b[39mos\u001b[39;00m\n\u001b[1;32m      3\u001b[0m \u001b[39m# os.remove('../requirements3.txt')\u001b[39;00m\n\u001b[1;32m      4\u001b[0m \u001b[39m# removedirs()\u001b[39;00m\n\u001b[0;32m----> 5\u001b[0m os\u001b[39m.\u001b[39;49mrenames(\u001b[39m'\u001b[39;49m\u001b[39m../PipRep.json\u001b[39;49m\u001b[39m'\u001b[39;49m, \u001b[39m'\u001b[39;49m\u001b[39m../.venv/Reports\u001b[39;49m\u001b[39m'\u001b[39;49m)\n",
      "File \u001b[0;32m/usr/lib/python3.10/os.py:272\u001b[0m, in \u001b[0;36mrenames\u001b[0;34m(old, new)\u001b[0m\n\u001b[1;32m    270\u001b[0m \u001b[39mif\u001b[39;00m head \u001b[39mand\u001b[39;00m tail \u001b[39mand\u001b[39;00m \u001b[39mnot\u001b[39;00m path\u001b[39m.\u001b[39mexists(head):\n\u001b[1;32m    271\u001b[0m     makedirs(head)\n\u001b[0;32m--> 272\u001b[0m rename(old, new)\n\u001b[1;32m    273\u001b[0m head, tail \u001b[39m=\u001b[39m path\u001b[39m.\u001b[39msplit(old)\n\u001b[1;32m    274\u001b[0m \u001b[39mif\u001b[39;00m head \u001b[39mand\u001b[39;00m tail:\n",
      "\u001b[0;31mFileNotFoundError\u001b[0m: [Errno 2] No such file or directory: '../PipRep.json' -> '../.venv/Reports'"
     ]
    }
   ],
   "source": [
    "import os\n",
    "\n",
    "# os.remove('../requirements3.txt')\n",
    "# removedirs()\n",
    "os.renames('../PipRep.json', '../.venv/Reports')\n",
    "\n"
   ]
  },
  {
   "cell_type": "code",
   "execution_count": null,
   "metadata": {},
   "outputs": [],
   "source": [
    "import os, sys\n",
    "\n",
    "def try_path(head, tail):\n",
    "    # old = str(input('Enter # of hours worked per week: '))\n",
    "    old = str(input('Enter name of old dir: '))\n",
    "    new = str(input('Enter new name for old dir: '))\n",
    "    if head and tail and not os.path.exists(head):\n",
    "        os.makedirs(head)\n",
    "    os.rename(old, new)\n",
    "    head, tail = os.path.split(old)\n",
    "    if head and tail:\n",
    "        print('file renamed')\n"
   ]
  },
  {
   "cell_type": "code",
   "execution_count": null,
   "metadata": {},
   "outputs": [],
   "source": [
    "os.removedirs('../.venv/pipCache/http/')"
   ]
  },
  {
   "cell_type": "code",
   "execution_count": null,
   "metadata": {},
   "outputs": [],
   "source": [
    "\n",
    "def base_rem():\n",
    "    if head and tail and not path.exists(head):\n",
    "        makedirs(head)\n",
    "    rename(old, new)\n",
    "    head, tail = path.split(old)\n",
    "    if head and tail:"
   ]
  },
  {
   "cell_type": "code",
   "execution_count": null,
   "metadata": {},
   "outputs": [],
   "source": [
    "def remdir(name):\n",
    "    rmdir(name)\n",
    "    head, tail = path.split(name)\n",
    "    if not tail:"
   ]
  },
  {
   "cell_type": "code",
   "execution_count": 7,
   "metadata": {},
   "outputs": [],
   "source": [
    "def pip_dir_clean():\n",
    "    os.renames('../.venv/Reports','../Reports/reports2.json')\n",
    "\n",
    "pip_dir_clean()"
   ]
  },
  {
   "cell_type": "code",
   "execution_count": null,
   "metadata": {},
   "outputs": [],
   "source": [
    "d1 = {1:10, 2:20}\n",
    "d2 = {3:30, 4:40}\n",
    "d3 = {5:50, 6:60}\n",
    "d4 = {}\n",
    "\n",
    "for x in (d1, d2, d3): d4.update(x)\n",
    "print(d4)"
   ]
  },
  {
   "cell_type": "code",
   "execution_count": null,
   "metadata": {},
   "outputs": [],
   "source": [
    "def lister2(r1, r2):\n",
    "    return [item for item in range(r1, r2+1)]"
   ]
  },
  {
   "cell_type": "code",
   "execution_count": null,
   "metadata": {},
   "outputs": [],
   "source": [
    "r1, r2 = 0, 10"
   ]
  },
  {
   "cell_type": "code",
   "execution_count": null,
   "metadata": {},
   "outputs": [],
   "source": [
    "print(lister2(r1, r2))"
   ]
  },
  {
   "cell_type": "code",
   "execution_count": null,
   "metadata": {},
   "outputs": [],
   "source": [
    "def lister4(r1, r2):\n",
    "    return list(range(r1, r2+1))"
   ]
  },
  {
   "cell_type": "code",
   "execution_count": null,
   "metadata": {},
   "outputs": [],
   "source": [
    "r1, r2 = 0, 10\n",
    "print(lister4(r1,r2))"
   ]
  },
  {
   "cell_type": "code",
   "execution_count": null,
   "metadata": {},
   "outputs": [],
   "source": []
  },
  {
   "cell_type": "code",
   "execution_count": null,
   "metadata": {},
   "outputs": [],
   "source": []
  },
  {
   "cell_type": "code",
   "execution_count": null,
   "metadata": {},
   "outputs": [],
   "source": [
    "def lstr():\n",
    "    dataText = [{\"word\":\"kentucky\",\"score\":129541},{\"word\":\"pitt\",\"score\":64667}]\n",
    "    lst = []\n",
    "\n",
    "    # for i in data.text:\n",
    "    for i in dataText:\n",
    "        lst.insert(2, {\"Hima\":\"kdkkd\"})\n",
    "        # lst.append({\"word\": \"Hima\", \"score\": 13235})\n",
    "\n",
    "    print(lst)\n",
    "    # print(dataText)\n",
    "lstr()"
   ]
  },
  {
   "cell_type": "code",
   "execution_count": null,
   "metadata": {},
   "outputs": [],
   "source": []
  },
  {
   "cell_type": "code",
   "execution_count": null,
   "metadata": {},
   "outputs": [],
   "source": [
    "def lstr():\n",
    "    dataText = [{\"word\":\"kentucky\",\"score\":129541},{\"word\":\"pitt\",\"score\":64667}]\n",
    "    lst = []\n",
    "\n",
    "    # for i in data.text:\n",
    "    for i in dataText:\n",
    "        # lst.insert(2, {\"Hima\":\"kdkkd\"})\n",
    "        lst.append({\"word\": \"Hima\", \"score\": 13235})\n",
    "\n",
    "    print(lst)\n",
    "    # print(dataText)\n",
    "lstr()"
   ]
  },
  {
   "cell_type": "code",
   "execution_count": null,
   "metadata": {},
   "outputs": [],
   "source": [
    "# gb = 'Gbps'\n",
    "# revision_speed = [{1.0: 1.5}, {2.0: 3}, {3.0: 6}, {3.2: 16}]\n",
    "revision_speed = [{1.0: 1.5, 2.0: 3, 3.0: 6, 3.2: 16}]\n",
    "revision_speed2 = {1.0: 1.5, 2.0: 3, 3.0: 6, 3.2: 16}\n",
    "revision_speed22 = {1.0: 'Gbps', 2.0: 'Gbps', 3.0: 'Gbps', 3.2: 'Gbps'}\n",
    "\n",
    "rev_val = revision_speed22.values()\n",
    "print(f'{revision_speed} \\n {revision_speed2} \\n {revision_speed22} \\n{rev_val}')\n",
    "\n",
    "\n",
    "# for x, y in revision_speed:\n",
    "    # print()\n"
   ]
  },
  {
   "cell_type": "code",
   "execution_count": null,
   "metadata": {},
   "outputs": [],
   "source": [
    "res = revision_speed2.keys()\n",
    "print(res)"
   ]
  },
  {
   "cell_type": "code",
   "execution_count": null,
   "metadata": {},
   "outputs": [],
   "source": [
    "rev_key2 = str(revision_speed2.keys())\n",
    "rev_val2 = str(revision_speed2.values())\n",
    "print(rev_key2, rev_val2)\n",
    "\n",
    "rev_key22 = str(revision_speed22.keys())\n",
    "rev_val22 = str(revision_speed22.values())\n",
    "\n",
    "print(rev_key22, rev_val22)\n",
    "\n",
    "# ans = print(f'{str(revision_speed2.values()) + str(revision_speed22.values())}')\n",
    "ans2 = print(f'{rev_key2 + rev_val22}')\n"
   ]
  },
  {
   "cell_type": "code",
   "execution_count": null,
   "metadata": {},
   "outputs": [],
   "source": [
    "str_rev2 = str(revision_speed2.keys())\n",
    "str_val2 = str(revision_speed22.values())\n",
    "\n",
    "int_rev2 = int('revision_speed2.keys()')\n",
    "print(str_rev2, str_val2, int_rev2)"
   ]
  },
  {
   "cell_type": "code",
   "execution_count": 1,
   "metadata": {},
   "outputs": [
    {
     "name": "stdout",
     "output_type": "stream",
     "text": [
      "dict_keys([1, 2, 3]) dict_keys([1, 2, 3])\n",
      "dict_values(['1.5', '3', '16']) dict_values(['Gbps', 'Gbps', 'Gbps'])\n"
     ]
    }
   ],
   "source": [
    "revision7 = {1: '1.5', 2: '3', 3: '6', 3: '16'}\n",
    "revision77 = {1: 'Gbps', 2: 'Gbps', 3: 'Gbps', 3: 'Gbps'}\n",
    "\n",
    "print(revision7.keys(), revision77.keys())\n",
    "print(revision7.values(), revision77.values())"
   ]
  },
  {
   "cell_type": "code",
   "execution_count": 2,
   "metadata": {},
   "outputs": [
    {
     "name": "stdout",
     "output_type": "stream",
     "text": [
      "['Gbps', 'Gbps', 'Gbps']\n"
     ]
    }
   ],
   "source": [
    "valss = list(revision77.values())\n",
    "print(valss)"
   ]
  },
  {
   "cell_type": "code",
   "execution_count": 3,
   "metadata": {},
   "outputs": [],
   "source": [
    "# st_rev7 = str(revision7)\n",
    "st_rev77 = str(valss)"
   ]
  },
  {
   "cell_type": "code",
   "execution_count": 9,
   "metadata": {},
   "outputs": [
    {
     "data": {
      "text/plain": [
       "<zip at 0x7f1d86915500>"
      ]
     },
     "execution_count": 9,
     "metadata": {},
     "output_type": "execute_result"
    }
   ],
   "source": [
    "xx = zip(revision77, revision7)\n",
    "xx"
   ]
  },
  {
   "cell_type": "code",
   "execution_count": null,
   "metadata": {},
   "outputs": [],
   "source": [
    "answr = {key: revision7[key] + st_rev77.get(key, '') for key in revision7.keys()}\n",
    "# print(str(answr))\n",
    "print(answr)"
   ]
  },
  {
   "cell_type": "code",
   "execution_count": null,
   "metadata": {},
   "outputs": [],
   "source": [
    "new_rev = str(revision_speed2)\n",
    "new_rev2 = str(revision_speed22)\n",
    "print(f'New stringified dict: {new_rev} \\n {new_rev2}')"
   ]
  },
  {
   "cell_type": "code",
   "execution_count": null,
   "metadata": {},
   "outputs": [],
   "source": [
    "new_rev = str(revision_speed2)\n",
    "print(f'New stringified dict: {new_rev}')"
   ]
  },
  {
   "cell_type": "code",
   "execution_count": null,
   "metadata": {},
   "outputs": [],
   "source": [
    "print(f'{new_rev}')"
   ]
  },
  {
   "cell_type": "code",
   "execution_count": null,
   "metadata": {},
   "outputs": [],
   "source": [
    "res = {key: new_rev[key] + new_rev2(key, '') for key in new_rev.keys()}\n",
    "print(f\"dict concat is:{str(res)}\")"
   ]
  },
  {
   "cell_type": "code",
   "execution_count": null,
   "metadata": {},
   "outputs": [],
   "source": []
  },
  {
   "cell_type": "markdown",
   "metadata": {},
   "source": []
  }
 ],
 "metadata": {
  "kernelspec": {
   "display_name": ".venv",
   "language": "python",
   "name": "python3"
  },
  "language_info": {
   "codemirror_mode": {
    "name": "ipython",
    "version": 3
   },
   "file_extension": ".py",
   "mimetype": "text/x-python",
   "name": "python",
   "nbconvert_exporter": "python",
   "pygments_lexer": "ipython3",
   "version": "3.10.6"
  },
  "orig_nbformat": 4,
  "vscode": {
   "interpreter": {
    "hash": "7f3abfc723bf13a883f46e30342236d635a22fb1fbb344f592fa3baf1c25b12f"
   }
  }
 },
 "nbformat": 4,
 "nbformat_minor": 2
}
