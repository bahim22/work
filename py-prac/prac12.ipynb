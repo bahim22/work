{
 "cells": [
  {
   "cell_type": "code",
   "execution_count": 9,
   "metadata": {},
   "outputs": [
    {
     "name": "stdout",
     "output_type": "stream",
     "text": [
      "{1: 10, 2: 20} {3: 30, 4: 40} {5: 50, 6: 60}\n"
     ]
    }
   ],
   "source": [
    "d11, d22, d33 = {1:10, 2:20}, {3:30, 4:40}, {5:50, 6:60}\n",
    "print(d11,d22,d33)"
   ]
  },
  {
   "cell_type": "code",
   "execution_count": 10,
   "metadata": {},
   "outputs": [
    {
     "name": "stdout",
     "output_type": "stream",
     "text": [
      "{1: 10, 2: 20, 3: 30, 4: 40, 5: 50, 6: 60}\n"
     ]
    }
   ],
   "source": [
    "d1 = {1:10, 2:20}\n",
    "d2 = {3:30, 4:40}\n",
    "d3 = {5:50, 6:60}\n",
    "d4 = {}\n",
    "\n",
    "for x in (d1, d2, d3): d4.update(x)\n",
    "print(d4)"
   ]
  },
  {
   "cell_type": "code",
   "execution_count": 12,
   "metadata": {},
   "outputs": [],
   "source": [
    "def lister2(r1, r2):\n",
    "    return [item for item in range(r1, r2+1)]"
   ]
  },
  {
   "cell_type": "code",
   "execution_count": 13,
   "metadata": {},
   "outputs": [],
   "source": [
    "r1, r2 = 0, 10"
   ]
  },
  {
   "cell_type": "code",
   "execution_count": 14,
   "metadata": {},
   "outputs": [
    {
     "name": "stdout",
     "output_type": "stream",
     "text": [
      "[0, 1, 2, 3, 4, 5, 6, 7, 8, 9, 10]\n"
     ]
    }
   ],
   "source": [
    "print(lister2(r1, r2))"
   ]
  },
  {
   "cell_type": "code",
   "execution_count": 15,
   "metadata": {},
   "outputs": [],
   "source": [
    "def lister4(r1, r2):\n",
    "    return list(range(r1, r2+1))"
   ]
  },
  {
   "cell_type": "code",
   "execution_count": 16,
   "metadata": {},
   "outputs": [
    {
     "name": "stdout",
     "output_type": "stream",
     "text": [
      "[0, 1, 2, 3, 4, 5]\n"
     ]
    }
   ],
   "source": [
    "r1, r2 = 0, 10\n",
    "print(lister4(r1,r2))"
   ]
  },
  {
   "cell_type": "code",
   "execution_count": 19,
   "metadata": {},
   "outputs": [
    {
     "name": "stdout",
     "output_type": "stream",
     "text": [
      "[{1.0: 1.5, 2.0: 3, 3.0: 6, 3.2: 16}] \n",
      " {1.0: 1.5, 2.0: 3, 3.0: 6, 3.2: 16}\n"
     ]
    }
   ],
   "source": [
    "# gb = 'Gbps'\n",
    "# revision_speed = [{1.0: 1.5}, {2.0: 3}, {3.0: 6}, {3.2: 16}]\n",
    "revision_speed = [{1.0: 1.5, 2.0: 3, 3.0: 6, 3.2: 16}]\n",
    "revision_speed2 = {1.0: 1.5, 2.0: 3, 3.0: 6, 3.2: 16}\n",
    "revision_speed22 = {1.0: 'Gbps', 2.0: 'Gbps', 3.0: 'Gbps', 3.2: 'Gbps'}\n",
    "\n",
    "print(f'{revision_speed} \\n {revision_speed2}')\n",
    "\n",
    "\n",
    "# for x, y in revision_speed:\n",
    "    # print()\n"
   ]
  },
  {
   "cell_type": "code",
   "execution_count": null,
   "metadata": {},
   "outputs": [],
   "source": []
  },
  {
   "cell_type": "code",
   "execution_count": 21,
   "metadata": {},
   "outputs": [
    {
     "name": "stdout",
     "output_type": "stream",
     "text": [
      "New stringified dict: {1.0: 1.5, 2.0: 3, 3.0: 6, 3.2: 16} \n",
      " {1.0: 'Gbps', 2.0: 'Gbps', 3.0: 'Gbps', 3.2: 'Gbps'}\n"
     ]
    }
   ],
   "source": [
    "new_rev = str(revision_speed2)\n",
    "new_rev2 = str(revision_speed22)\n",
    "print(f'New stringified dict: {new_rev} \\n {new_rev2}')"
   ]
  },
  {
   "cell_type": "code",
   "execution_count": 26,
   "metadata": {},
   "outputs": [
    {
     "name": "stdout",
     "output_type": "stream",
     "text": [
      "New stringified dict: {1.0: 1.5, 2.0: 3, 3.0: 6, 3.2: 16}\n"
     ]
    }
   ],
   "source": [
    "new_rev = str(revision_speed2)\n",
    "print(f'New stringified dict: {new_rev}')"
   ]
  },
  {
   "cell_type": "code",
   "execution_count": 27,
   "metadata": {},
   "outputs": [
    {
     "name": "stdout",
     "output_type": "stream",
     "text": [
      "{1.0: 1.5, 2.0: 3, 3.0: 6, 3.2: 16}{1.0: 'Gbps', 2.0: 'Gbps', 3.0: 'Gbps', 3.2: 'Gbps'}\n"
     ]
    }
   ],
   "source": [
    "print(f'{new_rev.value()}')"
   ]
  },
  {
   "cell_type": "code",
   "execution_count": 22,
   "metadata": {},
   "outputs": [
    {
     "ename": "AttributeError",
     "evalue": "'str' object has no attribute 'keys'",
     "output_type": "error",
     "traceback": [
      "\u001b[0;31m---------------------------------------------------------------------------\u001b[0m",
      "\u001b[0;31mAttributeError\u001b[0m                            Traceback (most recent call last)",
      "Cell \u001b[0;32mIn [22], line 1\u001b[0m\n\u001b[0;32m----> 1\u001b[0m res \u001b[39m=\u001b[39m {key: new_rev[key] \u001b[39m+\u001b[39m new_rev2(key, \u001b[39m'\u001b[39m\u001b[39m'\u001b[39m) \u001b[39mfor\u001b[39;00m key \u001b[39min\u001b[39;00m new_rev\u001b[39m.\u001b[39;49mkeys()}\n\u001b[1;32m      2\u001b[0m \u001b[39mprint\u001b[39m(\u001b[39mf\u001b[39m\u001b[39m\"\u001b[39m\u001b[39mdict concat is:\u001b[39m\u001b[39m{\u001b[39;00m\u001b[39mstr\u001b[39m(res)\u001b[39m}\u001b[39;00m\u001b[39m \u001b[39m\u001b[39m\"\u001b[39m)\n",
      "\u001b[0;31mAttributeError\u001b[0m: 'str' object has no attribute 'keys'"
     ]
    }
   ],
   "source": [
    "res = {key: new_rev[key] + new_rev2(key, '') for key in new_rev.keys()}\n",
    "print(f\"dict concat is:{str(res)}\")"
   ]
  }
 ],
 "metadata": {
  "kernelspec": {
   "display_name": "Python 3.8.10 ('.venv': venv)",
   "language": "python",
   "name": "python3"
  },
  "language_info": {
   "codemirror_mode": {
    "name": "ipython",
    "version": 3
   },
   "file_extension": ".py",
   "mimetype": "text/x-python",
   "name": "python",
   "nbconvert_exporter": "python",
   "pygments_lexer": "ipython3",
   "version": "3.8.10"
  },
  "orig_nbformat": 4,
  "vscode": {
   "interpreter": {
    "hash": "3bbfbb50d7f9d1744171a66d1182335b07328b0cb7bc3f83512aab5e969c6d77"
   }
  }
 },
 "nbformat": 4,
 "nbformat_minor": 2
}
