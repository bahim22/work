{
 "cells": [
  {
   "cell_type": "code",
   "execution_count": null,
   "metadata": {},
   "outputs": [],
   "source": [
    "d11, d22, d33 = {1:10, 2:20}, {3:30, 4:40}, {5:50, 6:60}\n",
    "print(d11,d22,d33)"
   ]
  },
  {
   "cell_type": "code",
   "execution_count": null,
   "metadata": {},
   "outputs": [],
   "source": [
    "d1 = {1:10, 2:20}\n",
    "d2 = {3:30, 4:40}\n",
    "d3 = {5:50, 6:60}\n",
    "d4 = {}\n",
    "\n",
    "for x in (d1, d2, d3): d4.update(x)\n",
    "print(d4)"
   ]
  },
  {
   "cell_type": "code",
   "execution_count": null,
   "metadata": {},
   "outputs": [],
   "source": [
    "def lister2(r1, r2):\n",
    "    return [item for item in range(r1, r2+1)]"
   ]
  },
  {
   "cell_type": "code",
   "execution_count": null,
   "metadata": {},
   "outputs": [],
   "source": [
    "r1, r2 = 0, 10"
   ]
  },
  {
   "cell_type": "code",
   "execution_count": null,
   "metadata": {},
   "outputs": [],
   "source": [
    "print(lister2(r1, r2))"
   ]
  },
  {
   "cell_type": "code",
   "execution_count": null,
   "metadata": {},
   "outputs": [],
   "source": [
    "def lister4(r1, r2):\n",
    "    return list(range(r1, r2+1))"
   ]
  },
  {
   "cell_type": "code",
   "execution_count": null,
   "metadata": {},
   "outputs": [],
   "source": [
    "r1, r2 = 0, 10\n",
    "print(lister4(r1,r2))"
   ]
  },
  {
   "cell_type": "code",
   "execution_count": null,
   "metadata": {},
   "outputs": [],
   "source": []
  },
  {
   "cell_type": "code",
   "execution_count": null,
   "metadata": {},
   "outputs": [],
   "source": []
  },
  {
   "cell_type": "code",
   "execution_count": null,
   "metadata": {},
   "outputs": [],
   "source": [
    "def lstr():\n",
    "    dataText = [{\"word\":\"kentucky\",\"score\":129541},{\"word\":\"pitt\",\"score\":64667}]\n",
    "    lst = []\n",
    "\n",
    "    # for i in data.text:\n",
    "    for i in dataText:\n",
    "        lst.insert(2, {\"Hima\":\"kdkkd\"})\n",
    "        # lst.append({\"word\": \"Hima\", \"score\": 13235})\n",
    "\n",
    "    print(lst)\n",
    "    # print(dataText)\n",
    "lstr()"
   ]
  },
  {
   "cell_type": "code",
   "execution_count": null,
   "metadata": {},
   "outputs": [],
   "source": []
  },
  {
   "cell_type": "code",
   "execution_count": null,
   "metadata": {},
   "outputs": [],
   "source": [
    "def lstr():\n",
    "    dataText = [{\"word\":\"kentucky\",\"score\":129541},{\"word\":\"pitt\",\"score\":64667}]\n",
    "    lst = []\n",
    "\n",
    "    # for i in data.text:\n",
    "    for i in dataText:\n",
    "        # lst.insert(2, {\"Hima\":\"kdkkd\"})\n",
    "        lst.append({\"word\": \"Hima\", \"score\": 13235})\n",
    "\n",
    "    print(lst)\n",
    "    # print(dataText)\n",
    "lstr()"
   ]
  },
  {
   "cell_type": "code",
   "execution_count": null,
   "metadata": {},
   "outputs": [],
   "source": [
    "# gb = 'Gbps'\n",
    "# revision_speed = [{1.0: 1.5}, {2.0: 3}, {3.0: 6}, {3.2: 16}]\n",
    "revision_speed = [{1.0: 1.5, 2.0: 3, 3.0: 6, 3.2: 16}]\n",
    "revision_speed2 = {1.0: 1.5, 2.0: 3, 3.0: 6, 3.2: 16}\n",
    "revision_speed22 = {1.0: 'Gbps', 2.0: 'Gbps', 3.0: 'Gbps', 3.2: 'Gbps'}\n",
    "\n",
    "rev_val = revision_speed22.values()\n",
    "print(f'{revision_speed} \\n {revision_speed2} \\n {revision_speed22} \\n{rev_val}')\n",
    "\n",
    "\n",
    "# for x, y in revision_speed:\n",
    "    # print()\n"
   ]
  },
  {
   "cell_type": "code",
   "execution_count": null,
   "metadata": {},
   "outputs": [],
   "source": [
    "res = revision_speed2.keys()\n",
    "print(res)"
   ]
  },
  {
   "cell_type": "code",
   "execution_count": null,
   "metadata": {},
   "outputs": [],
   "source": [
    "rev_key2 = str(revision_speed2.keys())\n",
    "rev_val2 = str(revision_speed2.values())\n",
    "print(rev_key2, rev_val2)\n",
    "\n",
    "rev_key22 = str(revision_speed22.keys())\n",
    "rev_val22 = str(revision_speed22.values())\n",
    "\n",
    "print(rev_key22, rev_val22)\n",
    "\n",
    "# ans = print(f'{str(revision_speed2.values()) + str(revision_speed22.values())}')\n",
    "ans2 = print(f'{rev_key2 + rev_val22}')\n"
   ]
  },
  {
   "cell_type": "code",
   "execution_count": null,
   "metadata": {},
   "outputs": [],
   "source": [
    "str_rev2 = str(revision_speed2.keys())\n",
    "str_val2 = str(revision_speed22.values())\n",
    "\n",
    "int_rev2 = int('revision_speed2.keys()')\n",
    "print(str_rev2, str_val2, int_rev2)"
   ]
  },
  {
   "cell_type": "code",
   "execution_count": 1,
   "metadata": {},
   "outputs": [
    {
     "name": "stdout",
     "output_type": "stream",
     "text": [
      "dict_keys([1, 2, 3]) dict_keys([1, 2, 3])\n",
      "dict_values(['1.5', '3', '16']) dict_values(['Gbps', 'Gbps', 'Gbps'])\n"
     ]
    }
   ],
   "source": [
    "revision7 = {1: '1.5', 2: '3', 3: '6', 3: '16'}\n",
    "revision77 = {1: 'Gbps', 2: 'Gbps', 3: 'Gbps', 3: 'Gbps'}\n",
    "\n",
    "print(revision7.keys(), revision77.keys())\n",
    "print(revision7.values(), revision77.values())"
   ]
  },
  {
   "cell_type": "code",
   "execution_count": 2,
   "metadata": {},
   "outputs": [
    {
     "name": "stdout",
     "output_type": "stream",
     "text": [
      "['Gbps', 'Gbps', 'Gbps']\n"
     ]
    }
   ],
   "source": [
    "valss = list(revision77.values())\n",
    "print(valss)"
   ]
  },
  {
   "cell_type": "code",
   "execution_count": 3,
   "metadata": {},
   "outputs": [],
   "source": [
    "# st_rev7 = str(revision7)\n",
    "st_rev77 = str(valss)"
   ]
  },
  {
   "cell_type": "code",
   "execution_count": 9,
   "metadata": {},
   "outputs": [
    {
     "data": {
      "text/plain": [
       "<zip at 0x7f1d86915500>"
      ]
     },
     "execution_count": 9,
     "metadata": {},
     "output_type": "execute_result"
    }
   ],
   "source": [
    "xx = zip(revision77, revision7)\n",
    "xx"
   ]
  },
  {
   "cell_type": "code",
   "execution_count": null,
   "metadata": {},
   "outputs": [],
   "source": [
    "answr = {key: revision7[key] + st_rev77.get(key, '') for key in revision7.keys()}\n",
    "# print(str(answr))\n",
    "print(answr)"
   ]
  },
  {
   "cell_type": "code",
   "execution_count": null,
   "metadata": {},
   "outputs": [],
   "source": [
    "new_rev = str(revision_speed2)\n",
    "new_rev2 = str(revision_speed22)\n",
    "print(f'New stringified dict: {new_rev} \\n {new_rev2}')"
   ]
  },
  {
   "cell_type": "code",
   "execution_count": null,
   "metadata": {},
   "outputs": [],
   "source": [
    "new_rev = str(revision_speed2)\n",
    "print(f'New stringified dict: {new_rev}')"
   ]
  },
  {
   "cell_type": "code",
   "execution_count": null,
   "metadata": {},
   "outputs": [],
   "source": [
    "print(f'{new_rev}')"
   ]
  },
  {
   "cell_type": "code",
   "execution_count": null,
   "metadata": {},
   "outputs": [],
   "source": [
    "res = {key: new_rev[key] + new_rev2(key, '') for key in new_rev.keys()}\n",
    "print(f\"dict concat is:{str(res)}\")"
   ]
  },
  {
   "cell_type": "code",
   "execution_count": null,
   "metadata": {},
   "outputs": [],
   "source": []
  },
  {
   "cell_type": "markdown",
   "metadata": {},
   "source": []
  }
 ],
 "metadata": {
  "kernelspec": {
   "display_name": "Python 3.8.10 ('.venv': venv)",
   "language": "python",
   "name": "python3"
  },
  "language_info": {
   "codemirror_mode": {
    "name": "ipython",
    "version": 3
   },
   "file_extension": ".py",
   "mimetype": "text/x-python",
   "name": "python",
   "nbconvert_exporter": "python",
   "pygments_lexer": "ipython3",
   "version": "3.8.10"
  },
  "orig_nbformat": 4,
  "vscode": {
   "interpreter": {
    "hash": "3bbfbb50d7f9d1744171a66d1182335b07328b0cb7bc3f83512aab5e969c6d77"
   }
  }
 },
 "nbformat": 4,
 "nbformat_minor": 2
}
