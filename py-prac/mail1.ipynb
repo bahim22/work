{
 "cells": [
  {
   "cell_type": "code",
   "execution_count": null,
   "metadata": {},
   "outputs": [],
   "source": [
    "import os\n",
    "def get_env(name2):\n",
    "    if name2 in os.environ:\n",
    "        return os.environ.get(name2)\n",
    "    return None"
   ]
  },
  {
   "cell_type": "code",
   "execution_count": null,
   "metadata": {},
   "outputs": [],
   "source": [
    "def get_env_2(get_var):\n",
    "    var2 = os.environ.get('get_var', 'NONE')\n",
    "    assert var2 != 'NONE'\n",
    "    return var2\n"
   ]
  },
  {
   "cell_type": "markdown",
   "metadata": {},
   "source": [
    "\n",
    "# Email examples\n",
    "\n",
    "```py\n",
    "import smtplib\n",
    "s=smtplib.SMTP(\"localhost\")\n",
    "print(s.help())\n",
    "This is Sendmail version 8.8.4\n",
    "Topics:\n",
    "    HELO    EHLO    MAIL    RCPT    DATA\n",
    "    RSET    NOOP    QUIT    HELP    VRFY\n",
    "    EXPN    VERB    ETRN    DSN\n",
    "For more info use \"HELP <topic>\".\n",
    "\n",
    "s.putcmd(\"vrfy\",\"someone@here\")\n",
    "s.getreply()\n",
    "(250, \"Somebody OverHere <somebody@here.my.org>\")\n",
    "s.quit()\n",
    "```\n",
    "\n",
    "- `host` is the name of the remote host to which to connect.\n",
    "- `port` specifies the port to which to connect.\n",
    "  - default: smtplib.SMTP_PORT \n",
    "- connect method called when host is specified\n",
    "- local_hostname is used as the FQDN of the local host in the HELO/EHLO command. Use socket.getfqdn() to find local hostname.\n",
    "- source_address param accepts a 2-tuple (host, port)\n",
    "  - used for the socket to bind to as its source address prior to connecting.\n",
    "- If the host is '' and port is 0, the OS default behavior will be used.\n"
   ]
  },
  {
   "cell_type": "markdown",
   "metadata": {},
   "source": [
    "\n",
    "### Env var py and script\n",
    "\n",
    "1. create .env f and add var (upper var w/ str )\n",
    "2. pip install python-dotenv => load env var into code w/ func load_dotenv() which extracts env var from .env\n",
    "3. dotenv_values returns dict from env f w/ parsed val\n",
    "4. os.getenv func imports val and sstores it in prog\n",
    "\n",
    "```py\n",
    "python -m pip install python-dotenv\n",
    "import os\n",
    "from dotenv import load_dotenv\n",
    "\n",
    "load_dotenv('env.env')\n",
    "\n",
    "MY_ENV_VAR = os.getenv('MY_ENV_VAR')\n",
    "```\n",
    "\n",
    "1. create env var in shell\n",
    "2. edit EOL conversion and select Unix(LF) and save .env f\n",
    "3. create py script to read env\n",
    "4. create sh rx to load env f into py rx\n",
    "5. run sh rx f\n",
    "\n",
    "```sh\n",
    "TYPE=prod\n",
    "PORT=5222\n",
    "```\n",
    "\n",
    "```py\n",
    "# test.py\n",
    "import os\n",
    "\n",
    "print(os.environ.get('TYPE'))\n",
    "print(os.environ.get('PORT'))\n",
    "```\n",
    "\n",
    "```sh\n",
    "# f: ./run.sh \n",
    "#!/usr/bin/env bash\n",
    "set -a\n",
    "source config.env\n",
    "set +a\n",
    "python test.py\n",
    "./run.sh\n",
    "```\n"
   ]
  },
  {
   "cell_type": "code",
   "execution_count": 32,
   "metadata": {},
   "outputs": [],
   "source": [
    "import os\n",
    "import smtplib\n",
    "from email.mime.multipart import MIMEMultipart\n",
    "from email.mime.text import MIMEText"
   ]
  },
  {
   "cell_type": "code",
   "execution_count": 3,
   "metadata": {},
   "outputs": [
    {
     "name": "stdout",
     "output_type": "stream",
     "text": [
      "abc123 abc@google.com\n"
     ]
    }
   ],
   "source": [
    "import os\n",
    "\n",
    "from dotenv import load_dotenv\n",
    "\n",
    "load_dotenv('./dev.env')\n",
    "\n",
    "pass1 = os.getenv('PPASS')\n",
    "pass2 = os.environ.get('PUSER')\n",
    "\n",
    "print(pass1, pass2)"
   ]
  },
  {
   "cell_type": "code",
   "execution_count": null,
   "metadata": {},
   "outputs": [],
   "source": [
    "pass1.encode()\n",
    "pass2.encode()\n",
    "print(pass2, type(pass2))\n",
    "\n",
    "pass4 = os.getenv('DPASS')\n",
    "ps = os.environ.get('DPASS')\n",
    "print(pass4, ps)"
   ]
  },
  {
   "cell_type": "code",
   "execution_count": 39,
   "metadata": {},
   "outputs": [],
   "source": [
    "username = \"dev6789@gmail.com\"\n",
    "# passwords = os.environ.get(pass2)\n",
    "passwords = \"gjhgh\"\n",
    "mail_from = \"dev6789@gmail.com\"\n",
    "mail_to = \"dev6789jj@gmail.com\"\n",
    "mSubject = \"tstrvr\"\n",
    "mBody = \"tst rvrs\""
   ]
  },
  {
   "cell_type": "code",
   "execution_count": null,
   "metadata": {},
   "outputs": [],
   "source": [
    "mimemsg = MIMEMultipart()\n",
    "mimemsg[\"From\"]=mail_from\n",
    "mimemsg['To']=mail_to\n",
    "mimemsg['Subject']=mSubject\n",
    "mimemsg.attach(MIMEText(mBody, 'plain'))\n",
    "\n",
    "connection = smtplib.SMTP(host='smtp.office365.com', port=587) # or 465\n",
    "connection.starttls()\n",
    "connection.login(username, passwords)\n",
    "connection.send_message(mimemsg)\n",
    "connection.quit()\n",
    "\n",
    "#  prev err: SmtpClientAuthentication is disabled for the Tenant. req <= criteria for successful auth"
   ]
  },
  {
   "cell_type": "markdown",
   "metadata": {},
   "source": [
    "# SMTP server\n",
    "\n",
    "- built-in module for sending emails to any Internet machine with an SMTP or ESMTP listener daemon\n",
    "- uses localhost and port 1025 rather than port 465 | 587\n",
    "- don't have to use login() or encrypt comms using SSL/TLS(secure sockets layer and transport layer security; TLS is the more secure later v)\n",
    "  - secure from start use SMTP_SSL()\n",
    "  - encrypt later via .starttls()\n",
    "- ssl module has method create_default_context() that loads system's trusted CA certs, enables host name checking and cert validation, uses secure protocol & cipher settings\n",
    "\n",
    "start local SMTP debugging server\n",
    "\n",
    "```py\n",
    "python -m smtp -c DebuggingServer -n localhost:1025\n",
    "```"
   ]
  },
  {
   "cell_type": "code",
   "execution_count": null,
   "metadata": {},
   "outputs": [],
   "source": [
    "import smtplib, ssl\n",
    "\n",
    "port = 465\n",
    "password = input('Type your password and press enter: ')\n",
    "\n",
    "# create secure SSL context\n",
    "context = ssl.create_default_context()\n",
    "\n",
    "with smtplib.SMTP_SSL(\"smtp.gmail.com\", port, context=context) as server:\n",
    "    server.login(\"dev6789@gmail.com\", password)\n",
    "    # send email"
   ]
  }
 ],
 "metadata": {
  "kernelspec": {
   "display_name": "Python 3.8.10 ('.venv': venv)",
   "language": "python",
   "name": "python3"
  },
  "language_info": {
   "codemirror_mode": {
    "name": "ipython",
    "version": 3
   },
   "file_extension": ".py",
   "mimetype": "text/x-python",
   "name": "python",
   "nbconvert_exporter": "python",
   "pygments_lexer": "ipython3",
   "version": "3.8.10"
  },
  "orig_nbformat": 4,
  "vscode": {
   "interpreter": {
    "hash": "3bbfbb50d7f9d1744171a66d1182335b07328b0cb7bc3f83512aab5e969c6d77"
   }
  }
 },
 "nbformat": 4,
 "nbformat_minor": 2
}
