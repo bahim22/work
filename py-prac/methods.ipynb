{
 "cells": [
  {
   "cell_type": "code",
   "execution_count": 1,
   "metadata": {},
   "outputs": [],
   "source": [
    "lst1 = [1,2,3,4,5,6]\n",
    "lst = list(range(len(lst1)))"
   ]
  },
  {
   "cell_type": "code",
   "execution_count": 3,
   "metadata": {},
   "outputs": [
    {
     "name": "stdout",
     "output_type": "stream",
     "text": [
      "[0, 1, 2, 3, 4, 5]\n"
     ]
    }
   ],
   "source": [
    "print(lst)"
   ]
  },
  {
   "cell_type": "code",
   "execution_count": 7,
   "metadata": {},
   "outputs": [
    {
     "name": "stdout",
     "output_type": "stream",
     "text": [
      "[0, 1, 2, 3, 4, 5]\n"
     ]
    }
   ],
   "source": [
    "print(lst2 := lst.copy())"
   ]
  },
  {
   "cell_type": "code",
   "execution_count": 10,
   "metadata": {},
   "outputs": [],
   "source": [
    "lst2.append(66)"
   ]
  },
  {
   "cell_type": "code",
   "execution_count": 12,
   "metadata": {},
   "outputs": [
    {
     "data": {
      "text/plain": [
       "[0, 1, 2, 3, 4, 5, 66]"
      ]
     },
     "execution_count": 12,
     "metadata": {},
     "output_type": "execute_result"
    }
   ],
   "source": [
    "lst2"
   ]
  },
  {
   "cell_type": "code",
   "execution_count": 4,
   "metadata": {},
   "outputs": [],
   "source": [
    "dct1 = {'a': 15, 'b': 33, 'c': 99, 'd': 66}"
   ]
  },
  {
   "cell_type": "code",
   "execution_count": null,
   "metadata": {},
   "outputs": [],
   "source": [
    "import os, time, sys\n",
    "\n",
    "def brk():\n",
    "    os.__file__"
   ]
  },
  {
   "cell_type": "code",
   "execution_count": 2,
   "metadata": {},
   "outputs": [
    {
     "name": "stdout",
     "output_type": "stream",
     "text": [
      "[1, 2, 3, 4, 5, 6]\n"
     ]
    }
   ],
   "source": [
    "\n",
    "print(lst2 := lst1)"
   ]
  },
  {
   "attachments": {},
   "cell_type": "markdown",
   "metadata": {},
   "source": [
    "    Compares 2 files line-by-line\n",
    "\n",
    "    Parameters\n",
    "    ----------\n",
    "    file1 : str or file-like\n",
    "        Name of the first file to compare or first file object to compare\n",
    "    file2 : str or file-like\n",
    "        Name of the second file to compare or second file object to compare\n",
    "    ignore_whitespace : bool=True\n",
    "        If true, ignores differences in leading and trailing whitespace\n",
    "    absolute_error : float=None\n",
    "        If set, only differences greater than the absolute error will trigger\n",
    "        failures. Cannot be used with relative_error\n",
    "    relative_error : float=None\n",
    "        If set, only relative differences greater than the relative error will\n",
    "        trigger failures. Cannot be used with absolute_error\n",
    "    comment : str or None\n",
    "        The character to identify comments in this file\n",
    "    spacechar : str or None\n",
    "        A collection of characters to turn into spaces (to facilitate proper\n",
    "        tokenization)\n",
    "\n",
    "    Returns\n",
    "    -------\n",
    "    bool\n",
    "        True if files match. False if they do not or one file does not exist\n",
    "\n",
    "    Notes\n",
    "    -----\n",
    "    This routine is not protected against bad types of input. AttributeError may\n",
    "    be raised if readline() is not implemented on any file-like object passed in"
   ]
  },
  {
   "cell_type": "code",
   "execution_count": null,
   "metadata": {},
   "outputs": [],
   "source": [
    "def diff_files(file1, file2, ignore_whitespace=True,\n",
    "               absolute_error=None, relative_error=None,\n",
    "               comment=None, spacechar=None):\n",
    "    \"\"\"\n",
    "         Compares 2 files line-by-line\n",
    "    \"\"\"\n",
    "    if absolute_error is not None and relative_error is not None:\n",
    "        raise ValueError('Cannot specify absolute_error AND relative_error')\n",
    "    if absolute_error is not None: absolute_error = float(absolute_error)\n",
    "    if relative_error is not None: relative_error = float(relative_error)\n",
    "    if isinstance(file1, str):\n",
    "        try:\n",
    "            f1 = open(file1, 'r')\n",
    "        except IOError:\n",
    "            print('Could not find %s' % file1)\n",
    "            return False\n",
    "    else:\n",
    "        f1 = file1\n",
    "        file1 = str(file1)\n",
    "    if isinstance(file2, str):\n",
    "        try:\n",
    "            f2 = open(file2, 'r')\n",
    "        except IOError:\n",
    "            print('Could not find %s' % file2)\n",
    "            return False\n",
    "    else:\n",
    "        f2 = file2\n",
    "        file2 = str(file2)\n",
    "    try:\n",
    "        l1 = f1.readline()\n",
    "        l2 = f2.readline()\n",
    "        i = 1\n",
    "        same = True\n",
    "        if ignore_whitespace:\n",
    "            while l1 or l2:\n",
    "                while l1 and l1[0] == comment:\n",
    "                    l1 = f1.readline()\n",
    "                while l2 and l2[0] == comment:\n",
    "                    l2 = f2.readline()\n",
    "                if l1.strip() != l2.strip():\n",
    "                    if l1.startswith('%VERSION') and l2.startswith('%VERSION'):\n",
    "                        l1 = f1.readline()\n",
    "                        l2 = f2.readline()\n",
    "                        continue\n",
    "                    if not detailed_diff(l1,l2,absolute_error,relative_error,spacechar):\n",
    "                        same = False\n",
    "                        record_diffs(i, file1, file2, l1, l2)\n",
    "                l1 = f1.readline()\n",
    "                l2 = f2.readline()\n",
    "                i += 1\n",
    "        else:\n",
    "            while l1 and l2:\n",
    "                if l1 != l2:\n",
    "                    if 'At date:' in l1 and 'At date:' in l2:\n",
    "                        l1 = f1.readline()\n",
    "                        l2 = f2.readline()\n",
    "                        continue\n",
    "                    if l1.startswith('%VERSION') and l2.startswith('%VERSION'):\n",
    "                        l1 = f1.readline()\n",
    "                        l2 = f2.readline()\n",
    "                        continue\n",
    "                    if not detailed_diff(l1,l2,absolute_error,relative_error,spacechar):\n",
    "                        same = False\n",
    "                        record_diffs(i, file1, file2, l1, l2)\n",
    "                l1 = f1.readline()\n",
    "                l2 = f2.readline()\n",
    "                i += 1\n",
    "    finally:\n",
    "        f1.close()\n",
    "        f2.close()\n",
    "\n",
    "    return same"
   ]
  }
 ],
 "metadata": {
  "kernelspec": {
   "display_name": ".venv",
   "language": "python",
   "name": "python3"
  },
  "language_info": {
   "codemirror_mode": {
    "name": "ipython",
    "version": 3
   },
   "file_extension": ".py",
   "mimetype": "text/x-python",
   "name": "python",
   "nbconvert_exporter": "python",
   "pygments_lexer": "ipython3",
   "version": "3.8.10 (default, Jun 22 2022, 20:18:18) \n[GCC 9.4.0]"
  },
  "orig_nbformat": 4,
  "vscode": {
   "interpreter": {
    "hash": "3bbfbb50d7f9d1744171a66d1182335b07328b0cb7bc3f83512aab5e969c6d77"
   }
  }
 },
 "nbformat": 4,
 "nbformat_minor": 2
}
