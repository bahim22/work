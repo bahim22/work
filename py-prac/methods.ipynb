{
 "cells": [
  {
   "cell_type": "code",
   "execution_count": 1,
   "metadata": {},
   "outputs": [],
   "source": [
    "lst1 = [1,2,3,4,5,6]\n",
    "lst = list(range(len(lst1)))"
   ]
  },
  {
   "cell_type": "code",
   "execution_count": 3,
   "metadata": {},
   "outputs": [
    {
     "name": "stdout",
     "output_type": "stream",
     "text": [
      "[0, 1, 2, 3, 4, 5]\n"
     ]
    }
   ],
   "source": [
    "print(lst)"
   ]
  },
  {
   "cell_type": "code",
   "execution_count": 7,
   "metadata": {},
   "outputs": [
    {
     "name": "stdout",
     "output_type": "stream",
     "text": [
      "[0, 1, 2, 3, 4, 5]\n"
     ]
    }
   ],
   "source": [
    "print(lst2 := lst.copy())"
   ]
  },
  {
   "cell_type": "code",
   "execution_count": 10,
   "metadata": {},
   "outputs": [],
   "source": [
    "lst2.append(66)"
   ]
  },
  {
   "cell_type": "code",
   "execution_count": 12,
   "metadata": {},
   "outputs": [
    {
     "data": {
      "text/plain": [
       "[0, 1, 2, 3, 4, 5, 66]"
      ]
     },
     "execution_count": 12,
     "metadata": {},
     "output_type": "execute_result"
    }
   ],
   "source": [
    "lst2"
   ]
  },
  {
   "cell_type": "code",
   "execution_count": 4,
   "metadata": {},
   "outputs": [],
   "source": [
    "dct1 = {'a': 15, 'b': 33, 'c': 99, 'd': 66}"
   ]
  },
  {
   "cell_type": "code",
   "execution_count": null,
   "metadata": {},
   "outputs": [],
   "source": [
    "import os, time, sys\n",
    "\n",
    "def brk():\n",
    "    os.__file__"
   ]
  },
  {
   "cell_type": "code",
   "execution_count": 2,
   "metadata": {},
   "outputs": [
    {
     "name": "stdout",
     "output_type": "stream",
     "text": [
      "[1, 2, 3, 4, 5, 6]\n"
     ]
    }
   ],
   "source": [
    "\n",
    "print(lst2 := lst1)"
   ]
  },
  {
   "cell_type": "code",
   "execution_count": null,
   "metadata": {},
   "outputs": [],
   "source": [
    "#Source: https://bit.ly/2MjeQ6z\n",
    "import requests\n",
    "APPID = \"**************************\"  # <-- Put your OpenWeatherMap appid here!\n",
    "URL_BASE = \"http://api.openweathermap.org/data/2.5/\"\n",
    "def current_weather(q: str = \"\", appid: str = APPID) -> dict:\n",
    "    \"\"\"https://openweathermap.org/api\"\"\"\n",
    "    return requests.get(URL_BASE + \"weather\", params=locals()).json()\n",
    "def weather_forecast(q: str = \"\", appid: str = APPID) -> dict:\n",
    "    \"\"\"https://openweathermap.org/forecast5\"\"\"\n",
    "    return requests.get(URL_BASE + \"forecast\", params=locals()).json()\n",
    "def weather_onecall(lat: float = 55.68, lon: float = 12.57, appid: str = APPID) -> dict:\n",
    "    \"\"\"https://openweathermap.org/api/one-call-api\"\"\"\n",
    "    return requests.get(URL_BASE + \"onecall\", params=locals()).json()\n",
    "if __name__ == \"__main__\":\n",
    "    from pprint import pprint\n",
    "    while True:\n",
    "        location = input(\"Input a location: \").strip()\n",
    "        if location:\n",
    "            pprint(current_weather(location))\n",
    "        else:\n",
    "            break\n"
   ]
  },
  {
   "cell_type": "code",
   "execution_count": null,
   "metadata": {},
   "outputs": [],
   "source": [
    "\"\"\"Get the site emails from URL.\"\"\"\n",
    "#Source:https://bit.ly/3o9yYFu\n",
    "__author__ = \"Muhammad Umer Farooq\"\n",
    "__license__ = \"MIT\"\n",
    "__version__ = \"1.0.0\"\n",
    "__maintainer__ = \"Muhammad Umer Farooq\"\n",
    "__email__ = \"contact@muhammadumerfarooq.me\"\n",
    "__status__ = \"Alpha\"\n",
    "\n",
    "import re\n",
    "from html.parser import HTMLParser\n",
    "from urllib import parse\n",
    "\n",
    "import requests\n",
    "class Parser(HTMLParser):\n",
    "    def __init__(self, domain: str):\n",
    "        HTMLParser.__init__(self)\n",
    "        self.data = []\n",
    "        self.domain = domain\n",
    "\n",
    "    def handle_starttag(self, tag: str, attrs: str) -> None:\n",
    "        \"\"\"\n",
    "        This function parse html to take takes url from tags\n",
    "        \"\"\"\n",
    "        # Only parse the 'anchor' tag.\n",
    "        if tag == \"a\":\n",
    "            # Check the list of defined attributes.\n",
    "            for name, value in attrs:\n",
    "                # If href is defined, and not empty nor # print it.\n",
    "                if name == \"href\" and value != \"#\" and value != \"\":\n",
    "                    # If not already in data.\n",
    "                    if value not in self.data:\n",
    "                        url = parse.urljoin(self.domain, value)\n",
    "                        self.data.append(url)\n",
    "\n",
    "\n",
    "# Get main domain name (example.com)\n",
    "def get_domain_name(url: str) -> str:\n",
    "    \"\"\"\n",
    "    This function get the main domain name\n",
    "    >>> get_domain_name(\"https://a.b.c.d/e/f?g=h,i=j#k\")\n",
    "    'c.d'\n",
    "    >>> get_domain_name(\"Not a URL!\")\n",
    "    ''\n",
    "    \"\"\"\n",
    "    return \".\".join(get_sub_domain_name(url).split(\".\")[-2:])\n",
    "# Get sub domain name (sub.example.com)\n",
    "def get_sub_domain_name(url: str) -> str:\n",
    "    \"\"\"\n",
    "    >>> get_sub_domain_name(\"https://a.b.c.d/e/f?g=h,i=j#k\")\n",
    "    'a.b.c.d'\n",
    "    >>> get_sub_domain_name(\"Not a URL!\")\n",
    "    ''\n",
    "    \"\"\"\n",
    "    return parse.urlparse(url).netloc\n",
    "def emails_from_url(url: str = \"https://github.com\") -> list:\n",
    "    \"\"\"\n",
    "    This function takes url and return all valid urls\n",
    "    \"\"\"\n",
    "    # Get the base domain from the url\n",
    "    domain = get_domain_name(url)\n",
    "\n",
    "    # Initialize the parser\n",
    "    parser = Parser(domain)\n",
    "\n",
    "    try:\n",
    "        # Open URL\n",
    "        r = requests.get(url)\n",
    "\n",
    "        # pass the raw HTML to the parser to get links\n",
    "        parser.feed(r.text)\n",
    "\n",
    "        # Get links and loop through\n",
    "        valid_emails = set()\n",
    "        for link in parser.data:\n",
    "            # open URL.\n",
    "            # read = requests.get(link)\n",
    "            try:\n",
    "                read = requests.get(link)\n",
    "                # Get the valid email.\n",
    "                emails = re.findall(\"[a-zA-Z0-9]+@\" + domain, read.text)\n",
    "                # If not in list then append it.\n",
    "                for email in emails:\n",
    "                    valid_emails.add(email)\n",
    "            except ValueError:\n",
    "                pass\n",
    "    except ValueError:\n",
    "        exit(-1)\n",
    "\n",
    "    # Finally return a sorted list of email addresses with no duplicates.\n",
    "    return sorted(valid_emails)\n",
    "if __name__ == \"__main__\":\n",
    "    emails = emails_from_url(\"https://github.com\")\n",
    "    print(f\"{len(emails)} emails found:\")\n",
    "    print(\"\\n\".join(sorted(emails)))\n"
   ]
  }
 ],
 "metadata": {
  "kernelspec": {
   "display_name": ".venv",
   "language": "python",
   "name": "python3"
  },
  "language_info": {
   "codemirror_mode": {
    "name": "ipython",
    "version": 3
   },
   "file_extension": ".py",
   "mimetype": "text/x-python",
   "name": "python",
   "nbconvert_exporter": "python",
   "pygments_lexer": "ipython3",
   "version": "3.8.10 (default, Jun 22 2022, 20:18:18) \n[GCC 9.4.0]"
  },
  "orig_nbformat": 4,
  "vscode": {
   "interpreter": {
    "hash": "3bbfbb50d7f9d1744171a66d1182335b07328b0cb7bc3f83512aab5e969c6d77"
   }
  }
 },
 "nbformat": 4,
 "nbformat_minor": 2
}
