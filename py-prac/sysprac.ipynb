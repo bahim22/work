{
 "cells": [
  {
   "attachments": {},
   "cell_type": "markdown",
   "metadata": {},
   "source": [
    "# OS Python prac\n"
   ]
  },
  {
   "cell_type": "code",
   "execution_count": null,
   "metadata": {},
   "outputs": [],
   "source": [
    "import getpass\n",
    "import os\n",
    "\n",
    "# getpass.getuser()\n",
    "os.uname()\n"
   ]
  },
  {
   "cell_type": "code",
   "execution_count": 8,
   "metadata": {},
   "outputs": [
    {
     "data": {
      "text/plain": [
       "'/home/ib-ub/flow/work/py-prac'"
      ]
     },
     "execution_count": 8,
     "metadata": {},
     "output_type": "execute_result"
    }
   ],
   "source": [
    "os.getcwd()\n"
   ]
  },
  {
   "cell_type": "code",
   "execution_count": 9,
   "metadata": {},
   "outputs": [
    {
     "data": {
      "text/plain": [
       "os.stat_result(st_mode=16877, st_ino=28118, st_dev=2064, st_nlink=2, st_uid=1000, st_gid=1000, st_size=4096, st_atime=1670598533, st_mtime=1670598532, st_ctime=1670598532)"
      ]
     },
     "execution_count": 9,
     "metadata": {},
     "output_type": "execute_result"
    }
   ],
   "source": [
    "os.lstat(os.getcwd())\n"
   ]
  },
  {
   "cell_type": "code",
   "execution_count": null,
   "metadata": {},
   "outputs": [],
   "source": [
    "# from os import mkdir\n",
    "\n",
    "os.makedirs('one', mode=0o777, exist_ok=False)\n",
    "os.mkdir('../new')\n",
    "\n",
    "os.remove('one', )  # os.unlink('path')\n",
    "os.removedirs('../new')\n",
    "os.rmdir('Test')\n",
    "\n",
    "os.path.join(os.path.dirname('one'))\n",
    "# converts relative pathname to absolute\n",
    "\n",
    "os.rename('srcDir', 'dstDir', src_dir_fd=None, dst_dir_fd=None)\n",
    "os.renames('oldName', 'newName')\n",
    "\n",
    "os.removedirs('../.venv/pipCache/http/')\n"
   ]
  },
  {
   "cell_type": "code",
   "execution_count": 8,
   "metadata": {},
   "outputs": [
    {
     "data": {
      "text/plain": [
       "'../sample1/sample3/'"
      ]
     },
     "execution_count": 8,
     "metadata": {},
     "output_type": "execute_result"
    }
   ],
   "source": [
    "os.path.join('../sample1/', 'sample3/')\n"
   ]
  },
  {
   "cell_type": "code",
   "execution_count": 2,
   "metadata": {},
   "outputs": [],
   "source": [
    "os.renames('../Docs2/OsScriptDoc.md', '../Docs2/os_install.md')\n"
   ]
  },
  {
   "cell_type": "code",
   "execution_count": 1,
   "metadata": {},
   "outputs": [],
   "source": [
    "# os.renames('prac9.ipynb', 'sysprac.ipynb')\n",
    "os.renames('prac01_1.ipynb', 'file_open.ipynb')\n"
   ]
  },
  {
   "cell_type": "code",
   "execution_count": null,
   "metadata": {},
   "outputs": [],
   "source": [
    "# scan dir for files and print output\n",
    "\n",
    "# os.scandir('../new') |\n",
    "\n",
    "with os.scandir(os.getcwd()) as sc_it:\n",
    "    for file_name in sc_it:\n",
    "        if not file_name.name.startswith('.') and file_name.is_file():\n",
    "            print(file_name)\n"
   ]
  },
  {
   "cell_type": "code",
   "execution_count": 10,
   "metadata": {},
   "outputs": [
    {
     "name": "stdout",
     "output_type": "stream",
     "text": [
      "os.stat_result(st_mode=33188, st_ino=85572, st_dev=2064, st_nlink=1, st_uid=1000, st_gid=1000, st_size=242, st_atime=1670423961, st_mtime=1670423960, st_ctime=1670423960)\n"
     ]
    }
   ],
   "source": [
    "import os\n",
    "\n",
    "statinfo = os.stat('dev.env')\n",
    "print(statinfo, sep='next item: ')\n",
    "# print(statinfo.st_size)\n"
   ]
  },
  {
   "attachments": {},
   "cell_type": "markdown",
   "metadata": {},
   "source": [
    "os.stat_result class is an object that has attributes that correspond w/ stat structure\n",
    "\n",
    "- st_mode = file mode, permissions\n",
    "- st_uid<gid> = user id of file | group owner\n",
    "- st_size = size in bytes\n",
    "- st_atime,mtime, atime_ns, birthtime, creator, type\n"
   ]
  },
  {
   "cell_type": "code",
   "execution_count": 2,
   "metadata": {},
   "outputs": [
    {
     "data": {
      "text/plain": [
       "os.statvfs_result(f_bsize=4096, f_frsize=4096, f_blocks=65793553, f_bfree=64664027, f_bavail=61304488, f_files=16777216, f_ffree=16667534, f_favail=16667534, f_flag=4096, f_namemax=255)"
      ]
     },
     "execution_count": 2,
     "metadata": {},
     "output_type": "execute_result"
    }
   ],
   "source": [
    "os.statvfs('sysprac.ipynb')\n",
    "# returns object whose attributes describe fs (statvfs structure)\n"
   ]
  },
  {
   "cell_type": "code",
   "execution_count": null,
   "metadata": {},
   "outputs": [],
   "source": [
    "os.symlink('src', 'dst')\n"
   ]
  },
  {
   "cell_type": "code",
   "execution_count": null,
   "metadata": {},
   "outputs": [],
   "source": [
    "os.walk('top', topdown=True, onerror=None, followlinks=False)\n",
    "# create filenames in dir tree; yields 3-tuple (dirpath, dirnames, filenames)\n",
    "os.path.join('dirpath', 'name')\n",
    "# get full path to file or dir in dirpath attributes\n"
   ]
  },
  {
   "attachments": {},
   "cell_type": "markdown",
   "metadata": {},
   "source": [
    "# Process Management\n"
   ]
  },
  {
   "attachments": {},
   "cell_type": "markdown",
   "metadata": {},
   "source": [
    "execl() command format:\n",
    "\n",
    "```py\n",
    "execl(file: StrOrBytesPath, __arg0: StrOrBytesPath, *args: StrOrBytesPath)\n",
    "\n",
    "# Other options:\n",
    "\n",
    "execvpe() | execlpe()\n",
    "\n",
    "# Exit the command by calling\n",
    "\n",
    "sys.exit() | os._exit(n) | os.abort()\n",
    "```\n"
   ]
  },
  {
   "cell_type": "code",
   "execution_count": null,
   "metadata": {},
   "outputs": [],
   "source": [
    "import os\n",
    "import sys\n",
    "\n",
    "\n",
    "def run_exe():\n",
    "    os.execl('./openPrac.py', './dev.env')\n",
    "\n",
    "\n",
    "sys.exit()\n"
   ]
  },
  {
   "attachments": {},
   "cell_type": "markdown",
   "metadata": {},
   "source": [
    "# Exec command\n",
    "\n",
    "- exec: runs a new program, while replacing the current one\n",
    "- won't return anything if data is buffered on the open files\n",
    "- data can be flushed by running the cmds below prior to next exec func call\n",
    "\n",
    "```py\n",
    "sys.stdout.flush() | os.fsync()\n",
    "\n",
    "content = run_exe().getvalue()\n",
    "```\n"
   ]
  },
  {
   "cell_type": "code",
   "execution_count": null,
   "metadata": {},
   "outputs": [],
   "source": [
    "import io\n",
    "\n",
    "output = io.StringIO()\n",
    "output.write('line one.\\n')\n",
    "print('line two.', file=output)\n",
    "\n",
    "content = output.getvalue()\n",
    "# close obj & discard mem buff\n",
    "output.close\n"
   ]
  },
  {
   "attachments": {},
   "cell_type": "markdown",
   "metadata": {},
   "source": [
    "# Misc OS interfaces\n",
    "\n",
    "```py\n",
    "import os\n",
    "\n",
    "os.kill(__pid: int, __signal: int, /)\n",
    "\n",
    "os.startfile(path[, operation][, arguments][, cwd][, show_cmd])\n",
    "os.system('command')\n",
    "os.times()\n",
    "```\n"
   ]
  },
  {
   "cell_type": "code",
   "execution_count": null,
   "metadata": {},
   "outputs": [],
   "source": [
    "os.cpu_count()  # 12 return n of CPUs in system\n",
    "len(os.sched_getaffinity(0))  # n of usable CPUs\n",
    "os.confstr_names  # dict mapping names accepted by confstr() to the int val defined for the names by the host OS\n",
    "os.getloadavg(), os.sysconf('name'), os.sysconf_names\n"
   ]
  },
  {
   "cell_type": "code",
   "execution_count": null,
   "metadata": {},
   "outputs": [],
   "source": [
    "os.getrandom(size=888, flags=0), os.urandom(1024)\n"
   ]
  },
  {
   "cell_type": "code",
   "execution_count": null,
   "metadata": {},
   "outputs": [],
   "source": [
    "import os\n",
    "\n",
    "os.remove('../requirements3.txt')\n",
    "os.removedirs('./Dirname')\n",
    "os.renames('../PipRep.json', '../.venv/Reports')\n"
   ]
  },
  {
   "cell_type": "code",
   "execution_count": null,
   "metadata": {},
   "outputs": [],
   "source": [
    "# To-Do: Need to decide what I want it to do and adjust\n",
    "import os\n",
    "import sys\n",
    "\n",
    "\n",
    "def try_path(head, tail):\n",
    "    # old = str(input('Enter # of hours worked per week: '))\n",
    "    old = str(input('Enter name of old dir: '))\n",
    "    new = str(input('Enter new name for old dir: '))\n",
    "    if head and tail and not os.path.exists(head):\n",
    "        os.makedirs(head)\n",
    "    os.rename(old, new)\n",
    "    head, tail = os.path.split(old)\n",
    "    if head and tail:\n",
    "        print('file renamed')\n"
   ]
  }
 ],
 "metadata": {
  "kernelspec": {
   "display_name": ".venv",
   "language": "python",
   "name": "python3"
  },
  "language_info": {
   "codemirror_mode": {
    "name": "ipython",
    "version": 3
   },
   "file_extension": ".py",
   "mimetype": "text/x-python",
   "name": "python",
   "nbconvert_exporter": "python",
   "pygments_lexer": "ipython3",
   "version": "3.10.6 (main, Nov  2 2022, 18:53:38) [GCC 11.3.0]"
  },
  "orig_nbformat": 4,
  "vscode": {
   "interpreter": {
    "hash": "7f3abfc723bf13a883f46e30342236d635a22fb1fbb344f592fa3baf1c25b12f"
   }
  }
 },
 "nbformat": 4,
 "nbformat_minor": 2
}
