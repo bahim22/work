{
 "cells": [
  {
   "attachments": {},
   "cell_type": "markdown",
   "metadata": {},
   "source": [
    "# OS Python prac"
   ]
  },
  {
   "cell_type": "code",
   "execution_count": 6,
   "metadata": {},
   "outputs": [
    {
     "data": {
      "text/plain": [
       "posix.uname_result(sysname='Linux', nodename='ITS-TH220-02', release='5.10.16.3-microsoft-standard-WSL2', version='#1 SMP Fri Apr 2 22:23:49 UTC 2021', machine='x86_64')"
      ]
     },
     "execution_count": 6,
     "metadata": {},
     "output_type": "execute_result"
    }
   ],
   "source": [
    "import getpass\n",
    "import os\n",
    "\n",
    "# getpass.getuser()\n",
    "os.uname()"
   ]
  },
  {
   "cell_type": "code",
   "execution_count": 8,
   "metadata": {},
   "outputs": [
    {
     "data": {
      "text/plain": [
       "'/home/ib-ub/flow/work/py-prac'"
      ]
     },
     "execution_count": 8,
     "metadata": {},
     "output_type": "execute_result"
    }
   ],
   "source": [
    "os.getcwd()"
   ]
  },
  {
   "cell_type": "code",
   "execution_count": 9,
   "metadata": {},
   "outputs": [
    {
     "data": {
      "text/plain": [
       "os.stat_result(st_mode=16877, st_ino=28118, st_dev=2064, st_nlink=2, st_uid=1000, st_gid=1000, st_size=4096, st_atime=1670598533, st_mtime=1670598532, st_ctime=1670598532)"
      ]
     },
     "execution_count": 9,
     "metadata": {},
     "output_type": "execute_result"
    }
   ],
   "source": [
    "os.lstat(os.getcwd())"
   ]
  },
  {
   "cell_type": "code",
   "execution_count": null,
   "metadata": {},
   "outputs": [],
   "source": [
    "# from os import mkdir\n",
    "\n",
    "os.makedirs('one', mode=0o777, exist_ok=False)\n",
    "os.mkdir('../new')\n",
    "\n",
    "os.remove('one', ) # os.unlink('path')\n",
    "os.removedirs('../new')\n",
    "os.rmdir('test')\n",
    "\n",
    "# os.path.join(os.path.dirname('one'), result)\n",
    "# convert relative pathname to absolute\n",
    "\n",
    "os.rename('srcDir', 'dstDir', src_dir_fd=None, dst_dir_fd=None)\n",
    "os.renames('oldName', 'newName')\n"
   ]
  },
  {
   "cell_type": "code",
   "execution_count": null,
   "metadata": {},
   "outputs": [],
   "source": [
    "os.renames('prac9.ipynb', 'sysprac.ipynb')"
   ]
  },
  {
   "cell_type": "code",
   "execution_count": 11,
   "metadata": {},
   "outputs": [
    {
     "name": "stdout",
     "output_type": "stream",
     "text": [
      "<DirEntry 'dev.env'>\n",
      "<DirEntry 'prac9.ipynb'>\n",
      "<DirEntry 'prac01_1.ipynb'>\n",
      "<DirEntry 'dict-prac.py'>\n",
      "<DirEntry 'openPrac.py'>\n",
      "<DirEntry 'conv.py'>\n",
      "<DirEntry 'ex_admail.ipynb'>\n",
      "<DirEntry 'prac11.py'>\n",
      "<DirEntry 'convFunc.ipynb'>\n",
      "<DirEntry 'listPrac.py'>\n",
      "<DirEntry 'prac12.ipynb'>\n",
      "<DirEntry 'prac22.py'>\n",
      "<DirEntry 'ex_envPrac.ipynb'>\n",
      "<DirEntry 'getReq22.ipynb'>\n",
      "<DirEntry 'listSort.ipynb'>\n",
      "<DirEntry 'requirements.txt'>\n",
      "<DirEntry 'envPrac.py'>\n",
      "<DirEntry 'mail1.ipynb'>\n"
     ]
    }
   ],
   "source": [
    "# scan dir for files and print output\n",
    "\n",
    "# os.scandir('../new') |\n",
    "\n",
    "with os.scandir(os.getcwd()) as sc_it:\n",
    "    for file_name in sc_it:\n",
    "        if not file_name.name.startswith('.') and file_name.is_file():\n",
    "            print(file_name)"
   ]
  },
  {
   "cell_type": "code",
   "execution_count": 10,
   "metadata": {},
   "outputs": [
    {
     "name": "stdout",
     "output_type": "stream",
     "text": [
      "os.stat_result(st_mode=33188, st_ino=85572, st_dev=2064, st_nlink=1, st_uid=1000, st_gid=1000, st_size=242, st_atime=1670423961, st_mtime=1670423960, st_ctime=1670423960)\n"
     ]
    }
   ],
   "source": [
    "import os\n",
    "\n",
    "statinfo = os.stat('dev.env')\n",
    "print(statinfo, sep='next item: ')\n",
    "# print(statinfo.st_size)"
   ]
  },
  {
   "attachments": {},
   "cell_type": "markdown",
   "metadata": {},
   "source": [
    "os.stat_result class is an object that has attributes that correspond w/ stat structure\n",
    "\n",
    "- st_mode = file mode, permissions\n",
    "- st_uid<gid> = user id of file | group owner\n",
    "- st_size = size in bytes\n",
    "- st_atime,mtime, atime_ns, birthtime, creator, type"
   ]
  },
  {
   "cell_type": "code",
   "execution_count": 2,
   "metadata": {},
   "outputs": [
    {
     "data": {
      "text/plain": [
       "os.statvfs_result(f_bsize=4096, f_frsize=4096, f_blocks=65793553, f_bfree=64664027, f_bavail=61304488, f_files=16777216, f_ffree=16667534, f_favail=16667534, f_flag=4096, f_namemax=255)"
      ]
     },
     "execution_count": 2,
     "metadata": {},
     "output_type": "execute_result"
    }
   ],
   "source": [
    "os.statvfs('sysprac.ipynb')\n",
    "# returns object whose attributes describe fs (statvfs structure)"
   ]
  },
  {
   "cell_type": "code",
   "execution_count": null,
   "metadata": {},
   "outputs": [],
   "source": [
    "os.symlink('src', 'dst')"
   ]
  },
  {
   "cell_type": "code",
   "execution_count": null,
   "metadata": {},
   "outputs": [],
   "source": [
    "os.walk('top', topdown=True, onerror=None, followlinks=False)\n",
    "# create filenames in dir tree; yields 3-tuple (dirpath, dirnames, filenames)\n",
    "os.path.join('dirpath', 'name')\n",
    "# get full path to file or dir in dirpath attributes"
   ]
  },
  {
   "attachments": {},
   "cell_type": "markdown",
   "metadata": {},
   "source": [
    "# Process Management"
   ]
  },
  {
   "cell_type": "code",
   "execution_count": null,
   "metadata": {},
   "outputs": [],
   "source": [
    "import os, sys\n",
    "\n",
    "def run_exe():\n",
    "    os.execl('./openPrac.py', './dev.env')\n",
    "sys.exit()\n",
    "\n",
    "# os._exit(n) \n",
    "# or os.abort()\n",
    "\n",
    "# execvpe, execlpe \n",
    "# execl(file: StrOrBytesPath, __arg0: StrOrBytesPath, *args: StrOrBytesPath)\n",
    "\n",
    "'''\n",
    "exec new program, replacing current one and don't return\n",
    "if data is buffered on the open files, flush them w/ sys.stdout.flush() or os.fsync() prior to next exec func call\n",
    "\n",
    "content = run_exe().getvalue()\n",
    "'''\n",
    "\n"
   ]
  },
  {
   "cell_type": "code",
   "execution_count": 17,
   "metadata": {},
   "outputs": [
    {
     "data": {
      "text/plain": [
       "<function StringIO.close()>"
      ]
     },
     "execution_count": 17,
     "metadata": {},
     "output_type": "execute_result"
    }
   ],
   "source": [
    "import io\n",
    "\n",
    "output = io.StringIO()\n",
    "output.write('line one.\\n')\n",
    "print('line two.', file=output)\n",
    "\n",
    "content = output.getvalue()\n",
    "output.close # close obj & discard mem buff"
   ]
  },
  {
   "attachments": {},
   "cell_type": "markdown",
   "metadata": {},
   "source": [
    "# Misc OS interfaces\n",
    "\n",
    "```py\n",
    "import os\n",
    "\n",
    "os.kill(__pid: int, __signal: int, /)\n",
    "\n",
    "os.startfile(path[, operation][, arguments][, cwd][, show_cmd])\n",
    "os.system('command')\n",
    "os.times()\n",
    "```"
   ]
  },
  {
   "cell_type": "code",
   "execution_count": null,
   "metadata": {},
   "outputs": [],
   "source": [
    "os.cpu_count() # 12 return n of CPUs in system\n",
    "len(os.sched_getaffinity(0)) # n of usable CPUs\n",
    "os.confstr_names # dict mapping names accepted by confstr() to the int val defined for the names by the host OS\n",
    "os.getloadavg(), os.sysconf('name'), os.sysconf_names"
   ]
  },
  {
   "cell_type": "code",
   "execution_count": null,
   "metadata": {},
   "outputs": [],
   "source": [
    "os.getrandom(size= 888, flags=0), os.urandom(1024)"
   ]
  },
  {
   "cell_type": "code",
   "execution_count": null,
   "metadata": {},
   "outputs": [],
   "source": [
    "import os\n",
    "\n",
    "# os.remove('../requirements3.txt')\n",
    "# removedirs()\n",
    "os.renames('../PipRep.json', '../.venv/Reports')\n"
   ]
  },
  {
   "cell_type": "code",
   "execution_count": null,
   "metadata": {},
   "outputs": [],
   "source": [
    "import os, sys\n",
    "\n",
    "def try_path(head, tail):\n",
    "    # old = str(input('Enter # of hours worked per week: '))\n",
    "    old = str(input('Enter name of old dir: '))\n",
    "    new = str(input('Enter new name for old dir: '))\n",
    "    if head and tail and not os.path.exists(head):\n",
    "        os.makedirs(head)\n",
    "    os.rename(old, new)\n",
    "    head, tail = os.path.split(old)\n",
    "    if head and tail:\n",
    "        print('file renamed')\n"
   ]
  },
  {
   "cell_type": "code",
   "execution_count": null,
   "metadata": {},
   "outputs": [],
   "source": [
    "os.removedirs('../.venv/pipCache/http/')\n"
   ]
  },
  {
   "cell_type": "code",
   "execution_count": null,
   "metadata": {},
   "outputs": [],
   "source": [
    "\n",
    "def base_rem():\n",
    "    if head and tail and not path.exists(head):\n",
    "        makedirs(head)\n",
    "    rename(old, new)\n",
    "    head, tail = path.split(old)\n",
    "    if head and tail:"
   ]
  },
  {
   "cell_type": "code",
   "execution_count": null,
   "metadata": {},
   "outputs": [],
   "source": [
    "def remdir(name):\n",
    "    rmdir(name)\n",
    "    head, tail = path.split(name)\n",
    "    if not tail:"
   ]
  },
  {
   "cell_type": "code",
   "execution_count": null,
   "metadata": {},
   "outputs": [],
   "source": [
    "def pip_dir_clean():\n",
    "    os.renames('../.venv/Reports','../Reports/reports2.json')\n",
    "pip_dir_clean()\n"
   ]
  },
  {
   "cell_type": "code",
   "execution_count": 1,
   "metadata": {},
   "outputs": [
    {
     "name": "stdout",
     "output_type": "stream",
     "text": [
      "False\n"
     ]
    }
   ],
   "source": [
    "import filecmp\n",
    "\n",
    "f1 = '../requirements.txt'\n",
    "f2 = '../requirements3.txt'\n",
    "\n",
    "r = filecmp.cmp(f1, f2, shallow=False)\n",
    "print(r)"
   ]
  },
  {
   "cell_type": "code",
   "execution_count": null,
   "metadata": {},
   "outputs": [],
   "source": []
  },
  {
   "cell_type": "code",
   "execution_count": 9,
   "metadata": {},
   "outputs": [
    {
     "name": "stdout",
     "output_type": "stream",
     "text": [
      "File 1 Line #:  1  Total file 1 lines:  1.0\n",
      "File 1 Line #:  2  Total file 1 lines:  2.0\n",
      "File 1 Line #:  3  Total file 1 lines:  3.0\n",
      "File 1 Line #:  4  Total file 1 lines:  4.0\n",
      "File 1 Line #:  5  Total file 1 lines:  5.0\n",
      "File 1 Line #:  6  Total file 1 lines:  6.0\n",
      "File 1 Line #:  7  Total file 1 lines:  7.0\n",
      "File 1 Line #:  8  Total file 1 lines:  8.0\n",
      "File 1 Line #:  9  Total file 1 lines:  9.0\n",
      "File 1 Line #:  10  Total file 1 lines:  10.0\n",
      "File 1 Line #:  11  Total file 1 lines:  11.0\n",
      "File 1 Line #:  12  Total file 1 lines:  12.0\n",
      "File 1 Line #:  13  Total file 1 lines:  13.0\n",
      "File 1 Line #:  14  Total file 1 lines:  14.0\n",
      "File 1 Line #:  15  Total file 1 lines:  15.0\n",
      "File 1 Line #:  16  Total file 1 lines:  16.0\n",
      "File 1 Line #:  17  Total file 1 lines:  17.0\n",
      "File 1 Line #:  18  Total file 1 lines:  18.0\n",
      "File 1 Line #:  19  Total file 1 lines:  19.0\n",
      "File 1 Line #:  20  Total file 1 lines:  20.0\n",
      "File 1 Line #:  21  Total file 1 lines:  21.0\n",
      "File 1 Line #:  22  Total file 1 lines:  22.0\n",
      "File 1 Line #:  23  Total file 1 lines:  23.0\n",
      "File 1 Line #:  24  Total file 1 lines:  24.0\n",
      "File 1 Line #:  25  Total file 1 lines:  25.0\n",
      "File 1 Line #:  26  Total file 1 lines:  26.0\n",
      "File 1 Line #:  27  Total file 1 lines:  27.0\n",
      "File 1 Line #:  28  Total file 1 lines:  28.0\n",
      "File 1 Line #:  29  Total file 1 lines:  29.0\n",
      "File 1 Line #:  30  Total file 1 lines:  30.0\n",
      "File 1 Line #:  31  Total file 1 lines:  31.0\n",
      "File 1 Line #:  32  Total file 1 lines:  32.0\n",
      "File 1 Line #:  33  Total file 1 lines:  33.0\n",
      "File 1 Line #:  34  Total file 1 lines:  34.0\n",
      "File 1 Line #:  35  Total file 1 lines:  35.0\n",
      "File 1 Line #:  36  Total file 1 lines:  36.0\n",
      "File 1 Line #:  37  Total file 1 lines:  37.0\n",
      "File 1 Line #:  38  Total file 1 lines:  38.0\n",
      "File 1 Line #:  39  Total file 1 lines:  39.0\n",
      "File 1 Line #:  40  Total file 1 lines:  40.0\n",
      "File 1 Line #:  41  Total file 1 lines:  41.0\n",
      "File 1 Line #:  42  Total file 1 lines:  42.0\n",
      "File 1 Line #:  43  Total file 1 lines:  43.0\n",
      "File 2 Line #:  1 Total file 2 lines:  1\n",
      "File 2 Line #:  2 Total file 2 lines:  2\n",
      "File 2 Line #:  3 Total file 2 lines:  3\n",
      "File 2 Line #:  4 Total file 2 lines:  4\n",
      "File 2 Line #:  5 Total file 2 lines:  5\n",
      "File 2 Line #:  6 Total file 2 lines:  6\n",
      "File 2 Line #:  7 Total file 2 lines:  7\n",
      "File 2 Line #:  8 Total file 2 lines:  8\n",
      "File 2 Line #:  9 Total file 2 lines:  9\n",
      "File 2 Line #:  10 Total file 2 lines:  10\n",
      "File 2 Line #:  11 Total file 2 lines:  11\n",
      "File 2 Line #:  12 Total file 2 lines:  12\n",
      "File 2 Line #:  13 Total file 2 lines:  13\n",
      "File 2 Line #:  14 Total file 2 lines:  14\n",
      "File 2 Line #:  15 Total file 2 lines:  15\n",
      "File 2 Line #:  16 Total file 2 lines:  16\n",
      "File 2 Line #:  17 Total file 2 lines:  17\n",
      "File 2 Line #:  18 Total file 2 lines:  18\n",
      "File 2 Line #:  19 Total file 2 lines:  19\n",
      "File 2 Line #:  20 Total file 2 lines:  20\n",
      "File 2 Line #:  21 Total file 2 lines:  21\n",
      "File 2 Line #:  22 Total file 2 lines:  22\n",
      "File 2 Line #:  23 Total file 2 lines:  23\n",
      "File 2 Line #:  24 Total file 2 lines:  24\n",
      "File 2 Line #:  25 Total file 2 lines:  25\n",
      "File 2 Line #:  26 Total file 2 lines:  26\n",
      "File 2 Line #:  27 Total file 2 lines:  27\n",
      "File 2 Line #:  28 Total file 2 lines:  28\n",
      "File 2 Line #:  29 Total file 2 lines:  29\n",
      "File 2 Line #:  30 Total file 2 lines:  30\n",
      "File 2 Line #:  31 Total file 2 lines:  31\n",
      "File 2 Line #:  32 Total file 2 lines:  32\n",
      "File 2 Line #:  33 Total file 2 lines:  33\n",
      "File 2 Line #:  34 Total file 2 lines:  34\n",
      "File 2 Line #:  35 Total file 2 lines:  35\n",
      "File 2 Line #:  36 Total file 2 lines:  36\n",
      "File 2 Line #:  37 Total file 2 lines:  37\n",
      "File 2 Line #:  38 Total file 2 lines:  38\n",
      "File 2 Line #:  39 Total file 2 lines:  39\n",
      "File 2 Line #:  40 Total file 2 lines:  40\n",
      "File 2 Line #:  41 Total file 2 lines:  41\n",
      "File 2 Line #:  42 Total file 2 lines:  42\n",
      "File 2 Line #:  43 Total file 2 lines:  43\n",
      "File 2 Line #:  44 Total file 2 lines:  44\n",
      "File 2 Line #:  45 Total file 2 lines:  45\n",
      "File 2 Line #:  46 Total file 2 lines:  46\n",
      "File 2 Line #:  47 Total file 2 lines:  47\n"
     ]
    }
   ],
   "source": [
    "open_f1 = open(f1, 'r')\n",
    "open_f2 = open(f2, 'r')\n",
    "\n",
    "i = 0\n",
    "\n",
    "for line1 in open_f1:\n",
    "    i += 1\n",
    "    total = i.__add__(i) / 2\n",
    "    print('File 1 Line #: ', i,' Total file 1 lines: ', total)\n",
    "\n",
    "x = 0\n",
    "\n",
    "for line2 in open_f2:\n",
    "    x += 1\n",
    "    total = x\n",
    "    print('File 2 Line #: ', x,'Total file 2 lines: ', total)\n",
    "\n",
    "open_f1.close()\n",
    "open_f2.close()"
   ]
  },
  {
   "cell_type": "code",
   "execution_count": null,
   "metadata": {},
   "outputs": [],
   "source": []
  },
  {
   "cell_type": "code",
   "execution_count": 10,
   "metadata": {},
   "outputs": [
    {
     "name": "stdout",
     "output_type": "stream",
     "text": [
      "Line  1 : Identical\n",
      "Line  2 : Identical\n",
      "Line  3 : Identical\n",
      "Line  4 :\n",
      "\tFile 1: certifi==2022.12.7\n",
      "\tFile 2: certifi==2022.9.24\n",
      "Line  5 : Identical\n",
      "Line  6 :\n",
      "\tFile 1: colorama==0.4.5\n",
      "\tFile 2: comm==0.1.0\n",
      "Line  7 :\n",
      "\tFile 1: comm==0.1.0\n",
      "\tFile 2: debugpy==1.6.3\n",
      "Line  8 :\n",
      "\tFile 1: debugpy==1.6.3\n",
      "\tFile 2: decorator==5.1.1\n",
      "Line  9 :\n",
      "\tFile 1: decorator==5.1.1\n",
      "\tFile 2: entrypoints==0.4\n",
      "Line  10 :\n",
      "\tFile 1: entrypoints==0.4\n",
      "\tFile 2: executing==1.2.0\n",
      "Line  11 :\n",
      "\tFile 1: executing==1.2.0\n",
      "\tFile 2: flake8==6.0.0\n",
      "Line  12 : Identical\n",
      "Line  13 : Identical\n",
      "Line  14 : Identical\n",
      "Line  15 : Identical\n",
      "Line  16 :\n",
      "\tFile 1: jupyter_client==7.4.7\n",
      "\tFile 2: jupyter-client==7.4.7\n",
      "Line  17 :\n",
      "\tFile 1: jupyter_core==5.0.0\n",
      "\tFile 2: jupyter-core==5.0.0\n",
      "Line  18 : Identical\n",
      "Line  19 :\n",
      "\tFile 1: nest-asyncio==1.5.6\n",
      "\tFile 2: mccabe==0.7.0\n",
      "Line  20 :\n",
      "\tFile 1: packaging==21.3\n",
      "\tFile 2: nest-asyncio==1.5.6\n",
      "Line  21 :\n",
      "\tFile 1: parso==0.8.3\n",
      "\tFile 2: numpy==1.23.5\n",
      "Line  22 :\n",
      "\tFile 1: pexpect==4.8.0\n",
      "\tFile 2: packaging==21.3\n",
      "Line  23 :\n",
      "\tFile 1: pickleshare==0.7.5\n",
      "\tFile 2: pandas==1.5.2\n",
      "Line  24 :\n",
      "\tFile 1: platformdirs==2.5.4\n",
      "\tFile 2: parso==0.8.3\n",
      "Line  25 :\n",
      "\tFile 1: prompt-toolkit==3.0.33\n",
      "\tFile 2: pexpect==4.8.0\n",
      "Line  26 :\n",
      "\tFile 1: psutil==5.9.4\n",
      "\tFile 2: pickleshare==0.7.5\n",
      "Line  27 :\n",
      "\tFile 1: ptyprocess==0.7.0\n",
      "\tFile 2: platformdirs==2.5.4\n",
      "Line  28 :\n",
      "\tFile 1: pure-eval==0.2.2\n",
      "\tFile 2: prompt-toolkit==3.0.33\n",
      "Line  29 :\n",
      "\tFile 1: pycodestyle==2.10.0\n",
      "\tFile 2: psutil==5.9.4\n",
      "Line  30 :\n",
      "\tFile 1: Pygments==2.13.0\n",
      "\tFile 2: ptyprocess==0.7.0\n",
      "Line  31 :\n",
      "\tFile 1: pyparsing==3.0.9\n",
      "\tFile 2: pure-eval==0.2.2\n",
      "Line  32 :\n",
      "\tFile 1: python-dateutil==2.8.2\n",
      "\tFile 2: pycodestyle==2.10.0\n",
      "Line  33 :\n",
      "\tFile 1: python-dotenv==0.21.0\n",
      "\tFile 2: pyflakes==3.0.1\n",
      "Line  34 :\n",
      "\tFile 1: pytz==2022.4\n",
      "\tFile 2: Pygments==2.13.0\n",
      "Line  35 :\n",
      "\tFile 1: pyzmq==24.0.1\n",
      "\tFile 2: pyparsing==3.0.9\n",
      "Line  36 :\n",
      "\tFile 1: requests==2.28.1\n",
      "\tFile 2: python-dateutil==2.8.2\n",
      "Line  37 :\n",
      "\tFile 1: six==1.16.0\n",
      "\tFile 2: python-dotenv==0.21.0\n",
      "Line  38 :\n",
      "\tFile 1: stack-data==0.6.1\n",
      "\tFile 2: pytz==2022.6\n",
      "Line  39 :\n",
      "\tFile 1: tomli==2.0.1\n",
      "\tFile 2: pyzmq==24.0.1\n",
      "Line  40 :\n",
      "\tFile 1: tornado==6.2\n",
      "\tFile 2: requests==2.28.1\n",
      "Line  41 :\n",
      "\tFile 1: traitlets==5.5.0\n",
      "\tFile 2: six==1.16.0\n",
      "Line  42 :\n",
      "\tFile 1: urllib3==1.26.12\n",
      "\tFile 2: stack-data==0.6.1\n",
      "Line  43 :\n",
      "\tFile 1: wcwidth==0.2.5\n",
      "\tFile 2: tomli==2.0.1\n"
     ]
    }
   ],
   "source": [
    "open_f1 = open(f1, 'r')\n",
    "open_f2 = open(f2, 'r')\n",
    "\n",
    "i = 0\n",
    "\n",
    "for line1 in open_f1:\n",
    "    i += 1\n",
    "\n",
    "    for line2 in open_f2:\n",
    "\n",
    "        if line1 == line2:\n",
    "            print('Line ', i, ': Identical')\n",
    "        else:\n",
    "            print('Line ', i, ':')\n",
    "\n",
    "            print('\\tFile 1:', line1, end='')\n",
    "            print('\\tFile 2:', line2, end='')\n",
    "        break\n",
    "    \n",
    "open_f1.close()\n",
    "open_f2.close()"
   ]
  },
  {
   "cell_type": "code",
   "execution_count": null,
   "metadata": {},
   "outputs": [],
   "source": []
  }
 ],
 "metadata": {
  "kernelspec": {
   "display_name": ".venv",
   "language": "python",
   "name": "python3"
  },
  "language_info": {
   "codemirror_mode": {
    "name": "ipython",
    "version": 3
   },
   "file_extension": ".py",
   "mimetype": "text/x-python",
   "name": "python",
   "nbconvert_exporter": "python",
   "pygments_lexer": "ipython3",
   "version": "3.8.10"
  },
  "orig_nbformat": 4,
  "vscode": {
   "interpreter": {
    "hash": "3bbfbb50d7f9d1744171a66d1182335b07328b0cb7bc3f83512aab5e969c6d77"
   }
  }
 },
 "nbformat": 4,
 "nbformat_minor": 2
}
