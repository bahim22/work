{
 "cells": [
  {
   "cell_type": "code",
   "execution_count": 25,
   "metadata": {},
   "outputs": [],
   "source": [
    "SUFFIXES = {\n",
    "    1000: [\n",
    "        'KB', 'MB', 'GB', 'TB', 'PB'\n",
    "    ],\n",
    "    1024: [\n",
    "        'KiB', 'MiB', 'GiB', 'TiB', 'PiB'\n",
    "    ]\n",
    "}"
   ]
  },
  {
   "cell_type": "markdown",
   "metadata": {},
   "source": [
    "## Need to import the file when using in bash, then call it with file_name.function_name\n",
    "```py\n",
    "import func\n",
    "\n",
    "print(func.approx_size(4096, False))\n",
    "```\n",
    "## "
   ]
  },
  {
   "cell_type": "code",
   "execution_count": 26,
   "metadata": {},
   "outputs": [],
   "source": [
    "def approx_size(size, kb_is_1024_bytes = True):\n",
    "    if size < 0:\n",
    "        raise ValueError('int must be non-zero')\n",
    "\n",
    "    multiple = 1024 if kb_is_1024_bytes else 1000\n",
    "\n",
    "    for suffix in SUFFIXES[multiple]:\n",
    "        size /= multiple\n",
    "        if size < multiple:\n",
    "            return '{0:.1f} {1}'.format(size, suffix)\n",
    "            \n",
    "    raise ValueError('int too large')\n",
    "\n",
    "\n"
   ]
  },
  {
   "cell_type": "code",
   "execution_count": 58,
   "metadata": {},
   "outputs": [
    {
     "name": "stdout",
     "output_type": "stream",
     "text": [
      "4.0 KiB\n"
     ]
    }
   ],
   "source": [
    "print(approx_size(4096))"
   ]
  },
  {
   "cell_type": "code",
   "execution_count": 30,
   "metadata": {},
   "outputs": [
    {
     "name": "stdout",
     "output_type": "stream",
     "text": [
      "100.0 MB\n"
     ]
    }
   ],
   "source": [
    "if __name__ == '__main__':\n",
    "    print(approx_size(100000000, False))"
   ]
  },
  {
   "cell_type": "code",
   "execution_count": 29,
   "metadata": {},
   "outputs": [
    {
     "name": "stdout",
     "output_type": "stream",
     "text": [
      "95.4 MiB\n"
     ]
    }
   ],
   "source": [
    "if __name__ == '__main__':\n",
    "    print(approx_size(100000000))"
   ]
  },
  {
   "cell_type": "code",
   "execution_count": 57,
   "metadata": {},
   "outputs": [
    {
     "name": "stdout",
     "output_type": "stream",
     "text": [
      "91.0 MiB\n"
     ]
    }
   ],
   "source": [
    "\n",
    "print(approx_size(int('95400680', base=10)))\n"
   ]
  },
  {
   "cell_type": "code",
   "execution_count": 50,
   "metadata": {},
   "outputs": [
    {
     "name": "stdout",
     "output_type": "stream",
     "text": [
      "95.6 MB\n"
     ]
    }
   ],
   "source": [
    "print(approx_size(95585000, False))"
   ]
  },
  {
   "cell_type": "code",
   "execution_count": 51,
   "metadata": {},
   "outputs": [
    {
     "name": "stdout",
     "output_type": "stream",
     "text": [
      "91.2 MiB\n"
     ]
    }
   ],
   "source": [
    "print(approx_size(95585000))\n"
   ]
  },
  {
   "cell_type": "code",
   "execution_count": 33,
   "metadata": {},
   "outputs": [
    {
     "data": {
      "text/plain": [
       "4"
      ]
     },
     "execution_count": 33,
     "metadata": {},
     "output_type": "execute_result"
    }
   ],
   "source": [
    "int('0b100', base=0)"
   ]
  }
 ],
 "metadata": {
  "kernelspec": {
   "display_name": "Python 3.8.10 ('.venv': venv)",
   "language": "python",
   "name": "python3"
  },
  "language_info": {
   "codemirror_mode": {
    "name": "ipython",
    "version": 3
   },
   "file_extension": ".py",
   "mimetype": "text/x-python",
   "name": "python",
   "nbconvert_exporter": "python",
   "pygments_lexer": "ipython3",
   "version": "3.8.10"
  },
  "orig_nbformat": 4,
  "vscode": {
   "interpreter": {
    "hash": "3bbfbb50d7f9d1744171a66d1182335b07328b0cb7bc3f83512aab5e969c6d77"
   }
  }
 },
 "nbformat": 4,
 "nbformat_minor": 2
}
