{
 "cells": [
  {
   "cell_type": "code",
   "execution_count": null,
   "metadata": {},
   "outputs": [],
   "source": [
    "import ldap\n",
    "import json\n",
    "import requests\n",
    "# *! ToDo\n",
    "\n",
    "# Connect to AD\n",
    "con = ldap.initialize('ldap://ad.example.com')\n",
    "con.bind('cn=admin,dc=example,dc=com', 'password')\n",
    "\n",
    "# Search for the user account in AD\n",
    "result = con.search_s('dc=example,dc=com', ldap.SCOPE_SUBTREE, '(sAMAccountName=john.doe)')\n",
    "\n",
    "# If the user account is found, create a ticket in the ticketing system\n",
    "if len(result) > 0:\n",
    "  user = result[0]\n",
    "  ticket = {\n",
    "    'summary': 'Account issue for {}'.format(user[1]['cn'][0]),\n",
    "    'description': 'There is an issue with the account for {}. Please investigate.'.format(user[1]['cn'][0]),\n",
    "    'priority': 'High'\n",
    "  }\n",
    "  r = requests.post('https://ticketing.example.com/api/tickets', json=ticket)\n",
    "  if r.status_code == 201:\n",
    "    print('Ticket created successfully')\n",
    "  else:\n",
    "    print('Error creating ticket: {}'.format(r.text))\n",
    "else:\n",
    "  print('User not found')\n",
    "\n",
    "# Close the connection to AD\n",
    "con.unbind()"
   ]
  },
  {
   "cell_type": "code",
   "execution_count": null,
   "metadata": {},
   "outputs": [],
   "source": [
    "# Requests: HTTP library => Basic GET & POST usage:\n",
    "# *! Review ->\n",
    "\n",
    "import requests\n",
    "r = requests.get('https://www.python.org')\n",
    "r.status_code\n",
    "# 200\n",
    "# b'Python is a programming language' in r.content\n",
    "print(b'Python is a programming language' in r.content)\n",
    "# True\n",
    "\n",
    "payload = dict(key1='value1', key2='value2')\n",
    "r = requests.post('https://httpbin.org/post', data=payload)\n",
    "print(r.text)\n",
    "\"\"\" \n",
    "{\n",
    "    \"form\": {\n",
    "        \"key1\": \"value1\",\n",
    "        \"key2\": \"value2\"\n",
    "    },\n",
    "} \n",
    "\"\"\""
   ]
  },
  {
   "cell_type": "code",
   "execution_count": null,
   "metadata": {
    "vscode": {
     "languageId": "shellscript"
    }
   },
   "outputs": [],
   "source": [
    "# FS API \n",
    "curl - v - u ibalde@pointpark.freshservice.com: $FS_API_KEY - X GET'https://pointpark.freshservice.com/api/v2/agents?active=true'\n",
    "\n",
    "curl - v - u key123: X - X GET 'https://pointpark.freshservice.com/api/v2/departments'\n",
    "\n",
    "# ** Close connection => req\n",
    "\n",
    "curl - v - u key123: X - H \"Connection: close\" \"https://pointpark.freshservice.com\"\n",
    "\n",
    "# Microsoft Graph Explorer\n",
    "https://developer.microsoft.com/en-us/graph/graph-explorer?request=me&method=GET&version=v1.0&GraphUrl=https://graph.microsoft.com\n"
   ]
  },
  {
   "cell_type": "code",
   "execution_count": null,
   "metadata": {},
   "outputs": [],
   "source": [
    "# Return a datetime.tzinfo implementation \\\n",
    "    # for the given timezone\n",
    "# *! ToDo -> datetime module example\n",
    "\n",
    "from datetime import datetime, timedelta\n",
    "from pytz import timezone\n",
    "\n",
    "utc = timezone('UTC')\n",
    "eastern = timezone('US/Eastern')\n",
    "eastern.zone\n",
    "# 'US/Eastern'\n",
    "# timezone(unicode('US/Eastern')) is eastern\n",
    "# True\n",
    "utc_dt = datetime(2002, 10, 27, 6, 0, 0, tzinfo=utc)\n",
    "loc_dt = utc_dt.astimezone(eastern)\n",
    "fmt = '%Y-%m-%d %H:%M:%S %Z (%z)'\n",
    "loc_dt.strftime(fmt)\n",
    "# '2002-10-27 01:00:00 EST (-0500)'\n",
    "(loc_dt - timedelta(minutes=10)).strftime(fmt)\n",
    "# '2002-10-27 00:50:00 EST (-0500)'\n",
    "eastern.normalize(loc_dt - timedelta(minutes=10)).strftime(fmt)\n",
    "# '2002-10-27 01:50:00 EDT (-0400)'\n",
    "(loc_dt + timedelta(minutes=10)).strftime(fmt)\n",
    "# '2002-10-27 01:10:00 EST (-0500)'\n"
   ]
  },
  {
   "cell_type": "code",
   "execution_count": null,
   "metadata": {},
   "outputs": [],
   "source": [
    "import datetime, calendar\n",
    "from pytz import timezone\n",
    "import pytz\n",
    "import pyttsx3\n",
    "import icalendar\n",
    "\n",
    "def schedule_day() -> None:\n",
    "    tasks: dict = {}\n",
    "    while True:\n",
    "        task: str = input(\"Enter task (or 'q' to quit): \")\n",
    "        if task == 'q':\n",
    "            break\n",
    "        importance: int = int(input('Enter level of importance \\\n",
    "            (1-3): '))\n",
    "        tasks[task] = importance\n",
    "        \n",
    "    now = datetime.datetime.now(timezone('US/Eastern'))\n",
    "    for task, importance in tasks.items():\n",
    "        if importance == 1:\n",
    "            event_time = now + datetime.timedelta(days=1)\n",
    "        elif importance == 2:\n",
    "            event_time = now + datetime.timedelta(days=2)\n",
    "        elif importance == 3:\n",
    "            event_time = now + datetime.timedelta(days=3)\n",
    "            \n",
    "        # need to use the iCalendar library instead\n",
    "        calendar.event(task, event_time)\n",
    "        print(f'Event created: {task} on {event_time}')\n",
    "        \n",
    "        engine = pyttsx3.init()\n",
    "        engine.say(f'Don\\t forget to {task} on {event_time}')\n",
    "        engine.runAndWait()"
   ]
  },
  {
   "attachments": {},
   "cell_type": "markdown",
   "metadata": {},
   "source": [
    "### Calling OpenAI via API"
   ]
  },
  {
   "cell_type": "code",
   "execution_count": null,
   "metadata": {},
   "outputs": [],
   "source": [
    "import os\n",
    "import openai\n",
    "\n",
    "openai.api_key = os.getenv(\"OPENAI_API_KEY\")\n",
    "\n",
    "response = openai.Completion.create(\n",
    "    model='text-davinci-003',\n",
    "    prompt='Summarise the sections that are in the Comptia A+ 220-1101 certification exam.\\n\\n',\n",
    "    temparature=0.3,\n",
    "    max_tokens=150,\n",
    "    top_p=1,\n",
    "    frequency_penalty=0,\n",
    "    presence_penalty=0\n",
    ")"
   ]
  },
  {
   "cell_type": "code",
   "execution_count": null,
   "metadata": {
    "vscode": {
     "languageId": "shellscript"
    }
   },
   "outputs": [],
   "source": [
    "curl https://api.openapi.com/v1/completions \\\n",
    "    -H \"Content-Type: application/json\" \\\n",
    "    -H \"Autorization: Bearer $OPENAI_API_KEY\" \\\n",
    "    -d '{\n",
    "    'model' = 'text-davinci-003',\n",
    "    'prompt' = 'Summarise the sections that are in the Comptia A+ 220-1101 certification exam.\\n\\n',\n",
    "    'temparature' = 0.3,\n",
    "    'max_tokens' = 150,\n",
    "    'top_p' = 1,\n",
    "    'frequency_penalty' = 0,\n",
    "    'presence_penalty' = 0\n",
    "    }'"
   ]
  },
  {
   "cell_type": "code",
   "execution_count": null,
   "metadata": {
    "vscode": {
     "languageId": "javascript"
    }
   },
   "outputs": [],
   "source": [
    "// @ts-nocheck\n",
    "// Node -V for OpenAI call\n",
    "const { Configuration, OpenAIApi } = require( \"openai\" );\n",
    "\n",
    "const configuration = new Configuration( {\n",
    "    apiKey: process.env.OPENAI_API_KEY,\n",
    "} );\n",
    "const openai = new OpenAIApi( configuration );\n",
    "\n",
    "const response = await openai.createCompletion( {\n",
    "    model: \"text-davinci-003\",\n",
    "    prompt: \"Summarise the sections that are in the Comptia A+ 220-1101 certification exam.\\n\\nThe CompTIA A+ 220-1101 certification exam consists of five sections:\\n\\n1. Hardware: This section covers the installation, configuration, and maintenance of PC components, such as motherboards, processors, memory, storage, and power supplies.\\n\\n2. Networking: This section covers the basics of networking\",\n",
    "    temperature: 0.3,\n",
    "    max_tokens: 150,\n",
    "    top_p: 1,\n",
    "    frequency_penalty: 0,\n",
    "    presence_penalty: 0,\n",
    "} );\n",
    "\n",
    "export {};\n"
   ]
  },
  {
   "cell_type": "code",
   "execution_count": null,
   "metadata": {},
   "outputs": [],
   "source": [
    "# QRCode func\n",
    "import qrcode\n",
    "from qrcode import image\n",
    "\n",
    "\n",
    "# def generate_qr(data) -> BaseImage | PilImage | Any:\n",
    "def generate_qr(data):\n",
    "    qr = qrcode.QRCode(\n",
    "        version=1,\n",
    "        box_size=10,\n",
    "        border=5\n",
    "    )\n",
    "    # qr.add_data(data, optimize=5)\n",
    "    qr.add_data(data)\n",
    "    qr.make(fit=True)\n",
    "    \n",
    "    # img1: BaseImage | Unknown = qr.make_image()\n",
    "    # return img1\n",
    "    img = qrcode.QRCode.make_image\n",
    "    make_img = qr.make_image(\n",
    "        fill_color='black', back_color='white')\n",
    "    return make_img\n",
    "\n",
    "# data = \"https://www.himabalde.netlify.app\"\n",
    "data = \"https://www.github.com/bahim22/bahim22\"\n",
    "img = generate_qr(data)\n",
    "img.save('qr_code.png')"
   ]
  },
  {
   "cell_type": "code",
   "execution_count": null,
   "metadata": {},
   "outputs": [],
   "source": [
    "import cv2\n",
    "from pyzbar import pyzbar\n",
    "\n",
    "\n",
    "def read_qr(img_path):\n",
    "    # read image from fi\n",
    "    img2 = cv2.imread(img_path)\n",
    "\n",
    "    # find QR codes\n",
    "    decoded = pyzbar.decode(img2)\n",
    "\n",
    "    # extract data from QRcodes\n",
    "    for obj in decoded:\n",
    "        return obj.data.decode()\n",
    "\n",
    "\n",
    "# test read_qr func\n",
    "qr_data = read_qr('qr_code.png')\n",
    "print(qr_data)\n"
   ]
  },
  {
   "attachments": {},
   "cell_type": "markdown",
   "metadata": {},
   "source": [
    "## Contacting via cards and online\n",
    "# Address, CC, BCC, subject, body\n",
    "mailto:someone@yoursite.com?cc=someoneelse@theirsite.com,another@thatsite.com,me@mysite.com&bcc=lastperson@theirsite.com&subject=Big%20News&body=Body%20goes%20here.\n",
    "\n",
    "MECARD:N:Hima Balde;ORG:Dionysus Era;TEL:4125555555;URL:https\\://dev--himabalde.netlify.app/;EMAIL:ibalde@dionysuseradev.onmicrosoft.com;ADR:Pennsylvania;NOTE:Information Technology and Development ServicesCEO;;\n",
    "\n",
    "BEGIN:VEVENT\n",
    "SUMMARY:req event\n",
    "DTSTART;VALUE=DATE:20240113\n",
    "DTEND;VALUE=DATE:20240114\n",
    "LOCATION:Pittsburgh\n",
    "DESCRIPTION:event description!\n",
    "END:VEVENT\n",
    "\n",
    "\n",
    "\n",
    "MECARD:N:Owen,Sean;ADR:76 9th Avenue, 4th Floor, New York, NY 10011;TEL:12125551212;EMAIL:srowen@example.com;;\n",
    "\n",
    "BEGIN:VCARD\n",
    "VERSION:3.0\n",
    "N:Owen;Sean;;;\n",
    "FN:Sean Owen\n",
    "TITLE:Software Engineer\n",
    "EMAIL;TYPE=INTERNET;TYPE=WORK;TYPE=PREF:srowen@google.com\n",
    "URL;TYPE=Homepage:https://example.com\n",
    "END:VCARD\n",
    "\n",
    "BEGIN:VEVENT\n",
    "SUMMARY:Summer+Vacation!\n",
    "DTSTART:20180601T070000Z\n",
    "DTEND:20180831T070000Z\n",
    "END:VEVENT\n",
    "\n",
    "WIFI:T:WPA;S:mynetwork;P:mypass;;\n",
    "\n",
    "BEGIN:VEVENT\n",
    "SUMMARY:Summer+Vacation!\n",
    "DTSTART:20180601T070000Z\n",
    "DTEND:20180831T070000Z\n",
    "END:VEVENT"
   ]
  }
 ],
 "metadata": {
  "kernelspec": {
   "display_name": ".venv",
   "language": "python",
   "name": "python3"
  },
  "language_info": {
   "codemirror_mode": {
    "name": "ipython",
    "version": 3
   },
   "file_extension": ".py",
   "mimetype": "text/x-python",
   "name": "python",
   "nbconvert_exporter": "python",
   "pygments_lexer": "ipython3",
   "version": "3.10.6"
  },
  "orig_nbformat": 4,
  "vscode": {
   "interpreter": {
    "hash": "7f3abfc723bf13a883f46e30342236d635a22fb1fbb344f592fa3baf1c25b12f"
   }
  }
 },
 "nbformat": 4,
 "nbformat_minor": 2
}
