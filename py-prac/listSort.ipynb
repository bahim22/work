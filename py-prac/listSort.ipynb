{
 "cells": [
  {
   "cell_type": "code",
   "execution_count": null,
   "metadata": {},
   "outputs": [],
   "source": [
    "a_l1 = ['a', 'e', 'i']\n",
    "print(a_l1)"
   ]
  },
  {
   "cell_type": "code",
   "execution_count": null,
   "metadata": {},
   "outputs": [],
   "source": [
    "a_l1 += ['vet', 'dog']\n",
    "print(a_l1)\n"
   ]
  },
  {
   "cell_type": "code",
   "execution_count": null,
   "metadata": {},
   "outputs": [],
   "source": [
    "a_l += ['vet', 'dog']\n",
    "def str_add():\n",
    "    print(a_l)\n",
    "\n",
    "str_add()\n"
   ]
  },
  {
   "cell_type": "code",
   "execution_count": null,
   "metadata": {},
   "outputs": [],
   "source": [
    "sorted({\n",
    "    1: 'D', 2: 'B', 3: 'B', 4: 'K', 5: 'A'\n",
    "})\n",
    "\n",
    "# sorted"
   ]
  },
  {
   "cell_type": "markdown",
   "metadata": {},
   "source": []
  },
  {
   "cell_type": "code",
   "execution_count": null,
   "metadata": {},
   "outputs": [],
   "source": [
    "sorted(\"One flew over the\".split(), key=str.lower)"
   ]
  },
  {
   "cell_type": "code",
   "execution_count": null,
   "metadata": {},
   "outputs": [],
   "source": [
    "stffTuples = [\n",
    "    ('hima', 'front', 30),\n",
    "    ('adam', 'front', 10),\n",
    "    ('dan', 'side', 20),\n",
    "]\n",
    "\n",
    "sorted(stffTuples, key=lambda staff: staff[2])"
   ]
  },
  {
   "cell_type": "markdown",
   "metadata": {},
   "source": [
    "# Return a new list containing all items from the iterable in ascending order.\n",
    "\n",
    "# list.sort() method is only for lists, sorted() function accepts any iterable"
   ]
  },
  {
   "cell_type": "code",
   "execution_count": null,
   "metadata": {},
   "outputs": [],
   "source": [
    "sorted([5, 2, 3, 1, 4])\n",
    "a = [5,2,3,1,4]\n",
    "a.sort()\n",
    "a"
   ]
  },
  {
   "cell_type": "code",
   "execution_count": null,
   "metadata": {},
   "outputs": [],
   "source": [
    "import random\n",
    "random.choice(a)"
   ]
  },
  {
   "cell_type": "code",
   "execution_count": null,
   "metadata": {},
   "outputs": [],
   "source": [
    "a += [22]\n",
    "print(a)"
   ]
  },
  {
   "cell_type": "code",
   "execution_count": null,
   "metadata": {},
   "outputs": [],
   "source": [
    "import random as rd\n",
    "\n",
    "for _ in range(10):\n",
    "    x = rd.random()\n",
    "    print(x)"
   ]
  },
  {
   "cell_type": "code",
   "execution_count": null,
   "metadata": {},
   "outputs": [],
   "source": [
    "a = rd.randint(22, 50)\n",
    "\n",
    "\n",
    "b = [7,8,9,12,3]\n",
    "b.sort(reverse=True)\n",
    "b"
   ]
  },
  {
   "cell_type": "code",
   "execution_count": null,
   "metadata": {},
   "outputs": [],
   "source": [
    "# b.append([13,15])\n",
    "# b.extend((18,19))\n",
    "b.append((18,19))\n",
    "b"
   ]
  },
  {
   "cell_type": "code",
   "execution_count": null,
   "metadata": {},
   "outputs": [],
   "source": [
    "del(b[0])\n",
    "b"
   ]
  },
  {
   "cell_type": "code",
   "execution_count": null,
   "metadata": {},
   "outputs": [],
   "source": [
    "b.sort\n",
    "b"
   ]
  },
  {
   "cell_type": "code",
   "execution_count": null,
   "metadata": {},
   "outputs": [],
   "source": [
    "del(b[3][1])\n",
    "b"
   ]
  },
  {
   "cell_type": "code",
   "execution_count": null,
   "metadata": {},
   "outputs": [],
   "source": [
    "aa =  b\n",
    "aa"
   ]
  },
  {
   "cell_type": "code",
   "execution_count": null,
   "metadata": {},
   "outputs": [],
   "source": [
    "aa == b"
   ]
  },
  {
   "cell_type": "code",
   "execution_count": null,
   "metadata": {},
   "outputs": [],
   "source": [
    "aa"
   ]
  },
  {
   "cell_type": "code",
   "execution_count": null,
   "metadata": {},
   "outputs": [],
   "source": [
    "# sorted([aa], reverse=True)\n",
    "del(aa[3])\n",
    "# sorted(aa)\n",
    "aa"
   ]
  },
  {
   "cell_type": "code",
   "execution_count": null,
   "metadata": {},
   "outputs": [],
   "source": [
    "sorted(a, reverse=True)\n"
   ]
  },
  {
   "cell_type": "code",
   "execution_count": null,
   "metadata": {},
   "outputs": [],
   "source": [
    "a.sort()\n",
    "a"
   ]
  },
  {
   "cell_type": "code",
   "execution_count": null,
   "metadata": {},
   "outputs": [],
   "source": [
    "len(a)"
   ]
  },
  {
   "cell_type": "code",
   "execution_count": null,
   "metadata": {},
   "outputs": [],
   "source": [
    "ha = 'Hima Balde\\''\n",
    "hha = \"Hima Balde'\"\n",
    "\n",
    "print('''\\\n",
    "    Topic: Python\n",
    "    height:\"6 ' 3\"\n",
    "    height:6 \\' 3\n",
    "    version = 3.10\n",
    "    Date: Oct. 06\n",
    "''' + ha)"
   ]
  },
  {
   "cell_type": "code",
   "execution_count": null,
   "metadata": {},
   "outputs": [],
   "source": [
    "if ha == hha:\n",
    "    print('Statement is true')"
   ]
  },
  {
   "cell_type": "code",
   "execution_count": null,
   "metadata": {},
   "outputs": [],
   "source": [
    "h = 'hasn\\'t'\n",
    "hh = \"hasn't\"\n",
    "h == hh\n"
   ]
  },
  {
   "cell_type": "code",
   "execution_count": null,
   "metadata": {},
   "outputs": [],
   "source": [
    "print(hha + ' ' + h + ' ' + hh)"
   ]
  },
  {
   "cell_type": "code",
   "execution_count": null,
   "metadata": {},
   "outputs": [],
   "source": [
    "def lstr():\n",
    "    dataText = [{\"word\":\"kentucky\",\"score\":129541},{\"word\":\"pitt\",\"score\":64667}]\n",
    "    lst = []\n",
    "\n",
    "    # for i in data.text:\n",
    "    for i in dataText:\n",
    "        lst.insert(2, {\"Hima\":\"kdkkd\"})\n",
    "        # lst.append({\"word\": \"Hima\", \"score\": 13235})\n",
    "\n",
    "    print(lst)\n",
    "    # print(dataText)\n",
    "lstr()"
   ]
  },
  {
   "cell_type": "code",
   "execution_count": null,
   "metadata": {},
   "outputs": [],
   "source": [
    "def lstr():\n",
    "    dataText = [{\"word\":\"kentucky\",\"score\":129541},{\"word\":\"pitt\",\"score\":64667}]\n",
    "    lst = []\n",
    "\n",
    "    # for i in data.text:\n",
    "    for i in dataText:\n",
    "        # lst.insert(2, {\"Hima\":\"kdkkd\"})\n",
    "        lst.append({\"word\": \"Hima\", \"score\": 13235})\n",
    "\n",
    "    print(lst)\n",
    "    # print(dataText)\n",
    "lstr()"
   ]
  },
  {
   "cell_type": "code",
   "execution_count": null,
   "metadata": {},
   "outputs": [],
   "source": [
    "# Naming slices (slice(start, end, step))\n",
    "\n",
    "## create list w/ int in a range\n",
    "\n",
    "def makeLst(r1, r2):\n",
    "    if (r1 == r2):\n",
    "        return r1\n",
    "    else:\n",
    "        res = []\n",
    "\n",
    "        while(r1 < r2 + 1):\n",
    "            res.append(r1)\n",
    "            r1 += 1\n",
    "        return res\n",
    "\n",
    "# r1, r2 = -1, 2\n",
    "# print(makeLst(r1, r2))\n",
    "\n"
   ]
  },
  {
   "cell_type": "code",
   "execution_count": null,
   "metadata": {},
   "outputs": [],
   "source": [
    "print(makeLst(r1=1, r2=4))"
   ]
  },
  {
   "cell_type": "code",
   "execution_count": null,
   "metadata": {},
   "outputs": [],
   "source": [
    "r1, r2 = 0, 22\n",
    "a = makeLst(r1, r2)\n",
    "print(a)"
   ]
  },
  {
   "cell_type": "code",
   "execution_count": null,
   "metadata": {},
   "outputs": [],
   "source": [
    "last3 = slice(-3, None)\n",
    "print(last3)\n",
    "a[last3]"
   ]
  },
  {
   "cell_type": "code",
   "execution_count": null,
   "metadata": {},
   "outputs": [],
   "source": [
    "print(a)"
   ]
  }
 ],
 "metadata": {
  "kernelspec": {
   "display_name": ".venv",
   "language": "python",
   "name": "python3"
  },
  "language_info": {
   "codemirror_mode": {
    "name": "ipython",
    "version": 3
   },
   "file_extension": ".py",
   "mimetype": "text/x-python",
   "name": "python",
   "nbconvert_exporter": "python",
   "pygments_lexer": "ipython3",
   "version": "3.10.6 (main, Nov  2 2022, 18:53:38) [GCC 11.3.0]"
  },
  "orig_nbformat": 4,
  "vscode": {
   "interpreter": {
    "hash": "7f3abfc723bf13a883f46e30342236d635a22fb1fbb344f592fa3baf1c25b12f"
   }
  }
 },
 "nbformat": 4,
 "nbformat_minor": 2
}
