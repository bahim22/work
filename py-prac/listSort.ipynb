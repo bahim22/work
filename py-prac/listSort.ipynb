{
 "cells": [
  {
   "cell_type": "code",
   "execution_count": 6,
   "metadata": {},
   "outputs": [
    {
     "name": "stdout",
     "output_type": "stream",
     "text": [
      "['a', 'e', 'i']\n"
     ]
    }
   ],
   "source": [
    "a_l1 = ['a', 'e', 'i']\n",
    "print(a_l1)"
   ]
  },
  {
   "cell_type": "code",
   "execution_count": 7,
   "metadata": {},
   "outputs": [
    {
     "name": "stdout",
     "output_type": "stream",
     "text": [
      "['a', 'e', 'i', 'vet', 'dog']\n"
     ]
    }
   ],
   "source": [
    "a_l1 += ['vet', 'dog']\n",
    "print(a_l1)\n"
   ]
  },
  {
   "cell_type": "code",
   "execution_count": null,
   "metadata": {},
   "outputs": [],
   "source": [
    "a_l += ['vet', 'dog']\n",
    "def str_add():\n",
    "    print(a_l)\n",
    "\n",
    "str_add()\n"
   ]
  },
  {
   "cell_type": "code",
   "execution_count": 2,
   "metadata": {},
   "outputs": [
    {
     "data": {
      "text/plain": [
       "[1, 2, 3, 4, 5]"
      ]
     },
     "execution_count": 2,
     "metadata": {},
     "output_type": "execute_result"
    }
   ],
   "source": [
    "sorted({\n",
    "    1: 'D', 2: 'B', 3: 'B', 4: 'K', 5: 'A'\n",
    "})\n",
    "\n",
    "# sorted"
   ]
  },
  {
   "cell_type": "code",
   "execution_count": 4,
   "metadata": {},
   "outputs": [
    {
     "data": {
      "text/plain": [
       "['flew', 'One', 'over', 'the']"
      ]
     },
     "execution_count": 4,
     "metadata": {},
     "output_type": "execute_result"
    }
   ],
   "source": [
    "sorted(\"One flew over the\".split(), key=str.lower)"
   ]
  },
  {
   "cell_type": "code",
   "execution_count": 6,
   "metadata": {},
   "outputs": [
    {
     "data": {
      "text/plain": [
       "[('adam', 'front', 10), ('hickory', 'side', 20), ('hima', 'front', 30)]"
      ]
     },
     "execution_count": 6,
     "metadata": {},
     "output_type": "execute_result"
    }
   ],
   "source": [
    "staffTuples = [\n",
    "    ('hima', 'front', 30),\n",
    "    ('adam', 'front', 10),\n",
    "    ('hickory', 'side', 20),\n",
    "]\n",
    "\n",
    "sorted(staffTuples, key=lambda staff: staff[2])"
   ]
  },
  {
   "cell_type": "markdown",
   "metadata": {},
   "source": [
    "# Return a new list containing all items from the iterable in ascending order.\n",
    "\n",
    "# list.sort() method is only for lists, sorted() function accepts any iterable"
   ]
  },
  {
   "cell_type": "code",
   "execution_count": 41,
   "metadata": {},
   "outputs": [
    {
     "data": {
      "text/plain": [
       "[1, 2, 3, 4, 5]"
      ]
     },
     "execution_count": 41,
     "metadata": {},
     "output_type": "execute_result"
    }
   ],
   "source": [
    "sorted([5, 2, 3, 1, 4])\n",
    "a = [5,2,3,1,4]\n",
    "a.sort()\n",
    "a"
   ]
  },
  {
   "cell_type": "code",
   "execution_count": 42,
   "metadata": {},
   "outputs": [
    {
     "data": {
      "text/plain": [
       "4"
      ]
     },
     "execution_count": 42,
     "metadata": {},
     "output_type": "execute_result"
    }
   ],
   "source": [
    "import random\n",
    "random.choice(a)"
   ]
  },
  {
   "cell_type": "code",
   "execution_count": 47,
   "metadata": {},
   "outputs": [
    {
     "data": {
      "text/plain": [
       "[1, 2, 3, 4, 5, 2, 22]"
      ]
     },
     "execution_count": 47,
     "metadata": {},
     "output_type": "execute_result"
    }
   ],
   "source": [
    "a += [22]\n",
    "print(a)"
   ]
  },
  {
   "cell_type": "code",
   "execution_count": 7,
   "metadata": {},
   "outputs": [
    {
     "name": "stdout",
     "output_type": "stream",
     "text": [
      "0.9536657213040041\n",
      "0.7947924245772817\n",
      "0.7510375830602928\n",
      "0.6481281202248985\n",
      "0.3837310947689484\n",
      "0.09095477411886999\n",
      "0.5772112267521697\n",
      "0.16913487117408244\n",
      "0.5589828017713669\n",
      "0.30768990956850295\n"
     ]
    }
   ],
   "source": [
    "import random as rd\n",
    "\n",
    "for _ in range(10):\n",
    "    x = rd.random()\n",
    "    print(x)"
   ]
  },
  {
   "cell_type": "code",
   "execution_count": 13,
   "metadata": {},
   "outputs": [
    {
     "data": {
      "text/plain": [
       "[12, 9, 8, 7, 3]"
      ]
     },
     "execution_count": 13,
     "metadata": {},
     "output_type": "execute_result"
    }
   ],
   "source": [
    "a = rd.randint(22, 50)\n",
    "\n",
    "\n",
    "b = [7,8,9,12,3]\n",
    "b.sort(reverse=True)\n",
    "b"
   ]
  },
  {
   "cell_type": "code",
   "execution_count": 18,
   "metadata": {},
   "outputs": [
    {
     "data": {
      "text/plain": [
       "[12, 9, 8, 7, 3, [13, 15], 18, 19, (18, 19)]"
      ]
     },
     "execution_count": 18,
     "metadata": {},
     "output_type": "execute_result"
    }
   ],
   "source": [
    "# b.append([13,15])\n",
    "# b.extend((18,19))\n",
    "b.append((18,19))\n",
    "b"
   ]
  },
  {
   "cell_type": "code",
   "execution_count": 23,
   "metadata": {},
   "outputs": [
    {
     "data": {
      "text/plain": [
       "[8, 7, 3, [13, 15], 18, 19, (18, 19)]"
      ]
     },
     "execution_count": 23,
     "metadata": {},
     "output_type": "execute_result"
    }
   ],
   "source": [
    "del(b[0])\n",
    "b"
   ]
  },
  {
   "cell_type": "code",
   "execution_count": 25,
   "metadata": {},
   "outputs": [
    {
     "data": {
      "text/plain": [
       "[8, 7, 3, [13, 15], 18, 19, (18, 19)]"
      ]
     },
     "execution_count": 25,
     "metadata": {},
     "output_type": "execute_result"
    }
   ],
   "source": [
    "b.sort\n",
    "b"
   ]
  },
  {
   "cell_type": "code",
   "execution_count": 30,
   "metadata": {},
   "outputs": [
    {
     "data": {
      "text/plain": [
       "[8, 7, 3, [13], 18, 19, (18, 19)]"
      ]
     },
     "execution_count": 30,
     "metadata": {},
     "output_type": "execute_result"
    }
   ],
   "source": [
    "del(b[3][1])\n",
    "b"
   ]
  },
  {
   "cell_type": "code",
   "execution_count": 37,
   "metadata": {},
   "outputs": [
    {
     "data": {
      "text/plain": [
       "[8, 7, 3, [13], 18, 19, (18, 19)]"
      ]
     },
     "execution_count": 37,
     "metadata": {},
     "output_type": "execute_result"
    }
   ],
   "source": [
    "aa =  b\n",
    "aa"
   ]
  },
  {
   "cell_type": "code",
   "execution_count": 38,
   "metadata": {},
   "outputs": [
    {
     "data": {
      "text/plain": [
       "True"
      ]
     },
     "execution_count": 38,
     "metadata": {},
     "output_type": "execute_result"
    }
   ],
   "source": [
    "aa == b"
   ]
  },
  {
   "cell_type": "code",
   "execution_count": 48,
   "metadata": {},
   "outputs": [
    {
     "data": {
      "text/plain": [
       "[8, 7, 3, [13], 18, 19, (18, 19)]"
      ]
     },
     "execution_count": 48,
     "metadata": {},
     "output_type": "execute_result"
    }
   ],
   "source": [
    "aa"
   ]
  },
  {
   "cell_type": "code",
   "execution_count": 65,
   "metadata": {},
   "outputs": [
    {
     "data": {
      "text/plain": [
       "[8, 7, 3, 18, 19, (18, 19)]"
      ]
     },
     "execution_count": 65,
     "metadata": {},
     "output_type": "execute_result"
    }
   ],
   "source": [
    "# sorted([aa], reverse=True)\n",
    "del(aa[3])\n",
    "# sorted(aa)\n",
    "aa"
   ]
  },
  {
   "cell_type": "code",
   "execution_count": 71,
   "metadata": {},
   "outputs": [
    {
     "data": {
      "text/plain": [
       "[22, 5, 4, 3, 2, 2, 1]"
      ]
     },
     "execution_count": 71,
     "metadata": {},
     "output_type": "execute_result"
    }
   ],
   "source": [
    "sorted(a, reverse=True)\n"
   ]
  },
  {
   "cell_type": "code",
   "execution_count": 74,
   "metadata": {},
   "outputs": [
    {
     "data": {
      "text/plain": [
       "[1, 2, 2, 3, 4, 5, 22]"
      ]
     },
     "execution_count": 74,
     "metadata": {},
     "output_type": "execute_result"
    }
   ],
   "source": [
    "a.sort()\n",
    "a"
   ]
  },
  {
   "cell_type": "code",
   "execution_count": 72,
   "metadata": {},
   "outputs": [
    {
     "data": {
      "text/plain": [
       "7"
      ]
     },
     "execution_count": 72,
     "metadata": {},
     "output_type": "execute_result"
    }
   ],
   "source": [
    "len(a)"
   ]
  },
  {
   "cell_type": "code",
   "execution_count": 32,
   "metadata": {},
   "outputs": [
    {
     "name": "stdout",
     "output_type": "stream",
     "text": [
      "    Topic: Python\n",
      "    height:\"6 ' 3\"\n",
      "    height:6 ' 3\n",
      "    version = 3.10\n",
      "    Date: Oct. 06\n",
      "Hima Balde'\n"
     ]
    },
    {
     "data": {
      "text/plain": [
       "True"
      ]
     },
     "execution_count": 32,
     "metadata": {},
     "output_type": "execute_result"
    }
   ],
   "source": [
    "ha = 'Hima Balde\\''\n",
    "hha = \"Hima Balde'\"\n",
    "\n",
    "print('''\\\n",
    "    Topic: Python\n",
    "    height:\"6 ' 3\"\n",
    "    height:6 \\' 3\n",
    "    version = 3.10\n",
    "    Date: Oct. 06\n",
    "''' + ha)"
   ]
  },
  {
   "cell_type": "code",
   "execution_count": 35,
   "metadata": {},
   "outputs": [
    {
     "name": "stdout",
     "output_type": "stream",
     "text": [
      "Statement is true\n"
     ]
    }
   ],
   "source": [
    "if ha == hha:\n",
    "    print('Statement is true')"
   ]
  },
  {
   "cell_type": "code",
   "execution_count": 8,
   "metadata": {},
   "outputs": [
    {
     "data": {
      "text/plain": [
       "True"
      ]
     },
     "execution_count": 8,
     "metadata": {},
     "output_type": "execute_result"
    }
   ],
   "source": [
    "h = 'hasn\\'t'\n",
    "hh = \"hasn't\"\n",
    "h == hh\n"
   ]
  },
  {
   "cell_type": "code",
   "execution_count": 36,
   "metadata": {},
   "outputs": [
    {
     "name": "stdout",
     "output_type": "stream",
     "text": [
      "Hima Balde' hasn't hasn't\n"
     ]
    }
   ],
   "source": [
    "print(hha + ' ' + h + ' ' + hh)"
   ]
  },
  {
   "cell_type": "code",
   "execution_count": 18,
   "metadata": {},
   "outputs": [
    {
     "name": "stdout",
     "output_type": "stream",
     "text": [
      "[{'Hima': 'kdkkd'}, {'Hima': 'kdkkd'}]\n",
      "[{'word': 'kentucky', 'score': 129541}, {'word': 'pitt', 'score': 64667}]\n"
     ]
    }
   ],
   "source": [
    "def lstr():\n",
    "    dataText = [{\"word\":\"kentucky\",\"score\":129541},{\"word\":\"pitt\",\"score\":64667}]\n",
    "    lst = []\n",
    "\n",
    "    # for i in data.text:\n",
    "    for i in dataText:\n",
    "        lst.insert(2, {\"Hima\":\"kdkkd\"})\n",
    "        # lst.append({\"word\": \"Hima\", \"score\": 13235})\n",
    "\n",
    "    print(lst)\n",
    "    # print(dataText)\n",
    "lstr()"
   ]
  },
  {
   "cell_type": "code",
   "execution_count": 1,
   "metadata": {},
   "outputs": [
    {
     "name": "stdout",
     "output_type": "stream",
     "text": [
      "[{'word': 'Hima', 'score': 13235}, {'word': 'Hima', 'score': 13235}]\n"
     ]
    }
   ],
   "source": [
    "def lstr():\n",
    "    dataText = [{\"word\":\"kentucky\",\"score\":129541},{\"word\":\"pitt\",\"score\":64667}]\n",
    "    lst = []\n",
    "\n",
    "    # for i in data.text:\n",
    "    for i in dataText:\n",
    "        # lst.insert(2, {\"Hima\":\"kdkkd\"})\n",
    "        lst.append({\"word\": \"Hima\", \"score\": 13235})\n",
    "\n",
    "    print(lst)\n",
    "    # print(dataText)\n",
    "lstr()"
   ]
  },
  {
   "cell_type": "code",
   "execution_count": 1,
   "metadata": {},
   "outputs": [],
   "source": [
    "# Naming slices (slice(start, end, step))\n",
    "\n",
    "## create list w/ int in a range\n",
    "\n",
    "def makeLst(r1, r2):\n",
    "    if (r1 == r2):\n",
    "        return r1\n",
    "    else:\n",
    "        res = []\n",
    "\n",
    "        while(r1 < r2 + 1):\n",
    "            res.append(r1)\n",
    "            r1 += 1\n",
    "        return res\n",
    "\n",
    "# r1, r2 = -1, 2\n",
    "# print(makeLst(r1, r2))\n",
    "\n"
   ]
  },
  {
   "cell_type": "code",
   "execution_count": 5,
   "metadata": {},
   "outputs": [
    {
     "name": "stdout",
     "output_type": "stream",
     "text": [
      "[1, 2, 3, 4]\n"
     ]
    }
   ],
   "source": [
    "print(makeLst(r1=1, r2=4))"
   ]
  },
  {
   "cell_type": "code",
   "execution_count": 6,
   "metadata": {},
   "outputs": [
    {
     "name": "stdout",
     "output_type": "stream",
     "text": [
      "[0, 1, 2, 3, 4, 5, 6, 7, 8, 9, 10, 11, 12, 13, 14, 15, 16, 17, 18, 19, 20, 21, 22]\n"
     ]
    }
   ],
   "source": [
    "r1, r2 = 0, 22\n",
    "a = makeLst(r1, r2)\n",
    "print(a)"
   ]
  },
  {
   "cell_type": "code",
   "execution_count": 8,
   "metadata": {},
   "outputs": [
    {
     "name": "stdout",
     "output_type": "stream",
     "text": [
      "slice(-3, None, None)\n"
     ]
    },
    {
     "data": {
      "text/plain": [
       "[3, 4, 5]"
      ]
     },
     "execution_count": 8,
     "metadata": {},
     "output_type": "execute_result"
    }
   ],
   "source": [
    "last3 = slice(-3, None)\n",
    "print(last3)\n",
    "a[last3]"
   ]
  },
  {
   "cell_type": "code",
   "execution_count": 7,
   "metadata": {},
   "outputs": [
    {
     "name": "stdout",
     "output_type": "stream",
     "text": [
      "[0, 1, 2, 3, 4, 5]\n"
     ]
    }
   ],
   "source": [
    "print(a)"
   ]
  }
 ],
 "metadata": {
  "kernelspec": {
   "display_name": "Python 3.8.10 ('.venv': venv)",
   "language": "python",
   "name": "python3"
  },
  "language_info": {
   "codemirror_mode": {
    "name": "ipython",
    "version": 3
   },
   "file_extension": ".py",
   "mimetype": "text/x-python",
   "name": "python",
   "nbconvert_exporter": "python",
   "pygments_lexer": "ipython3",
   "version": "3.8.10"
  },
  "orig_nbformat": 4,
  "vscode": {
   "interpreter": {
    "hash": "3bbfbb50d7f9d1744171a66d1182335b07328b0cb7bc3f83512aab5e969c6d77"
   }
  }
 },
 "nbformat": 4,
 "nbformat_minor": 2
}
