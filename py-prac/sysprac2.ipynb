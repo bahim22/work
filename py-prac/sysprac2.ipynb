{
 "cells": [
  {
   "attachments": {},
   "cell_type": "markdown",
   "metadata": {},
   "source": [
    "# OS Python prac\n"
   ]
  },
  {
   "cell_type": "code",
   "execution_count": null,
   "metadata": {},
   "outputs": [],
   "source": [
    "import getpass\n",
    "import os\n",
    "\n",
    "# getpass.getuser()\n",
    "os.uname()\n"
   ]
  },
  {
   "cell_type": "code",
   "execution_count": null,
   "metadata": {},
   "outputs": [],
   "source": [
    "os.getcwd()\n"
   ]
  },
  {
   "cell_type": "code",
   "execution_count": null,
   "metadata": {},
   "outputs": [],
   "source": [
    "os.lstat(os.getcwd())\n"
   ]
  },
  {
   "cell_type": "code",
   "execution_count": null,
   "metadata": {},
   "outputs": [],
   "source": [
    "# from os import mkdir\n",
    "\n",
    "os.makedirs('one', mode=0o777, exist_ok=False)\n",
    "os.mkdir('../new')\n",
    "\n",
    "os.remove('one')  # os.unlink('path')\n",
    "os.removedirs('../new')\n",
    "os.rmdir('test')\n",
    "\n",
    "# os.path.join(os.path.dirname('one'), result)\n",
    "# convert relative pathname to absolute\n",
    "\n",
    "os.rename('srcDir', 'dstDir', src_dir_fd=None, dst_dir_fd=None)\n",
    "os.renames('oldName', 'newName')\n"
   ]
  },
  {
   "cell_type": "code",
   "execution_count": null,
   "metadata": {},
   "outputs": [],
   "source": [
    "# from os import mkdir\n",
    "\n",
    "os.makedirs('one', mode=0o777, exist_ok=False)\n",
    "os.mkdir('../new')\n",
    "\n",
    "os.remove('one', )  # os.unlink('path')\n",
    "os.removedirs('../new')\n",
    "os.rmdir('Test')\n",
    "\n",
    "os.path.join(os.path.dirname('one'))\n",
    "# converts relative pathname to absolute\n",
    "\n",
    "os.rename('srcDir', 'dstDir', src_dir_fd=None, dst_dir_fd=None)\n",
    "os.renames('oldName', 'newName')\n",
    "\n",
    "os.removedirs('../.venv/pipCache/http/')\n",
    "\n",
    "os.path.join('../sample1/', 'sample3/')\n"
   ]
  },
  {
   "cell_type": "code",
   "execution_count": null,
   "metadata": {},
   "outputs": [],
   "source": []
  },
  {
   "cell_type": "code",
   "execution_count": null,
   "metadata": {},
   "outputs": [],
   "source": [
    "os.renames('prac9.ipynb', 'sysprac.ipynb')\n",
    "os.renames('../Docs2/OsScriptDoc.md', '../Docs2/os_install.md')\n",
    "\n",
    "# os.renames('prac9.ipynb', 'sysprac.ipynb')\n",
    "os.renames('prac01_1.ipynb', 'file_open.ipynb')\n"
   ]
  },
  {
   "cell_type": "code",
   "execution_count": null,
   "metadata": {},
   "outputs": [],
   "source": [
    "# scan dir for files and print output\n",
    "\n",
    "# os.scandir('../new') |\n",
    "\n",
    "with os.scandir(os.getcwd()) as sc_it:\n",
    "    for file_name in sc_it:\n",
    "        if not file_name.name.startswith('.') and file_name.is_file():\n",
    "            print(file_name)\n"
   ]
  },
  {
   "cell_type": "code",
   "execution_count": null,
   "metadata": {},
   "outputs": [],
   "source": [
    "import os\n",
    "\n",
    "statinfo = os.stat('dev.env')\n",
    "print(statinfo, sep='next item: ')\n",
    "# print(statinfo.st_size)\n"
   ]
  },
  {
   "attachments": {},
   "cell_type": "markdown",
   "metadata": {},
   "source": [
    "os.stat_result class is an object that has attributes that correspond w/ stat structure\n",
    "\n",
    "- st_mode = file mode, permissions\n",
    "- st_uid<gid> = user id of file | group owner\n",
    "- st_size = size in bytes\n",
    "- st_atime,mtime, atime_ns, birthtime, creator, type\n"
   ]
  },
  {
   "cell_type": "code",
   "execution_count": null,
   "metadata": {},
   "outputs": [],
   "source": [
    "os.statvfs('./')\n",
    "# returns object whose attributes describe fs (statvfs structure)\n"
   ]
  },
  {
   "cell_type": "code",
   "execution_count": null,
   "metadata": {},
   "outputs": [],
   "source": [
    "os.symlink('src', 'dst')\n"
   ]
  },
  {
   "cell_type": "code",
   "execution_count": null,
   "metadata": {},
   "outputs": [],
   "source": [
    "os.walk('top', topdown=True, onerror=None, followlinks=False)\n",
    "# create filenames in dir tree; yields 3-tuple (dirpath, dirnames, filenames)\n",
    "os.path.join('dirpath', 'name')\n",
    "# get full path to file or dir in dirpath attributes\n"
   ]
  },
  {
   "attachments": {},
   "cell_type": "markdown",
   "metadata": {},
   "source": [
    "# Process Management\n"
   ]
  },
  {
   "cell_type": "code",
   "execution_count": null,
   "metadata": {},
   "outputs": [],
   "source": [
    "import os\n",
    "import sys\n",
    "\n",
    "\n",
    "def run_exe():\n",
    "    os.execl('./openPrac.py', './dev.env')\n",
    "\n",
    "\n",
    "sys.exit()\n",
    "\n",
    "# os._exit(n)\n",
    "# or os.abort()\n",
    "\n",
    "# execvpe, execlpe\n",
    "# execl(file: StrOrBytesPath, __arg0: StrOrBytesPath, *args: StrOrBytesPath)\n",
    "\n",
    "'''\n",
    "exec new program, replacing current one and don't return\n",
    "if data is buffered on the open files, flush them w/ sys.stdout.flush() or os.fsync() prior to next exec func call\n",
    "\n",
    "content = run_exe().getvalue()\n",
    "'''\n"
   ]
  },
  {
   "cell_type": "code",
   "execution_count": null,
   "metadata": {},
   "outputs": [],
   "source": [
    "import io\n",
    "\n",
    "output = io.StringIO()\n",
    "output.write('line one.\\n')\n",
    "print('line two.', file=output)\n",
    "\n",
    "content = output.getvalue()\n",
    "output.close  # close obj & discard mem buff\n"
   ]
  },
  {
   "attachments": {},
   "cell_type": "markdown",
   "metadata": {},
   "source": [
    "# Misc OS interfaces\n",
    "\n",
    "```py\n",
    "import os\n",
    "\n",
    "os.kill(__pid: int, __signal: int, /)\n",
    "\n",
    "os.startfile(path[, operation][, arguments][, cwd][, show_cmd])\n",
    "os.system('command')\n",
    "os.times()\n",
    "```\n"
   ]
  },
  {
   "cell_type": "code",
   "execution_count": null,
   "metadata": {},
   "outputs": [],
   "source": [
    "os.cpu_count()  # 12 return n of CPUs in system\n",
    "len(os.sched_getaffinity(0))  # n of usable CPUs\n",
    "os.confstr_names  # dict mapping names accepted by confstr() to the int val defined for the names by the host OS\n",
    "os.getloadavg(), os.sysconf('name'), os.sysconf_names\n"
   ]
  },
  {
   "cell_type": "code",
   "execution_count": null,
   "metadata": {},
   "outputs": [],
   "source": [
    "os.getrandom(size=888, flags=0), os.urandom(1024)\n"
   ]
  },
  {
   "cell_type": "code",
   "execution_count": null,
   "metadata": {},
   "outputs": [],
   "source": [
    "import os\n",
    "\n",
    "os.remove('../requirements3.txt')\n",
    "os.removedirs('./Dirname')\n",
    "os.renames('../PipRep.json', '../.venv/Reports')\n",
    "\n",
    "# To-Do: Need to decide what I want it to do and adjust\n",
    "import os\n",
    "import sys\n",
    "\n",
    "\n",
    "def try_path(head, tail):\n",
    "    # old = str(input('Enter # of hours worked per week: '))\n",
    "    old = str(input('Enter name of old dir: '))\n",
    "    new = str(input('Enter new name for old dir: '))\n",
    "    if head and tail and not os.path.exists(head):\n",
    "        os.makedirs(head)\n",
    "    os.rename(old, new)\n",
    "    head, tail = os.path.split(old)\n",
    "    if head and tail:\n",
    "        print('file renamed')\n"
   ]
  },
  {
   "cell_type": "code",
   "execution_count": null,
   "metadata": {},
   "outputs": [],
   "source": [
    "def os_info():\n",
    "    return os.uname(), os.getpid(), os.getuid()\n",
    "\n",
    "\n",
    "os_info()\n"
   ]
  },
  {
   "cell_type": "code",
   "execution_count": null,
   "metadata": {},
   "outputs": [],
   "source": [
    "import os\n",
    "import time\n",
    "\n",
    "\n",
    "def dir_info(dir=os.getcwd(), file='./convFunc.ipynb'):\n",
    "    opath = os.path\n",
    "    return opath.isdir, opath.curdir, opath.getsize(file)\n"
   ]
  },
  {
   "cell_type": "code",
   "execution_count": null,
   "metadata": {},
   "outputs": [],
   "source": [
    "dir_info()\n"
   ]
  },
  {
   "cell_type": "code",
   "execution_count": null,
   "metadata": {},
   "outputs": [],
   "source": [
    "import os\n",
    "import time\n",
    "\n",
    "\n",
    "def dir_info2(req_dir, dir='/home/ib-ub/flow/work', file='./convFunc.ipynb'):\n",
    "    opath = os.path\n",
    "    # new_dir(req_dir, dir)\n",
    "    cwdir = os.getcwd()\n",
    "    if opath.isdir(cwdir):\n",
    "        return opath.curdir, opath.getsize(file)\n",
    "    else:\n",
    "        print(f'Directory: {cwdir} doesn\\'t exist')\n"
   ]
  },
  {
   "cell_type": "code",
   "execution_count": null,
   "metadata": {},
   "outputs": [],
   "source": [
    "dir_info2(req_dir='dev.env')\n"
   ]
  },
  {
   "cell_type": "code",
   "execution_count": null,
   "metadata": {},
   "outputs": [],
   "source": [
    "def new_dir(dir_name, req_dir=''):\n",
    "    if dir_name != os.getcwd():\n",
    "        base_dir = os.path.join(dir_name, req_dir)\n",
    "    else:\n",
    "        base_dir = req_dir + dir_name\n",
    "        if os.path.isdir(base_dir):\n",
    "            isDir = print(f'Directory: {base_dir} exists')\n",
    "        else:\n",
    "            isNotDir = print(f'{base_dir} doesn\\'t exist')\n",
    "\n",
    "\n",
    "new_dir('/home/ib-ub/flow/work', req_dir='Docs2/')\n"
   ]
  },
  {
   "cell_type": "code",
   "execution_count": null,
   "metadata": {},
   "outputs": [],
   "source": [
    "def new_dir(dir_name, req_dir=''):\n",
    "    if dir_name == os.getcwd():\n",
    "        base_dir = os.path.join(dir_name, req_dir)\n",
    "    else:\n",
    "        base_dir = dir_name + req_dir\n",
    "    print(f'{base_dir}')\n"
   ]
  },
  {
   "cell_type": "code",
   "execution_count": null,
   "metadata": {},
   "outputs": [],
   "source": [
    "def new_dir(dir_name=os.getcwd(), req_dir=''):\n",
    "    if dir_name == os.getcwd():\n",
    "        base_dir = os.path.join(dir_name, req_dir)\n",
    "    else:\n",
    "        base_dir = dir_name + req_dir\n",
    "        return os.path.isdir(base_dir)\n",
    "    print(f'{base_dir}')\n"
   ]
  },
  {
   "cell_type": "code",
   "execution_count": null,
   "metadata": {},
   "outputs": [],
   "source": [
    "new_dir(dir_name=os.getcwd(), req_dir='dev.env')\n"
   ]
  },
  {
   "cell_type": "code",
   "execution_count": null,
   "metadata": {},
   "outputs": [],
   "source": [
    "new_dir(dir_name=os.getcwd(), req_dir='dev.env')\n"
   ]
  },
  {
   "cell_type": "code",
   "execution_count": null,
   "metadata": {},
   "outputs": [],
   "source": [
    "def new_dir(dir_name=os.getcwd(), req_dir=''):\n",
    "    if dir_name == os.getcwd():\n",
    "        base_dir = os.path.join(dir_name, req_dir)\n",
    "    else:\n",
    "        base_dir = dir_name + req_dir\n",
    "    print(f'{os.path.isdir(base_dir)}')\n",
    "    print(f'{base_dir}')\n",
    "    print(f'{base_dir} is not a dir')\n"
   ]
  },
  {
   "cell_type": "code",
   "execution_count": null,
   "metadata": {},
   "outputs": [],
   "source": [
    "new_dir(req_dir='dev.env')\n"
   ]
  },
  {
   "cell_type": "code",
   "execution_count": null,
   "metadata": {},
   "outputs": [],
   "source": [
    "dir_info2('./black')\n"
   ]
  },
  {
   "cell_type": "code",
   "execution_count": null,
   "metadata": {},
   "outputs": [],
   "source": [
    "dir_info('./black')\n"
   ]
  },
  {
   "cell_type": "code",
   "execution_count": null,
   "metadata": {},
   "outputs": [],
   "source": [
    "# def get_file_time(file, opath):\n",
    "#     file_info = opath.getmtime(file)\n",
    "#     print(time.ctime.file_info)\n",
    "import os\n",
    "import time\n",
    "\n",
    "\n",
    "def get_file_time(file='./dev.env', opath=os.path):\n",
    "    file_info = opath.getmtime(file)\n",
    "    # print(time.ctime(file_info))\n",
    "    return time.ctime(file_info)\n",
    "\n",
    "\n",
    "get_file_time()\n"
   ]
  },
  {
   "cell_type": "code",
   "execution_count": null,
   "metadata": {},
   "outputs": [],
   "source": [
    "get_file_time('prac9.ipynb')\n"
   ]
  }
 ],
 "metadata": {
  "kernelspec": {
   "display_name": ".venv",
   "language": "python",
   "name": "python3"
  },
  "language_info": {
   "codemirror_mode": {
    "name": "ipython",
    "version": 3
   },
   "file_extension": ".py",
   "mimetype": "text/x-python",
   "name": "python",
   "nbconvert_exporter": "python",
   "pygments_lexer": "ipython3",
   "version": "3.10.6 (main, Nov 14 2022, 16:10:14) [GCC 11.3.0]"
  },
  "orig_nbformat": 4,
  "vscode": {
   "interpreter": {
    "hash": "7f3abfc723bf13a883f46e30342236d635a22fb1fbb344f592fa3baf1c25b12f"
   }
  }
 },
 "nbformat": 4,
 "nbformat_minor": 2
}
