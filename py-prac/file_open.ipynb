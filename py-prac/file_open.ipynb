{
 "cells": [
  {
   "attachments": {},
   "cell_type": "markdown",
   "metadata": {},
   "source": [
    "# Prac file opening, printing and json module\n",
    "\n",
    "## Import library/modules => open json file => load as variable name\n"
   ]
  },
  {
   "cell_type": "code",
   "execution_count": 1,
   "metadata": {},
   "outputs": [],
   "source": [
    "import json"
   ]
  },
  {
   "cell_type": "code",
   "execution_count": 6,
   "metadata": {},
   "outputs": [],
   "source": [
    "# with open('data/monthlySalesbyCategoryMultiple.json') as json_data:\n",
    "with open('../Data/sample-return/data/DelveData.jsonc') as json_data:\n",
    "    d = json.load(json_data)\n",
    "    print(d)"
   ]
  },
  {
   "cell_type": "code",
   "execution_count": 11,
   "metadata": {},
   "outputs": [],
   "source": [
    "def json_open2(file=''):\n",
    "    '''\n",
    "        import json and create func with file param \n",
    "        and ask for input on script init\n",
    "\n",
    "        open, load, then print the file w/ json\n",
    "    '''\n",
    "    import os\n",
    "    from sys import path\n",
    "\n",
    "    file = str(input('Enter full path to json filename: '))\n",
    "    if os.path.isfile(file):\n",
    "        with open(file) as data:\n",
    "            dd = json.load(data)\n",
    "            print(dd)\n",
    "    else:\n",
    "        print(f'{file} does not exist.')"
   ]
  },
  {
   "cell_type": "code",
   "execution_count": 17,
   "metadata": {},
   "outputs": [],
   "source": [
    "def json_open(file=''):\n",
    "    '''\n",
    "        import json and create func with file param \n",
    "        and ask for input on script init\n",
    "        open, load, then print the file w/ json\n",
    "        if file doesn't exist print error\n",
    "    '''\n",
    "    import os\n",
    "    from sys import path\n",
    "    from pprint import pprint as pp\n",
    "\n",
    "    if file == '':\n",
    "        file = str(input('Enter full path to json filename: '))\n",
    "    else:\n",
    "        file = file\n",
    "    if os.path.isfile(file):\n",
    "        with open(file) as data:\n",
    "            dd = json.load(data)\n",
    "            pp(dd)\n",
    "    else:\n",
    "        print(f'{file} does not exist.')\n"
   ]
  },
  {
   "cell_type": "code",
   "execution_count": null,
   "metadata": {},
   "outputs": [],
   "source": [
    "\"\"\"\n",
    "    function called and succeeded:\n",
    "        pretty printed ( and reg print) json data\n",
    "        printed error if file couldn't be found\n",
    "        requested user input for file if not explicitly stated \n",
    "            with param during func call\n",
    "\n",
    "\"\"\"\n",
    "\n",
    "json_open('../Data/sample-return/data/DelveData.jsonc')"
   ]
  },
  {
   "cell_type": "code",
   "execution_count": null,
   "metadata": {},
   "outputs": [],
   "source": [
    "from pprint import pprint as pp\n",
    "pp(d)"
   ]
  },
  {
   "cell_type": "code",
   "execution_count": 19,
   "metadata": {},
   "outputs": [
    {
     "name": "stdout",
     "output_type": "stream",
     "text": [
      "Line Count: 43\n"
     ]
    }
   ],
   "source": [
    "fOpen = open('conv.py')\n",
    "count = 0\n",
    "\n",
    "for line in fOpen:\n",
    "    count = count + 1\n",
    "print('Line Count:', count)"
   ]
  },
  {
   "cell_type": "code",
   "execution_count": null,
   "metadata": {},
   "outputs": [],
   "source": [
    "fOpen = open('cleanfiles.py')\n",
    "print(len(fOpen.read()))\n",
    "# inp = fOpen.read()\n",
    "# print(len(inp))"
   ]
  },
  {
   "cell_type": "code",
   "execution_count": 28,
   "metadata": {},
   "outputs": [],
   "source": [
    "def file_length(file=''):\n",
    "    # Can default to only asking for file or allow param at script init\n",
    "    # file = str(input('Enter full path to json filename: '))\n",
    "    # fOpen = open(file)\n",
    "    from os import path\n",
    "    \n",
    "    if file == '':\n",
    "        file = str(input('Enter full path to filename: '))\n",
    "    else:\n",
    "        file = file\n",
    "    if path.isfile(file):\n",
    "        # f_open = open(file)\n",
    "        # inp = f_open.read()\n",
    "        file_length = len(open(file).read())\n",
    "        print(f'The specified file is: {file_length} lines long')\n",
    "        # print(f'The specified file is: {len(inp)} lines long')\n",
    "    else:\n",
    "        print('File doesn\\'t exist')\n",
    "# print(len(fOpen.read()))"
   ]
  },
  {
   "cell_type": "code",
   "execution_count": 29,
   "metadata": {},
   "outputs": [
    {
     "name": "stdout",
     "output_type": "stream",
     "text": [
      "The specified file is: 242 lines long\n"
     ]
    }
   ],
   "source": [
    "file_length()"
   ]
  },
  {
   "cell_type": "code",
   "execution_count": 47,
   "metadata": {},
   "outputs": [],
   "source": [
    "def file_open():\n",
    "    fOpen = open('conv.py')\n",
    "\n",
    "    count = 0\n",
    "\n",
    "    for _ in fOpen:\n",
    "        count += 1\n",
    "    f_len = char_len()\n",
    "    # f_length = len(fOpen.read())\n",
    "    print(f'Line Count: {count} \\\n",
    "           \\n  Character Count: {f_len}')\n",
    "\n",
    "def char_len():\n",
    "    f_length = len(open('conv.py').read())\n",
    "    return f_length\n"
   ]
  },
  {
   "cell_type": "code",
   "execution_count": 48,
   "metadata": {},
   "outputs": [
    {
     "name": "stdout",
     "output_type": "stream",
     "text": [
      "Line Count: 43            \n",
      "  Character Count: 1007\n"
     ]
    }
   ],
   "source": [
    "file_open()"
   ]
  },
  {
   "cell_type": "code",
   "execution_count": null,
   "metadata": {},
   "outputs": [],
   "source": [
    "import filecmp\n",
    "\n",
    "f1 = '../requirements.txt'\n",
    "f2 = '../requirements3.txt'\n",
    "\n",
    "r = filecmp.cmp(f1, f2, shallow=False)\n",
    "print(r)"
   ]
  },
  {
   "cell_type": "code",
   "execution_count": null,
   "metadata": {},
   "outputs": [],
   "source": [
    "open_f1 = open(f1, 'r')\n",
    "open_f2 = open(f2, 'r')\n",
    "\n",
    "i = 0\n",
    "\n",
    "for line1 in open_f1:\n",
    "    i += 1\n",
    "    total = i.__add__(i) / 2\n",
    "    print('File 1 Line #: ', i,' Total file 1 lines: ', total)\n",
    "\n",
    "x = 0\n",
    "\n",
    "for line2 in open_f2:\n",
    "    x += 1\n",
    "    total = x\n",
    "    print('File 2 Line #: ', x,'Total file 2 lines: ', total)\n",
    "\n",
    "open_f1.close()\n",
    "open_f2.close()"
   ]
  },
  {
   "cell_type": "code",
   "execution_count": null,
   "metadata": {},
   "outputs": [],
   "source": [
    "open_f1 = open(f1, 'r')\n",
    "open_f2 = open(f2, 'r')\n",
    "\n",
    "i = 0\n",
    "\n",
    "for line1 in open_f1:\n",
    "    i += 1\n",
    "\n",
    "    for line2 in open_f2:\n",
    "\n",
    "        if line1 == line2:\n",
    "            print('Line ', i, ': Identical')\n",
    "        else:\n",
    "            print('Line ', i, ':')\n",
    "\n",
    "            print('\\tFile 1:', line1, end='')\n",
    "            print('\\tFile 2:', line2, end='')\n",
    "        break\n",
    "    \n",
    "open_f1.close()\n",
    "open_f2.close()"
   ]
  },
  {
   "cell_type": "code",
   "execution_count": 52,
   "metadata": {},
   "outputs": [
    {
     "name": "stdout",
     "output_type": "stream",
     "text": [
      "[4, 20, 5.0] []\n",
      "[4, 20, 5.0]\n",
      "[4, 20, 5.0], 1.6, [6, 6, 6, 6]\n",
      "[4, 20, 5.0] 1.6 5 2\n"
     ]
    }
   ],
   "source": [
    "# general math\n",
    "mth = [2 + 2,\n",
    "50 - 5*6,\n",
    "(50- 5*6) / 4]\n",
    "\n",
    "x, y = list(mth), list()\n",
    "print(x,y)\n",
    "\n",
    "sum(x)\n",
    "print(x)\n",
    "\n",
    "mth2 = 8 / 5 # classic div. returns float (floating point number)\n",
    "mth3 = 17 // 3 \n",
    "# floor div discards frac part; div that rounds down to nearest int.\n",
    "mt3 = 16 * 2\n",
    "mt4 = 17 % 3 # the % operator will return remainder after reg. div.\n",
    "mt5 = 5 * 3 + 2 # floored quotient * divisor + remainder\n",
    "\n",
    "print(f'{mth}, {mth2}, {list([6,6,6,6])}')\n",
    "print(mth, mth2, mth3, mt4)"
   ]
  }
 ],
 "metadata": {
  "kernelspec": {
   "display_name": "Python 3.8.10 ('.venv': venv)",
   "language": "python",
   "name": "python3"
  },
  "language_info": {
   "codemirror_mode": {
    "name": "ipython",
    "version": 3
   },
   "file_extension": ".py",
   "mimetype": "text/x-python",
   "name": "python",
   "nbconvert_exporter": "python",
   "pygments_lexer": "ipython3",
   "version": "3.8.10"
  },
  "orig_nbformat": 4,
  "vscode": {
   "interpreter": {
    "hash": "3bbfbb50d7f9d1744171a66d1182335b07328b0cb7bc3f83512aab5e969c6d77"
   }
  }
 },
 "nbformat": 4,
 "nbformat_minor": 2
}
