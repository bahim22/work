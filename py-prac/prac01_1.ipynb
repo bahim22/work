{
 "cells": [
  {
   "cell_type": "markdown",
   "metadata": {},
   "source": [
    "# Import necessary library/modules and open json file and load as variable name"
   ]
  },
  {
   "cell_type": "code",
   "execution_count": 1,
   "metadata": {},
   "outputs": [],
   "source": [
    "import json"
   ]
  },
  {
   "cell_type": "code",
   "execution_count": 2,
   "metadata": {},
   "outputs": [],
   "source": [
    "with open('data\\monthlySalesbyCategoryMultiple.json') as json_data:\n",
    "    d = json.load(json_data)"
   ]
  },
  {
   "cell_type": "code",
   "execution_count": null,
   "metadata": {},
   "outputs": [],
   "source": [
    "from pprint import pprint as pp\n",
    "pp(d)"
   ]
  },
  {
   "cell_type": "code",
   "execution_count": null,
   "metadata": {},
   "outputs": [],
   "source": [
    "fOpen = open('cleanfiles.py')\n",
    "count = 0\n",
    "\n",
    "for line in fOpen:\n",
    "    count = count + 1\n",
    "print('Line Count:', count)"
   ]
  },
  {
   "cell_type": "code",
   "execution_count": null,
   "metadata": {},
   "outputs": [],
   "source": [
    "fOpen = open('cleanfiles.py')\n",
    "print(len(fOpen.read()))\n",
    "# inp = fOpen.read()\n",
    "# print(len(inp))"
   ]
  },
  {
   "cell_type": "code",
   "execution_count": null,
   "metadata": {},
   "outputs": [],
   "source": [
    "fOpen = open('./data/DelveData.jsonc')\n",
    "\n",
    "count = 0\n",
    "\n",
    "for _ in fOpen:\n",
    "    count += 1\n",
    "print('Line Count: ', count)\n",
    "\n",
    "# print(len(fOpen.read()))\n",
    "inp = fOpen.read()\n",
    "print(len(inp))"
   ]
  },
  {
   "cell_type": "code",
   "execution_count": 4,
   "metadata": {},
   "outputs": [],
   "source": [
    "# general math\n",
    "mth = [2 + 2,\n",
    "50 - 5*6,\n",
    "(50- 5*6) / 4]\n",
    "\n",
    "mth2 = 8 / 5 # classic div. returns float (floating point number)\n",
    "mth3 = 17 // 3 # floor div discards frac part; div that rounds down to nearest int.\n",
    "mt4 = 17 % 3 # the % operator will return remainder after reg. div.\n",
    "mt5 = 5 * 3 + 2 # floored quotient * divisor + remainder"
   ]
  },
  {
   "cell_type": "code",
   "execution_count": 5,
   "metadata": {},
   "outputs": [
    {
     "name": "stdout",
     "output_type": "stream",
     "text": [
      "[4, 20, 5.0] 1.6 5 2 17\n"
     ]
    }
   ],
   "source": [
    "print(mth, mth2, mth3, mt4, mt5)"
   ]
  },
  {
   "cell_type": "code",
   "execution_count": null,
   "metadata": {},
   "outputs": [],
   "source": [
    "# Create a virtualized Python environment in a directory.\n",
    "# - env_dir is the target directory to create an environment in.\n",
    "\n",
    "import os\n",
    "\n",
    "def create(self, env_dir):\n",
    "    \"\"\"\n",
    "        init a venv\n",
    "    \"\"\"\n",
    "    env_dir = os.path.abspath(env_dir)\n",
    "    context = self.ensure_directories(env_dir)\n",
    "    self.create_configuration(context)\n",
    "    self.setup_python(context)\n",
    "    self.setup_scripts(context)\n",
    "    self.post_setup(context)"
   ]
  }
 ],
 "metadata": {
  "kernelspec": {
   "display_name": "Python 3.8.10 64-bit",
   "language": "python",
   "name": "python3"
  },
  "language_info": {
   "codemirror_mode": {
    "name": "ipython",
    "version": 3
   },
   "file_extension": ".py",
   "mimetype": "text/x-python",
   "name": "python",
   "nbconvert_exporter": "python",
   "pygments_lexer": "ipython3",
   "version": "3.8.10"
  },
  "orig_nbformat": 4,
  "vscode": {
   "interpreter": {
    "hash": "916dbcbb3f70747c44a77c7bcd40155683ae19c65e1c03b4aa3499c5328201f1"
   }
  }
 },
 "nbformat": 4,
 "nbformat_minor": 2
}
