{
 "cells": [
  {
   "cell_type": "code",
   "execution_count": null,
   "metadata": {},
   "outputs": [],
   "source": [
    "=> Faiz/Matt chng ? harp/prz == ftstaff  && !temp : \n"
   ]
  },
  {
   "cell_type": "code",
   "execution_count": 2,
   "metadata": {},
   "outputs": [],
   "source": [
    "import os\n",
    "def get_env(name2):\n",
    "    if name2 in os.environ:\n",
    "        return os.environ.get(name2)\n",
    "    return None"
   ]
  },
  {
   "cell_type": "code",
   "execution_count": 4,
   "metadata": {},
   "outputs": [],
   "source": [
    "def get_env_2(get_var):\n",
    "    var2 = os.environ.get('get_var', 'NONE')\n",
    "    assert var2 != 'NONE'\n",
    "    return var2\n"
   ]
  },
  {
   "cell_type": "markdown",
   "metadata": {},
   "source": [
    "os.path is either posixpath or ntpath\n",
    "os.name is either 'posix' or 'nt'\n",
    "os.curdir is a string representing the current directory (always '.')\n",
    "os.pardir is a string representing the parent directory (always '..')\n",
    "os.sep is the (or a most common) pathname separator ('/' or '\\')\n",
    "os.extsep is the extension separator (always '.')\n",
    "os.altsep is the alternate pathname separator (None or '/')\n",
    "os.pathsep is the component separator used in $PATH etc\n",
    "os.linesep is the line separator in text files ('\\r' or '\\n' or '\\r\\n')\n",
    "os.defpath is the default search path for executables\n",
    "os.devnull is the file path of the null device ('/dev/null', etc.)"
   ]
  },
  {
   "cell_type": "markdown",
   "metadata": {},
   "source": [
    "\n",
    "# add ADUser to ADGroup dist email\n",
    "\n",
    "a\n",
    "```js\n",
    "const admins = ab\n",
    "const admins2 = abb\n",
    "\n",
    "changer(users) =>{\n",
    "   const change = users.hr && users.pr == fts && !temp : admins change ? users.hr\n",
    "} \n",
    "```\n",
    "\n",
    "```ps1\n",
    "Add-ADGroupMember -Identity IT_Local -Members Alma.Martin\n",
    "Get-ADPrincipalGroupMembership -Identity Alma.Martin\n",
    "Function groupadd\n",
    "\n",
    " {\n",
    "\n",
    "param ($group)\n",
    "\n",
    "foreach ( $user in (Import-Csv .\\users.csv | select -ExpandProperty identity))\n",
    "\n",
    "{\n",
    "\n",
    "$u = (Get-ADUser -Identity $user).distinguishedName\n",
    "\n",
    "$g = Get-ADGroupMember -Identity $group| select -ExpandProperty distinguishedname\n",
    "\n",
    "If ( $g -contains $u ) {\n",
    "\n",
    "    Write-Host \" $user already exists in $group group\"\n",
    "\n",
    "}\n",
    "\n",
    "Else {\n",
    "\n",
    "   Add-ADGroupMember $group -Members $u\n",
    "\n",
    "   Write-host \" $user added to $group group successfully”  \n",
    "\n",
    "} }\n",
    "\n",
    "}\n",
    "\n",
    "#  create a profile in $profile path.\n",
    "New-Item -ItemType file -Path $PROFILE -Force\n",
    "\n",
    "# open/edit profile\n",
    "Notepad $profile\n",
    "```\n"
   ]
  },
  {
   "cell_type": "code",
   "execution_count": null,
   "metadata": {},
   "outputs": [],
   "source": [
    "import win32com, win32com.client\n",
    "import pythoncom\n",
    "\n",
    "def add_group_member( groupLoc, group, userLoc, user ):\n",
    "   try:\n",
    "      ad_obj=win32com.client.GetObject( \"LDAP://cn=%s,%s\" % (group, groupLoc) )\n",
    "      ad_obj.Add( \"LDAP://cn=%s,%s\" % (user, userLoc)  )\n",
    "      ad_obj.SetInfo()\n",
    "   except pythoncom.com_error,( hr,msg,exc,arg ):\n",
    "      print \"Error adding user %s to group %s...\" % (user, group)\n",
    "      print hr, msg, exc, arg\n",
    "\n",
    "groupLoc = \"ou=Friends,dc=Winslow,dc=residence\"\n",
    "userLoc = \"cn=Users,dc=Winslow,dc=residence\"\n",
    "add_group_member( groupLoc, \"Neighbours\", userLoc, \"Steve Urkel\" )"
   ]
  },
  {
   "cell_type": "code",
   "execution_count": null,
   "metadata": {},
   "outputs": [],
   "source": [
    "from pyad import aduser\n",
    "from pyad import adgroup\n",
    "\n",
    "## Set AD Group Values (values derived from CN or Common Name of the AD Group)\n",
    "test_group = \"xxxxx-YYYYY-TEST-ZZZZ\"\n",
    "\n",
    "## Create List of Code IDs to be added\n",
    "code_list = [\"123456\", \"234567\", \"345678\"]\n",
    "\n",
    "## Add Users to TEST AD Group using the Pyad library\n",
    "for user in code_list:  \n",
    "    users = aduser.ADUser.from_cn(user)\n",
    "    test_group = adgroup.ADGroup.from_cn(test_group)\n",
    "    test_group.add_members(users)"
   ]
  },
  {
   "cell_type": "code",
   "execution_count": null,
   "metadata": {},
   "outputs": [],
   "source": [
    "import ldap3\n",
    "\n",
    "server = ldap3.Server('ldap.example.com')\n",
    "conn = ldap3.Connection(server, user='user', password='password', auto_bind=True)\n",
    "\n",
    "conn.add('cn=jsmith,cn=Users,dc=example,dc=com', 'user', {'sAMAccountName': 'jsmith', 'userPrincipalName': 'jsmith', 'givenName': 'John', 'sn': 'Smith'})\n",
    "conn.extend.microsoft.add_members_to_groups('cn=jsmith,cn=Users,dc=example,dc=com', 'cn=My Group,cn=Users,dc=example,dc=com')\n",
    "\n",
    "conn.unbind()"
   ]
  }
 ],
 "metadata": {
  "kernelspec": {
   "display_name": "Python 3.8.10 ('.venv': venv)",
   "language": "python",
   "name": "python3"
  },
  "language_info": {
   "codemirror_mode": {
    "name": "ipython",
    "version": 3
   },
   "file_extension": ".py",
   "mimetype": "text/x-python",
   "name": "python",
   "nbconvert_exporter": "python",
   "pygments_lexer": "ipython3",
   "version": "3.8.10"
  },
  "orig_nbformat": 4,
  "vscode": {
   "interpreter": {
    "hash": "b545f1625fa56386fc450cd6d102702e190f03a0da4ad1b1a1c1e8ddc5f87243"
   }
  }
 },
 "nbformat": 4,
 "nbformat_minor": 2
}
