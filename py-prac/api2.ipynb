{
 "cells": [
  {
   "cell_type": "code",
   "execution_count": null,
   "metadata": {},
   "outputs": [],
   "source": [
    "import ldap\n",
    "import json\n",
    "import requests\n",
    "# *! ToDo\n",
    "\n",
    "# Connect to AD\n",
    "con = ldap.initialize('ldap://ad.example.com')\n",
    "con.bind('cn=admin,dc=example,dc=com', 'password')\n",
    "\n",
    "# Search for the user account in AD\n",
    "result = con.search_s('dc=example,dc=com',\n",
    "                      ldap.SCOPE_SUBTREE, '(sAMAccountName=john.doe)')\n",
    "\n",
    "# If the user account is found, create a ticket in the ticketing system\n",
    "if len(result) > 0:\n",
    "  user = result[0]\n",
    "  ticket = {\n",
    "      'summary': 'Account issue for {}'.format(user[1]['cn'][0]),\n",
    "      'description': 'There is an issue with the account for {}. Please investigate.'.format(user[1]['cn'][0]),\n",
    "      'priority': 'High'\n",
    "  }\n",
    "  r = requests.post('https://ticketing.example.com/api/tickets', json=ticket)\n",
    "  if r.status_code == 201:\n",
    "    print('Ticket created successfully')\n",
    "  else:\n",
    "    print('Error creating ticket: {}'.format(r.text))\n",
    "else:\n",
    "  print('User not found')\n",
    "\n",
    "# Close the connection to AD\n",
    "con.unbind()\n"
   ]
  },
  {
   "cell_type": "code",
   "execution_count": null,
   "metadata": {},
   "outputs": [],
   "source": [
    "# Requests: HTTP library => Basic GET & POST usage:\n",
    "# *! Review ->\n",
    "\n",
    "import requests\n",
    "r = requests.get('https://www.python.org')\n",
    "r.status_code\n",
    "# 200\n",
    "# b'Python is a programming language' in r.content\n",
    "print(b'Python is a programming language' in r.content)\n",
    "# True\n",
    "\n",
    "payload = dict(key1='value1', key2='value2')\n",
    "r = requests.post('https://httpbin.org/post', data=payload)\n",
    "print(r.text)\n",
    "\"\"\" \n",
    "{\n",
    "    \"form\": {\n",
    "        \"key1\": \"value1\",\n",
    "        \"key2\": \"value2\"\n",
    "    },\n",
    "} \n",
    "\"\"\""
   ]
  },
  {
   "cell_type": "code",
   "execution_count": null,
   "metadata": {
    "vscode": {
     "languageId": "shellscript"
    }
   },
   "outputs": [],
   "source": [
    "# FS API \n",
    "curl - v - u ibalde@pointpark.freshservice.com: $FS_API_KEY - X GET'https://pointpark.freshservice.com/api/v2/agents?active=true'\n",
    "\n",
    "curl - v - u key123: X - X GET 'https://pointpark.freshservice.com/api/v2/departments'\n",
    "\n",
    "# ** Close connection => req\n",
    "\n",
    "curl - v - u key123: X - H \"Connection: close\" \"https://pointpark.freshservice.com\"\n",
    "\n",
    "# Microsoft Graph Explorer\n",
    "https://developer.microsoft.com/en-us/graph/graph-explorer?request=me&method=GET&version=v1.0&GraphUrl=https://graph.microsoft.com\n"
   ]
  },
  {
   "attachments": {},
   "cell_type": "markdown",
   "metadata": {},
   "source": [
    "### Calling OpenAI via API"
   ]
  },
  {
   "cell_type": "code",
   "execution_count": null,
   "metadata": {},
   "outputs": [],
   "source": [
    "import os\n",
    "import openai\n",
    "\n",
    "openai.api_key = os.getenv(\"OPENAI_API_KEY\")\n",
    "\n",
    "response = openai.Completion.create(\n",
    "    model='text-davinci-003',\n",
    "    prompt='Summarise the sections that are in the Comptia A+ 220-1101 certification exam.\\n\\n',\n",
    "    temparature=0.3,\n",
    "    max_tokens=150,\n",
    "    top_p=1,\n",
    "    frequency_penalty=0,\n",
    "    presence_penalty=0\n",
    ")"
   ]
  },
  {
   "cell_type": "code",
   "execution_count": null,
   "metadata": {
    "vscode": {
     "languageId": "shellscript"
    }
   },
   "outputs": [],
   "source": [
    "curl https://api.openapi.com/v1/completions \\\n",
    "    -H \"Content-Type: application/json\" \\\n",
    "    -H \"Autorization: Bearer $OPENAI_API_KEY\" \\\n",
    "    -d '{\n",
    "    'model' = 'text-davinci-003',\n",
    "    'prompt' = 'Summarise the sections that are in the Comptia A+ 220-1101 certification exam.\\n\\n',\n",
    "    'temparature' = 0.3,\n",
    "    'max_tokens' = 150,\n",
    "    'top_p' = 1,\n",
    "    'frequency_penalty' = 0,\n",
    "    'presence_penalty' = 0\n",
    "    }'"
   ]
  },
  {
   "cell_type": "code",
   "execution_count": null,
   "metadata": {
    "vscode": {
     "languageId": "javascript"
    }
   },
   "outputs": [],
   "source": [
    "// @ts-nocheck\n",
    "// Node -V for OpenAI call\n",
    "const { Configuration, OpenAIApi } = require( \"openai\" );\n",
    "\n",
    "const configuration = new Configuration( {\n",
    "    apiKey: process.env.OPENAI_API_KEY,\n",
    "} );\n",
    "const openai = new OpenAIApi( configuration );\n",
    "\n",
    "const response = await openai.createCompletion( {\n",
    "    model: \"text-davinci-003\",\n",
    "    prompt: \"Summarise the sections that are in the Comptia A+ 220-1101 certification exam.\\n\\nThe CompTIA A+ 220-1101 certification exam consists of five sections:\\n\\n1. Hardware: This section covers the installation, configuration, and maintenance of PC components, such as motherboards, processors, memory, storage, and power supplies.\\n\\n2. Networking: This section covers the basics of networking\",\n",
    "    temperature: 0.3,\n",
    "    max_tokens: 150,\n",
    "    top_p: 1,\n",
    "    frequency_penalty: 0,\n",
    "    presence_penalty: 0,\n",
    "} );\n",
    "\n",
    "export {};\n"
   ]
  }
 ],
 "metadata": {
  "kernelspec": {
   "display_name": ".venv",
   "language": "python",
   "name": "python3"
  },
  "language_info": {
   "name": "python",
   "version": "3.10.6 (main, Nov 14 2022, 16:10:14) [GCC 11.3.0]"
  },
  "orig_nbformat": 4,
  "vscode": {
   "interpreter": {
    "hash": "7f3abfc723bf13a883f46e30342236d635a22fb1fbb344f592fa3baf1c25b12f"
   }
  }
 },
 "nbformat": 4,
 "nbformat_minor": 2
}
