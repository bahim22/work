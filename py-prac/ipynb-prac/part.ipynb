{
 "cells": [
  {
   "cell_type": "code",
   "execution_count": null,
   "metadata": {},
   "outputs": [],
   "source": [
    "def ft_pay(hrs_wrk, salary):\n",
    "    base_pay = float(input(\"Enter your hourly pay rate: \"))\n",
    "\n"
   ]
  },
  {
   "cell_type": "code",
   "execution_count": null,
   "metadata": {},
   "outputs": [],
   "source": [
    "def pt_pay(hrs_wrk, wage):\n",
    "    if hrs_wrk <= 34:\n",
    "        return hrs_wrk * wage - (35000 / 12)\n",
    "    else:\n",
    "        return hrs_wrk * wage"
   ]
  },
  {
   "cell_type": "code",
   "execution_count": 1,
   "metadata": {},
   "outputs": [
    {
     "name": "stdout",
     "output_type": "stream",
     "text": [
      "500.0\n"
     ]
    }
   ],
   "source": [
    "biweekly_hours = 35 * 2\n",
    "bi_lunch_hours = 10 * 1\n",
    "ft_base = 35000\n",
    "pt_hours = 25 * 2\n",
    "pt_pay_base = 18\n",
    "\n",
    "biweek_pay = ft_base / biweekly_hours\n",
    "\n",
    "print(biweek_pay)\n"
   ]
  },
  {
   "cell_type": "code",
   "execution_count": null,
   "metadata": {},
   "outputs": [],
   "source": [
    "print(f'The T1 tech is paid a ${ft_base} salary, which is equivalent to {ft_base / 12}')"
   ]
  }
 ],
 "metadata": {
  "kernelspec": {
   "display_name": "Python 3.8.10 ('.venv': venv)",
   "language": "python",
   "name": "python3"
  },
  "language_info": {
   "codemirror_mode": {
    "name": "ipython",
    "version": 3
   },
   "file_extension": ".py",
   "mimetype": "text/x-python",
   "name": "python",
   "nbconvert_exporter": "python",
   "pygments_lexer": "ipython3",
   "version": "3.8.10"
  },
  "orig_nbformat": 4,
  "vscode": {
   "interpreter": {
    "hash": "3bbfbb50d7f9d1744171a66d1182335b07328b0cb7bc3f83512aab5e969c6d77"
   }
  }
 },
 "nbformat": 4,
 "nbformat_minor": 2
}
