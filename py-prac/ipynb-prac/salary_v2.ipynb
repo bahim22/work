{
 "cells": [
  {
   "cell_type": "code",
   "execution_count": 1,
   "metadata": {},
   "outputs": [
    {
     "name": "stdout",
     "output_type": "stream",
     "text": [
      "The full-time employee has a higher salary at 2321.6        and works 144 hours         the pt employee makes: 1276.0         and works 100.\n"
     ]
    }
   ],
   "source": [
    "# Define constants for tax and insurance rates\n",
    "TAX_RATE = 0.22\n",
    "INSURANCE_RATE = 0.07\n",
    "\n",
    "# Define a function to calculate the salary for a full-time employee\n",
    "def calculate_full_time_salary(hours, rate):\n",
    "  # Calculate the gross salary\n",
    "  gross_salary = hours * rate\n",
    "\n",
    "  # Calculate the tax amount\n",
    "  tax = gross_salary * TAX_RATE\n",
    "\n",
    "  # Calculate the insurance amount\n",
    "  insurance = gross_salary * INSURANCE_RATE\n",
    "\n",
    "  # Calculate the net salary\n",
    "  net_salary = ((gross_salary - tax) * 4) + 200\n",
    "\n",
    "  return net_salary\n",
    "\n",
    "# Define a function to calculate the salary for a part-time employee\n",
    "def calculate_part_time_salary(hours, rate):\n",
    "  # Calculate the gross salary\n",
    "  gross_salary = hours * rate\n",
    "\n",
    "  # Calculate the tax amount\n",
    "  tax, insurance = gross_salary * TAX_RATE, 50\n",
    "\n",
    "  # Calculate the net salary\n",
    "  net_salary = ((gross_salary - tax) * 4) - insurance\n",
    "\n",
    "  return net_salary\n",
    "\n",
    "# Compare the salaries of full-time and part-time employees\n",
    "full_time_hours = 40\n",
    "full_time_rate = 17\n",
    "monthy_hours_ft = (full_time_hours * 4) - 16\n",
    "full_time_salary = calculate_full_time_salary(full_time_hours, full_time_rate)\n",
    "\n",
    "part_time_hours = 25\n",
    "monthy_hours_pt = part_time_hours * 4\n",
    "part_time_rate = 17\n",
    "part_time_salary = calculate_part_time_salary(part_time_hours, part_time_rate)\n",
    "\n",
    "if full_time_salary > part_time_salary:\n",
    "  print(f\"The full-time employee has a higher salary at {full_time_salary} \\\n",
    "        and works {monthy_hours_ft} hours \\\n",
    "        the pt employee makes: {part_time_salary} \\\n",
    "        and works {monthy_hours_pt}.\")\n",
    "elif full_time_salary < part_time_salary:\n",
    "  print(\"The part-time employee has a higher salary.\")\n",
    "else:\n",
    "  print(\"The full-time and part-time employees have the same salary.\")\n"
   ]
  },
  {
   "cell_type": "code",
   "execution_count": 2,
   "metadata": {},
   "outputs": [
    {
     "name": "stdout",
     "output_type": "stream",
     "text": [
      "full time salary:  2321.6\n"
     ]
    }
   ],
   "source": [
    "print(\"full time salary: \", full_time_salary )\n",
    "print(\"part time salary: \", part_time_salary)\n"
   ]
  },
  {
   "cell_type": "code",
   "execution_count": null,
   "metadata": {},
   "outputs": [],
   "source": [
    "# original prog before updates above\n",
    "\n",
    "# Define constants for tax and insurance rates\n",
    "TAX_RATE = 0.15\n",
    "INSURANCE_RATE = 0.05\n",
    "\n",
    "# Define a function to calculate the salary for a full-time employee\n",
    "def calculate_full_time_salary(hours, rate):\n",
    "  # Calculate the gross salary\n",
    "  gross_salary = hours * rate\n",
    "\n",
    "  # Calculate the tax amount\n",
    "  tax = gross_salary * TAX_RATE\n",
    "\n",
    "  # Calculate the insurance amount\n",
    "  insurance = gross_salary * INSURANCE_RATE\n",
    "\n",
    "  # Calculate the net salary\n",
    "  net_salary = gross_salary - tax - insurance\n",
    "\n",
    "  return net_salary\n",
    "\n",
    "# Define a function to calculate the salary for a part-time employee\n",
    "def calculate_part_time_salary(hours, rate):\n",
    "  # Calculate the gross salary\n",
    "  gross_salary = hours * rate\n",
    "\n",
    "  # Calculate the tax amount\n",
    "  tax = gross_salary * TAX_RATE\n",
    "\n",
    "  # Calculate the net salary\n",
    "  net_salary = gross_salary - tax\n",
    "\n",
    "  return net_salary\n",
    "\n",
    "# Compare the salaries of full-time and part-time employees\n",
    "full_time_hours = 40\n",
    "full_time_rate = 15\n",
    "full_time_salary = calculate_full_time_salary(full_time_hours, full_time_rate)\n",
    "\n",
    "part_time_hours = 20\n",
    "part_time_rate = 12\n",
    "part_time_salary = calculate_part_time_salary(part_time_hours, part_time_rate)\n",
    "\n",
    "if full_time_salary > part_time_salary:\n",
    "  print(\"The full-time employee has a higher salary.\")\n",
    "elif full_time_salary < part_time_salary:\n",
    "  print(\"The part-time employee has a higher salary.\")\n",
    "else:\n",
    "  print(\"The full-time and part-time employees have the same salary.\")\n"
   ]
  }
 ],
 "metadata": {
  "kernelspec": {
   "display_name": ".venv",
   "language": "python",
   "name": "python3"
  },
  "language_info": {
   "codemirror_mode": {
    "name": "ipython",
    "version": 3
   },
   "file_extension": ".py",
   "mimetype": "text/x-python",
   "name": "python",
   "nbconvert_exporter": "python",
   "pygments_lexer": "ipython3",
   "version": "3.10.6 (main, Nov 14 2022, 16:10:14) [GCC 11.3.0]"
  },
  "vscode": {
   "interpreter": {
    "hash": "7f3abfc723bf13a883f46e30342236d635a22fb1fbb344f592fa3baf1c25b12f"
   }
  }
 },
 "nbformat": 4,
 "nbformat_minor": 2
}
