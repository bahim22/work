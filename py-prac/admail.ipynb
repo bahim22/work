{
 "cells": [
  {
   "cell_type": "markdown",
   "metadata": {},
   "source": [
    "\n",
    "# add ADUser to ADGroup dist email\n",
    "\n",
    "a\n",
    "```js\n",
    "const admins = ab\n",
    "const admins2 = abb\n",
    "\n",
    "changer(users) =>{\n",
    "   const change = users.hr && users.pr == fts && !temp : admins change ? users.hr\n",
    "} \n",
    "```\n",
    "\n",
    "```ps1\n",
    "Add-ADGroupMember -Identity IT_Local -Members Alma.Martin\n",
    "Get-ADPrincipalGroupMembership -Identity Alma.Martin\n",
    "Function groupadd\n",
    "\n",
    " {\n",
    "\n",
    "param ($group)\n",
    "\n",
    "foreach ( $user in (Import-Csv .\\users.csv | select -ExpandProperty identity))\n",
    "\n",
    "{\n",
    "\n",
    "$u = (Get-ADUser -Identity $user).distinguishedName\n",
    "\n",
    "$g = Get-ADGroupMember -Identity $group| select -ExpandProperty distinguishedname\n",
    "\n",
    "If ( $g -contains $u ) {\n",
    "\n",
    "    Write-Host \" $user already exists in $group group\"\n",
    "\n",
    "}\n",
    "\n",
    "Else {\n",
    "\n",
    "   Add-ADGroupMember $group -Members $u\n",
    "\n",
    "   Write-host \" $user added to $group group successfully”  \n",
    "\n",
    "} }\n",
    "\n",
    "}\n",
    "\n",
    "#  create a profile in $profile path.\n",
    "New-Item -ItemType file -Path $PROFILE -Force\n",
    "\n",
    "# open/edit profile\n",
    "Notepad $profile\n",
    "```\n"
   ]
  },
  {
   "cell_type": "code",
   "execution_count": null,
   "metadata": {},
   "outputs": [],
   "source": [
    "import win32com, win32com.client\n",
    "import pythoncom\n",
    "\n",
    "def add_group_member( groupLoc, group, userLoc, user ):\n",
    "   try:\n",
    "      ad_obj=win32com.client.GetObject( \"LDAP://cn=%s,%s\" % (group, groupLoc) )\n",
    "      ad_obj.Add( \"LDAP://cn=%s,%s\" % (user, userLoc)  )\n",
    "      ad_obj.SetInfo()\n",
    "   except pythoncom.com_error,( hr,msg,exc,arg ):\n",
    "      print \"Error adding user %s to group %s...\" % (user, group)\n",
    "      print hr, msg, exc, arg\n",
    "\n",
    "groupLoc = \"ou=Friends,dc=Winslow,dc=residence\"\n",
    "userLoc = \"cn=Users,dc=Winslow,dc=residence\"\n",
    "add_group_member( groupLoc, \"Neighbours\", userLoc, \"Steve Urkel\" )"
   ]
  },
  {
   "cell_type": "code",
   "execution_count": null,
   "metadata": {},
   "outputs": [],
   "source": [
    "from pyad import aduser\n",
    "from pyad import adgroup\n",
    "\n",
    "## Set AD Group Values (values derived from CN or Common Name of the AD Group)\n",
    "test_group = \"xxxxx-YYYYY-TEST-ZZZZ\"\n",
    "\n",
    "## Create List of Code IDs to be added\n",
    "code_list = [\"123456\", \"234567\", \"345678\"]\n",
    "\n",
    "## Add Users to TEST AD Group using the Pyad library\n",
    "for user in code_list:  \n",
    "    users = aduser.ADUser.from_cn(user)\n",
    "    test_group = adgroup.ADGroup.from_cn(test_group)\n",
    "    test_group.add_members(users)"
   ]
  },
  {
   "cell_type": "code",
   "execution_count": null,
   "metadata": {},
   "outputs": [],
   "source": [
    "import ldap3\n",
    "\n",
    "server = ldap3.Server('ldap.example.com')\n",
    "conn = ldap3.Connection(server, user='user', password='password', auto_bind=True)\n",
    "\n",
    "conn.add('cn=jsmith,cn=Users,dc=example,dc=com', 'user', {'sAMAccountName': 'jsmith', 'userPrincipalName': 'jsmith', 'givenName': 'John', 'sn': 'Smith'})\n",
    "conn.extend.microsoft.add_members_to_groups('cn=jsmith,cn=Users,dc=example,dc=com', 'cn=My Group,cn=Users,dc=example,dc=com')\n",
    "\n",
    "conn.unbind()"
   ]
  }
 ],
 "metadata": {
  "kernelspec": {
   "display_name": "Python 3.8.10 64-bit",
   "language": "python",
   "name": "python3"
  },
  "language_info": {
   "codemirror_mode": {
    "name": "ipython",
    "version": 3
   },
   "file_extension": ".py",
   "mimetype": "text/x-python",
   "name": "python",
   "nbconvert_exporter": "python",
   "pygments_lexer": "ipython3",
   "version": "3.8.10"
  },
  "orig_nbformat": 4,
  "vscode": {
   "interpreter": {
    "hash": "916dbcbb3f70747c44a77c7bcd40155683ae19c65e1c03b4aa3499c5328201f1"
   }
  }
 },
 "nbformat": 4,
 "nbformat_minor": 2
}
